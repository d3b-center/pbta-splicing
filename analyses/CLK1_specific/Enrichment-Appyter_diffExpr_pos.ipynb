{
 "cells": [
  {
   "cell_type": "markdown",
   "metadata": {},
   "source": [
    "# Enrichment Analysis Visualizer\n",
    "\n",
    "This appyter creates a variety of visualizations for enrichment analysis results for one selected Enrichr library, and may be run as either a standalone appyter from the [Appyter Catalog](https://appyters.maayanlab.cloud/#/Enrichment_Analysis_Visualizer) or programmatically from the [Enrichr](https://maayanlab.cloud/Enrichr/) results page. \n",
    "\n",
    "For simplicity, the only inputs for this appyter are a gene list and one library. Other parameters are set to default values in the cell below. You can download the notebook, change these parameters, and rerun it if you wish.\n",
    "\n",
    "The pre-processed libraries used to create the scatter plot and hexagonal canvas visualizations can be found [here](https://github.com/MaayanLab/Enrichr-Viz-Appyter/tree/master/Enrichr-Processed-Library-Storage). \n",
    "\n",
    "**A link to the full analysis results on the Enrichr website can be found at the bottom of this page.**"
   ]
  },
  {
   "cell_type": "code",
   "execution_count": 1,
   "metadata": {
    "execution": {
     "iopub.execute_input": "2021-12-07T21:00:38.352685Z",
     "iopub.status.busy": "2021-12-07T21:00:38.351457Z",
     "iopub.status.idle": "2021-12-07T21:00:41.037301Z",
     "shell.execute_reply": "2021-12-07T21:00:41.037931Z"
    }
   },
   "outputs": [
    {
     "data": {
      "text/html": [
       "\n",
       "    <div class=\"bk-root\">\n",
       "        <a href=\"https://bokeh.org\" target=\"_blank\" class=\"bk-logo bk-logo-small bk-logo-notebook\"></a>\n",
       "        <span id=\"1002\">Loading BokehJS ...</span>\n",
       "    </div>"
      ]
     },
     "metadata": {},
     "output_type": "display_data"
    },
    {
     "data": {
      "application/javascript": [
       "\n",
       "(function(root) {\n",
       "  function now() {\n",
       "    return new Date();\n",
       "  }\n",
       "\n",
       "  var force = true;\n",
       "\n",
       "  if (typeof root._bokeh_onload_callbacks === \"undefined\" || force === true) {\n",
       "    root._bokeh_onload_callbacks = [];\n",
       "    root._bokeh_is_loading = undefined;\n",
       "  }\n",
       "\n",
       "  var JS_MIME_TYPE = 'application/javascript';\n",
       "  var HTML_MIME_TYPE = 'text/html';\n",
       "  var EXEC_MIME_TYPE = 'application/vnd.bokehjs_exec.v0+json';\n",
       "  var CLASS_NAME = 'output_bokeh rendered_html';\n",
       "\n",
       "  /**\n",
       "   * Render data to the DOM node\n",
       "   */\n",
       "  function render(props, node) {\n",
       "    var script = document.createElement(\"script\");\n",
       "    node.appendChild(script);\n",
       "  }\n",
       "\n",
       "  /**\n",
       "   * Handle when an output is cleared or removed\n",
       "   */\n",
       "  function handleClearOutput(event, handle) {\n",
       "    var cell = handle.cell;\n",
       "\n",
       "    var id = cell.output_area._bokeh_element_id;\n",
       "    var server_id = cell.output_area._bokeh_server_id;\n",
       "    // Clean up Bokeh references\n",
       "    if (id != null && id in Bokeh.index) {\n",
       "      Bokeh.index[id].model.document.clear();\n",
       "      delete Bokeh.index[id];\n",
       "    }\n",
       "\n",
       "    if (server_id !== undefined) {\n",
       "      // Clean up Bokeh references\n",
       "      var cmd = \"from bokeh.io.state import curstate; print(curstate().uuid_to_server['\" + server_id + \"'].get_sessions()[0].document.roots[0]._id)\";\n",
       "      cell.notebook.kernel.execute(cmd, {\n",
       "        iopub: {\n",
       "          output: function(msg) {\n",
       "            var id = msg.content.text.trim();\n",
       "            if (id in Bokeh.index) {\n",
       "              Bokeh.index[id].model.document.clear();\n",
       "              delete Bokeh.index[id];\n",
       "            }\n",
       "          }\n",
       "        }\n",
       "      });\n",
       "      // Destroy server and session\n",
       "      var cmd = \"import bokeh.io.notebook as ion; ion.destroy_server('\" + server_id + \"')\";\n",
       "      cell.notebook.kernel.execute(cmd);\n",
       "    }\n",
       "  }\n",
       "\n",
       "  /**\n",
       "   * Handle when a new output is added\n",
       "   */\n",
       "  function handleAddOutput(event, handle) {\n",
       "    var output_area = handle.output_area;\n",
       "    var output = handle.output;\n",
       "\n",
       "    // limit handleAddOutput to display_data with EXEC_MIME_TYPE content only\n",
       "    if ((output.output_type != \"display_data\") || (!Object.prototype.hasOwnProperty.call(output.data, EXEC_MIME_TYPE))) {\n",
       "      return\n",
       "    }\n",
       "\n",
       "    var toinsert = output_area.element.find(\".\" + CLASS_NAME.split(' ')[0]);\n",
       "\n",
       "    if (output.metadata[EXEC_MIME_TYPE][\"id\"] !== undefined) {\n",
       "      toinsert[toinsert.length - 1].firstChild.textContent = output.data[JS_MIME_TYPE];\n",
       "      // store reference to embed id on output_area\n",
       "      output_area._bokeh_element_id = output.metadata[EXEC_MIME_TYPE][\"id\"];\n",
       "    }\n",
       "    if (output.metadata[EXEC_MIME_TYPE][\"server_id\"] !== undefined) {\n",
       "      var bk_div = document.createElement(\"div\");\n",
       "      bk_div.innerHTML = output.data[HTML_MIME_TYPE];\n",
       "      var script_attrs = bk_div.children[0].attributes;\n",
       "      for (var i = 0; i < script_attrs.length; i++) {\n",
       "        toinsert[toinsert.length - 1].firstChild.setAttribute(script_attrs[i].name, script_attrs[i].value);\n",
       "        toinsert[toinsert.length - 1].firstChild.textContent = bk_div.children[0].textContent\n",
       "      }\n",
       "      // store reference to server id on output_area\n",
       "      output_area._bokeh_server_id = output.metadata[EXEC_MIME_TYPE][\"server_id\"];\n",
       "    }\n",
       "  }\n",
       "\n",
       "  function register_renderer(events, OutputArea) {\n",
       "\n",
       "    function append_mime(data, metadata, element) {\n",
       "      // create a DOM node to render to\n",
       "      var toinsert = this.create_output_subarea(\n",
       "        metadata,\n",
       "        CLASS_NAME,\n",
       "        EXEC_MIME_TYPE\n",
       "      );\n",
       "      this.keyboard_manager.register_events(toinsert);\n",
       "      // Render to node\n",
       "      var props = {data: data, metadata: metadata[EXEC_MIME_TYPE]};\n",
       "      render(props, toinsert[toinsert.length - 1]);\n",
       "      element.append(toinsert);\n",
       "      return toinsert\n",
       "    }\n",
       "\n",
       "    /* Handle when an output is cleared or removed */\n",
       "    events.on('clear_output.CodeCell', handleClearOutput);\n",
       "    events.on('delete.Cell', handleClearOutput);\n",
       "\n",
       "    /* Handle when a new output is added */\n",
       "    events.on('output_added.OutputArea', handleAddOutput);\n",
       "\n",
       "    /**\n",
       "     * Register the mime type and append_mime function with output_area\n",
       "     */\n",
       "    OutputArea.prototype.register_mime_type(EXEC_MIME_TYPE, append_mime, {\n",
       "      /* Is output safe? */\n",
       "      safe: true,\n",
       "      /* Index of renderer in `output_area.display_order` */\n",
       "      index: 0\n",
       "    });\n",
       "  }\n",
       "\n",
       "  // register the mime type if in Jupyter Notebook environment and previously unregistered\n",
       "  if (root.Jupyter !== undefined) {\n",
       "    var events = require('base/js/events');\n",
       "    var OutputArea = require('notebook/js/outputarea').OutputArea;\n",
       "\n",
       "    if (OutputArea.prototype.mime_types().indexOf(EXEC_MIME_TYPE) == -1) {\n",
       "      register_renderer(events, OutputArea);\n",
       "    }\n",
       "  }\n",
       "\n",
       "  \n",
       "  if (typeof (root._bokeh_timeout) === \"undefined\" || force === true) {\n",
       "    root._bokeh_timeout = Date.now() + 5000;\n",
       "    root._bokeh_failed_load = false;\n",
       "  }\n",
       "\n",
       "  var NB_LOAD_WARNING = {'data': {'text/html':\n",
       "     \"<div style='background-color: #fdd'>\\n\"+\n",
       "     \"<p>\\n\"+\n",
       "     \"BokehJS does not appear to have successfully loaded. If loading BokehJS from CDN, this \\n\"+\n",
       "     \"may be due to a slow or bad network connection. Possible fixes:\\n\"+\n",
       "     \"</p>\\n\"+\n",
       "     \"<ul>\\n\"+\n",
       "     \"<li>re-rerun `output_notebook()` to attempt to load from CDN again, or</li>\\n\"+\n",
       "     \"<li>use INLINE resources instead, as so:</li>\\n\"+\n",
       "     \"</ul>\\n\"+\n",
       "     \"<code>\\n\"+\n",
       "     \"from bokeh.resources import INLINE\\n\"+\n",
       "     \"output_notebook(resources=INLINE)\\n\"+\n",
       "     \"</code>\\n\"+\n",
       "     \"</div>\"}};\n",
       "\n",
       "  function display_loaded() {\n",
       "    var el = document.getElementById(\"1002\");\n",
       "    if (el != null) {\n",
       "      el.textContent = \"BokehJS is loading...\";\n",
       "    }\n",
       "    if (root.Bokeh !== undefined) {\n",
       "      if (el != null) {\n",
       "        el.textContent = \"BokehJS \" + root.Bokeh.version + \" successfully loaded.\";\n",
       "      }\n",
       "    } else if (Date.now() < root._bokeh_timeout) {\n",
       "      setTimeout(display_loaded, 100)\n",
       "    }\n",
       "  }\n",
       "\n",
       "\n",
       "  function run_callbacks() {\n",
       "    try {\n",
       "      root._bokeh_onload_callbacks.forEach(function(callback) {\n",
       "        if (callback != null)\n",
       "          callback();\n",
       "      });\n",
       "    } finally {\n",
       "      delete root._bokeh_onload_callbacks\n",
       "    }\n",
       "    console.debug(\"Bokeh: all callbacks have finished\");\n",
       "  }\n",
       "\n",
       "  function load_libs(css_urls, js_urls, callback) {\n",
       "    if (css_urls == null) css_urls = [];\n",
       "    if (js_urls == null) js_urls = [];\n",
       "\n",
       "    root._bokeh_onload_callbacks.push(callback);\n",
       "    if (root._bokeh_is_loading > 0) {\n",
       "      console.debug(\"Bokeh: BokehJS is being loaded, scheduling callback at\", now());\n",
       "      return null;\n",
       "    }\n",
       "    if (js_urls == null || js_urls.length === 0) {\n",
       "      run_callbacks();\n",
       "      return null;\n",
       "    }\n",
       "    console.debug(\"Bokeh: BokehJS not loaded, scheduling load and callback at\", now());\n",
       "    root._bokeh_is_loading = css_urls.length + js_urls.length;\n",
       "\n",
       "    function on_load() {\n",
       "      root._bokeh_is_loading--;\n",
       "      if (root._bokeh_is_loading === 0) {\n",
       "        console.debug(\"Bokeh: all BokehJS libraries/stylesheets loaded\");\n",
       "        run_callbacks()\n",
       "      }\n",
       "    }\n",
       "\n",
       "    function on_error(url) {\n",
       "      console.error(\"failed to load \" + url);\n",
       "    }\n",
       "\n",
       "    for (let i = 0; i < css_urls.length; i++) {\n",
       "      const url = css_urls[i];\n",
       "      const element = document.createElement(\"link\");\n",
       "      element.onload = on_load;\n",
       "      element.onerror = on_error.bind(null, url);\n",
       "      element.rel = \"stylesheet\";\n",
       "      element.type = \"text/css\";\n",
       "      element.href = url;\n",
       "      console.debug(\"Bokeh: injecting link tag for BokehJS stylesheet: \", url);\n",
       "      document.body.appendChild(element);\n",
       "    }\n",
       "\n",
       "    const hashes = {\"https://cdn.bokeh.org/bokeh/release/bokeh-2.3.2.min.js\": \"XypntL49z55iwGVUW4qsEu83zKL3XEcz0MjuGOQ9SlaaQ68X/g+k1FcioZi7oQAc\", \"https://cdn.bokeh.org/bokeh/release/bokeh-tables-2.3.2.min.js\": \"bEsM86IHGDTLCS0Zod8a8WM6Y4+lafAL/eSiyQcuPzinmWNgNO2/olUF0Z2Dkn5i\", \"https://cdn.bokeh.org/bokeh/release/bokeh-widgets-2.3.2.min.js\": \"TX0gSQTdXTTeScqxj6PVQxTiRW8DOoGVwinyi1D3kxv7wuxQ02XkOxv0xwiypcAH\"};\n",
       "\n",
       "    for (let i = 0; i < js_urls.length; i++) {\n",
       "      const url = js_urls[i];\n",
       "      const element = document.createElement('script');\n",
       "      element.onload = on_load;\n",
       "      element.onerror = on_error.bind(null, url);\n",
       "      element.async = false;\n",
       "      element.src = url;\n",
       "      if (url in hashes) {\n",
       "        element.crossOrigin = \"anonymous\";\n",
       "        element.integrity = \"sha384-\" + hashes[url];\n",
       "      }\n",
       "      console.debug(\"Bokeh: injecting script tag for BokehJS library: \", url);\n",
       "      document.head.appendChild(element);\n",
       "    }\n",
       "  };\n",
       "\n",
       "  function inject_raw_css(css) {\n",
       "    const element = document.createElement(\"style\");\n",
       "    element.appendChild(document.createTextNode(css));\n",
       "    document.body.appendChild(element);\n",
       "  }\n",
       "\n",
       "  \n",
       "  var js_urls = [\"https://cdn.bokeh.org/bokeh/release/bokeh-2.3.2.min.js\", \"https://cdn.bokeh.org/bokeh/release/bokeh-widgets-2.3.2.min.js\", \"https://cdn.bokeh.org/bokeh/release/bokeh-tables-2.3.2.min.js\"];\n",
       "  var css_urls = [];\n",
       "  \n",
       "\n",
       "  var inline_js = [\n",
       "    function(Bokeh) {\n",
       "      Bokeh.set_log_level(\"info\");\n",
       "    },\n",
       "    function(Bokeh) {\n",
       "    \n",
       "    \n",
       "    }\n",
       "  ];\n",
       "\n",
       "  function run_inline_js() {\n",
       "    \n",
       "    if (root.Bokeh !== undefined || force === true) {\n",
       "      \n",
       "    for (var i = 0; i < inline_js.length; i++) {\n",
       "      inline_js[i].call(root, root.Bokeh);\n",
       "    }\n",
       "    if (force === true) {\n",
       "        display_loaded();\n",
       "      }} else if (Date.now() < root._bokeh_timeout) {\n",
       "      setTimeout(run_inline_js, 100);\n",
       "    } else if (!root._bokeh_failed_load) {\n",
       "      console.log(\"Bokeh: BokehJS failed to load within specified timeout.\");\n",
       "      root._bokeh_failed_load = true;\n",
       "    } else if (force !== true) {\n",
       "      var cell = $(document.getElementById(\"1002\")).parents('.cell').data().cell;\n",
       "      cell.output_area.append_execute_result(NB_LOAD_WARNING)\n",
       "    }\n",
       "\n",
       "  }\n",
       "\n",
       "  if (root._bokeh_is_loading === 0) {\n",
       "    console.debug(\"Bokeh: BokehJS loaded, going straight to plotting\");\n",
       "    run_inline_js();\n",
       "  } else {\n",
       "    load_libs(css_urls, js_urls, function() {\n",
       "      console.debug(\"Bokeh: BokehJS plotting callback run at\", now());\n",
       "      run_inline_js();\n",
       "    });\n",
       "  }\n",
       "}(window));"
      ],
      "application/vnd.bokehjs_load.v0+json": "\n(function(root) {\n  function now() {\n    return new Date();\n  }\n\n  var force = true;\n\n  if (typeof root._bokeh_onload_callbacks === \"undefined\" || force === true) {\n    root._bokeh_onload_callbacks = [];\n    root._bokeh_is_loading = undefined;\n  }\n\n  \n\n  \n  if (typeof (root._bokeh_timeout) === \"undefined\" || force === true) {\n    root._bokeh_timeout = Date.now() + 5000;\n    root._bokeh_failed_load = false;\n  }\n\n  var NB_LOAD_WARNING = {'data': {'text/html':\n     \"<div style='background-color: #fdd'>\\n\"+\n     \"<p>\\n\"+\n     \"BokehJS does not appear to have successfully loaded. If loading BokehJS from CDN, this \\n\"+\n     \"may be due to a slow or bad network connection. Possible fixes:\\n\"+\n     \"</p>\\n\"+\n     \"<ul>\\n\"+\n     \"<li>re-rerun `output_notebook()` to attempt to load from CDN again, or</li>\\n\"+\n     \"<li>use INLINE resources instead, as so:</li>\\n\"+\n     \"</ul>\\n\"+\n     \"<code>\\n\"+\n     \"from bokeh.resources import INLINE\\n\"+\n     \"output_notebook(resources=INLINE)\\n\"+\n     \"</code>\\n\"+\n     \"</div>\"}};\n\n  function display_loaded() {\n    var el = document.getElementById(\"1002\");\n    if (el != null) {\n      el.textContent = \"BokehJS is loading...\";\n    }\n    if (root.Bokeh !== undefined) {\n      if (el != null) {\n        el.textContent = \"BokehJS \" + root.Bokeh.version + \" successfully loaded.\";\n      }\n    } else if (Date.now() < root._bokeh_timeout) {\n      setTimeout(display_loaded, 100)\n    }\n  }\n\n\n  function run_callbacks() {\n    try {\n      root._bokeh_onload_callbacks.forEach(function(callback) {\n        if (callback != null)\n          callback();\n      });\n    } finally {\n      delete root._bokeh_onload_callbacks\n    }\n    console.debug(\"Bokeh: all callbacks have finished\");\n  }\n\n  function load_libs(css_urls, js_urls, callback) {\n    if (css_urls == null) css_urls = [];\n    if (js_urls == null) js_urls = [];\n\n    root._bokeh_onload_callbacks.push(callback);\n    if (root._bokeh_is_loading > 0) {\n      console.debug(\"Bokeh: BokehJS is being loaded, scheduling callback at\", now());\n      return null;\n    }\n    if (js_urls == null || js_urls.length === 0) {\n      run_callbacks();\n      return null;\n    }\n    console.debug(\"Bokeh: BokehJS not loaded, scheduling load and callback at\", now());\n    root._bokeh_is_loading = css_urls.length + js_urls.length;\n\n    function on_load() {\n      root._bokeh_is_loading--;\n      if (root._bokeh_is_loading === 0) {\n        console.debug(\"Bokeh: all BokehJS libraries/stylesheets loaded\");\n        run_callbacks()\n      }\n    }\n\n    function on_error(url) {\n      console.error(\"failed to load \" + url);\n    }\n\n    for (let i = 0; i < css_urls.length; i++) {\n      const url = css_urls[i];\n      const element = document.createElement(\"link\");\n      element.onload = on_load;\n      element.onerror = on_error.bind(null, url);\n      element.rel = \"stylesheet\";\n      element.type = \"text/css\";\n      element.href = url;\n      console.debug(\"Bokeh: injecting link tag for BokehJS stylesheet: \", url);\n      document.body.appendChild(element);\n    }\n\n    const hashes = {\"https://cdn.bokeh.org/bokeh/release/bokeh-2.3.2.min.js\": \"XypntL49z55iwGVUW4qsEu83zKL3XEcz0MjuGOQ9SlaaQ68X/g+k1FcioZi7oQAc\", \"https://cdn.bokeh.org/bokeh/release/bokeh-tables-2.3.2.min.js\": \"bEsM86IHGDTLCS0Zod8a8WM6Y4+lafAL/eSiyQcuPzinmWNgNO2/olUF0Z2Dkn5i\", \"https://cdn.bokeh.org/bokeh/release/bokeh-widgets-2.3.2.min.js\": \"TX0gSQTdXTTeScqxj6PVQxTiRW8DOoGVwinyi1D3kxv7wuxQ02XkOxv0xwiypcAH\"};\n\n    for (let i = 0; i < js_urls.length; i++) {\n      const url = js_urls[i];\n      const element = document.createElement('script');\n      element.onload = on_load;\n      element.onerror = on_error.bind(null, url);\n      element.async = false;\n      element.src = url;\n      if (url in hashes) {\n        element.crossOrigin = \"anonymous\";\n        element.integrity = \"sha384-\" + hashes[url];\n      }\n      console.debug(\"Bokeh: injecting script tag for BokehJS library: \", url);\n      document.head.appendChild(element);\n    }\n  };\n\n  function inject_raw_css(css) {\n    const element = document.createElement(\"style\");\n    element.appendChild(document.createTextNode(css));\n    document.body.appendChild(element);\n  }\n\n  \n  var js_urls = [\"https://cdn.bokeh.org/bokeh/release/bokeh-2.3.2.min.js\", \"https://cdn.bokeh.org/bokeh/release/bokeh-widgets-2.3.2.min.js\", \"https://cdn.bokeh.org/bokeh/release/bokeh-tables-2.3.2.min.js\"];\n  var css_urls = [];\n  \n\n  var inline_js = [\n    function(Bokeh) {\n      Bokeh.set_log_level(\"info\");\n    },\n    function(Bokeh) {\n    \n    \n    }\n  ];\n\n  function run_inline_js() {\n    \n    if (root.Bokeh !== undefined || force === true) {\n      \n    for (var i = 0; i < inline_js.length; i++) {\n      inline_js[i].call(root, root.Bokeh);\n    }\n    if (force === true) {\n        display_loaded();\n      }} else if (Date.now() < root._bokeh_timeout) {\n      setTimeout(run_inline_js, 100);\n    } else if (!root._bokeh_failed_load) {\n      console.log(\"Bokeh: BokehJS failed to load within specified timeout.\");\n      root._bokeh_failed_load = true;\n    } else if (force !== true) {\n      var cell = $(document.getElementById(\"1002\")).parents('.cell').data().cell;\n      cell.output_area.append_execute_result(NB_LOAD_WARNING)\n    }\n\n  }\n\n  if (root._bokeh_is_loading === 0) {\n    console.debug(\"Bokeh: BokehJS loaded, going straight to plotting\");\n    run_inline_js();\n  } else {\n    load_libs(css_urls, js_urls, function() {\n      console.debug(\"Bokeh: BokehJS plotting callback run at\", now());\n      run_inline_js();\n    });\n  }\n}(window));"
     },
     "metadata": {},
     "output_type": "display_data"
    }
   ],
   "source": [
    "# Scatter Plot Imports\n",
    "from maayanlab_bioinformatics.enrichment import enrich_crisp\n",
    "import matplotlib as mpl\n",
    "\n",
    "# Bar Chart Imports\n",
    "import pandas as pd \n",
    "import numpy as np\n",
    "import re\n",
    "import hashlib\n",
    "import json\n",
    "import requests\n",
    "import matplotlib.pyplot as plt\n",
    "import matplotlib.colors as colors\n",
    "import seaborn as sns\n",
    "import time\n",
    "from matplotlib.ticker import MaxNLocator\n",
    "from IPython.display import display, FileLink, HTML\n",
    "\n",
    "# Hexagonal Canvas Imports\n",
    "import math\n",
    "import uuid\n",
    "import urllib\n",
    "from textwrap import dedent\n",
    "from string import Template\n",
    "from operator import itemgetter\n",
    "\n",
    "# Bokeh\n",
    "from bokeh.io import output_notebook\n",
    "from bokeh.plotting import figure, show\n",
    "from bokeh.models import HoverTool, ColumnDataSource\n",
    "from bokeh.palettes import Category20\n",
    "output_notebook()"
   ]
  },
  {
   "cell_type": "code",
   "execution_count": 2,
   "metadata": {
    "execution": {
     "iopub.execute_input": "2021-12-07T21:00:41.043892Z",
     "iopub.status.busy": "2021-12-07T21:00:41.043064Z",
     "iopub.status.idle": "2021-12-07T21:00:41.054244Z",
     "shell.execute_reply": "2021-12-07T21:00:41.054917Z"
    }
   },
   "outputs": [],
   "source": [
    "gene_list_input = ['CDON', 'TTC39A', 'CADM3', 'FBXO2', 'COL24A1', 'CFAP70', 'AL117335.1', 'DLEC1', 'YOD1', 'MAPK15', 'LRP2BP', 'APLN', 'WDR78', 'ARMC2', 'ZC2HC1C', 'LINC00649', 'SNORD89', 'ALPK3', 'FILIP1', 'LINC00884', 'ATF3', 'ZNF273', 'NDNF', 'ADARB2', 'C4A', 'AKAP3', 'C4B', 'RRN3P2', 'KIAA1324', 'SNORA18', 'LINC-PINT', 'KDR', 'SPOCK2', 'HMCN2', 'EXPH5', 'NTNG2', 'DNAH12', 'DTNA', 'CFAP53', 'NTNG1', 'ABCA1', 'DNAH11', 'ST6GAL1', 'RASSF9', 'C10ORF35', 'GPR137B', 'CNKSR1', 'AL137145.2', 'SNORA50C', 'DNAH10', 'AC009549.1', 'CFAP54', 'HLA-DRB1', 'AC068790.9', 'ALG1L9P', 'CEND1', 'PDGFB', 'ACSM5', 'F11R', 'C2', 'GLDN', 'INPP5D', 'MAATS1', 'CMYA5', 'C22ORF46', 'CFAP69', 'HYDIN2', 'PLCG2', 'PRR29', 'SNORA63D', 'CD14', 'AP003071.5', 'LMCD1-AS1', 'LINC01144', 'PIFO', 'ROM1', 'GAB2', 'NFATC2', 'GNL1', 'KLHL4', 'LRRC23', 'PLXDC2', 'KIF6', 'ID2-AS1', 'TLR1', 'SLC7A8', 'TPPP3', 'AL691432.2', 'AC036108.2', 'ARHGEF3', 'TLR5', 'LINC00963', 'LINC01011', 'SNORA63', 'SNORA61', 'HILPDA', 'MAOB', 'LRRC6', 'CTSS', 'CTSH', 'RSPH4A', 'TMOD1', 'FOXB1', 'DGAT2', 'GSTO2', 'ACOT11', 'ANKRD45', 'ANKRD46', 'FOS', 'PCDHB15', 'LAPTM5', 'NMNAT3', 'CFAP157', 'PGM2L1', 'MELTF-AS1', 'BAALC-AS1', 'SPSB1', 'GTF2IP12', 'MORN3', 'NEK11', 'HLA-DPB1', 'MAGEH1', 'C1QC', 'SYNM', 'SPEF2', 'SPEF1', 'CR769767.2', 'DERL3', 'EFCAB6', 'PRICKLE2', 'RN7SKP203', 'FAM182A', 'DZANK1', 'AC012645.1', 'HLA-DPA1', 'NUDT16', 'AL513314.2', 'MYLIP', 'FBXW4', 'EPM2A', 'CD74', 'LPP-AS2', 'S100A1', 'CCDC159', 'CBSL', 'ARHGAP27', 'GCK', 'FOXP2', 'TEX9', 'SLC9A9', 'CR769775.1', 'PROB1', 'CCDC152', 'SLC25A34', 'YPEL4', 'PPIL6', 'CAPS', 'CEP126', 'CCDC146', 'GALNT15', 'DGKB', 'ADAMTS9-AS2', 'CLU', 'ARHGAP39', 'ASAP3', 'CASC2', 'AMOT', 'AURKC', 'EFNB3', 'RASD1', 'SH3TC1', 'RNF19A', 'SPTSSB', 'KCNH1', 'LINC00115', 'AC009119.2', 'TTC21A', 'KCNAB1', 'CYBB', 'STON1-GTF2A1L', 'GFAP', 'AZIN2', 'GEM', 'FRMD3', 'TMEM232', 'NR4A3', 'ISG20', 'AC138035.1', 'DLGAP1-AS2', 'DLGAP1-AS1', 'TBXAS1', 'AC244669.2', 'CDHR3', 'MATN2', 'AC241585.3', 'PFKFB3', 'PFKFB2', 'LINC01354', 'AKNA', 'NCF2', 'AMY2B', 'C5AR1', 'AC146944.1', 'FAM107A', 'HNMT', 'C1QTNF3', 'ZMAT1', 'SLC44A3-AS1', 'USP32P1', 'SLC37A2', 'ANGPT2', 'IQCG', 'BAIAP3', 'BMP2', 'UST', 'LCP1', 'BCL6', 'CPE', 'CCDC74B', 'ECHDC2', 'HLA-DRA', 'PCDHGB2', 'CCDC191', 'ZMYND10', 'ZMYND15', 'RN7SKP80', 'DNAH5', 'TTC25', 'CBWD6', 'DNAH6', 'ZSCAN12P1', 'DNAH7', 'ZNF337-AS1', 'WDFY3-AS2', 'AFF2', 'CASP9', 'C20ORF203', 'WNT3', 'CFAP46', 'CCDC30', 'NTRK2', 'SPAG8', 'AL590004.4', 'AC124319.2', 'SOD2', 'AC130352.1', 'RSPH9', 'LNX1', 'TCEANC2', 'SPAG1', 'RBM47', 'PXYLP1', 'COLEC12', 'CEBPD', 'LSP1', 'AC245100.2', 'AL356599.1', 'PBXIP1', 'TNFSF13B', 'RPGR', 'AC245100.8', 'EVA1C', 'PHKG1', 'IQUB', 'HYDIN', 'ZNF846', 'TOGARAM2', 'VAT1L', 'AC022532.1', 'BCO2', 'LURAP1']\n",
    "enrichr_library = 'MSigDB_Hallmark_2020'"
   ]
  },
  {
   "cell_type": "code",
   "execution_count": 3,
   "metadata": {
    "execution": {
     "iopub.execute_input": "2021-12-07T21:00:41.060144Z",
     "iopub.status.busy": "2021-12-07T21:00:41.059329Z",
     "iopub.status.idle": "2021-12-07T21:00:41.061869Z",
     "shell.execute_reply": "2021-12-07T21:00:41.061372Z"
    }
   },
   "outputs": [],
   "source": [
    "genes = [x.strip() for x in gene_list_input]"
   ]
  },
  {
   "cell_type": "code",
   "execution_count": 4,
   "metadata": {
    "execution": {
     "iopub.execute_input": "2021-12-07T21:00:41.066963Z",
     "iopub.status.busy": "2021-12-07T21:00:41.066098Z",
     "iopub.status.idle": "2021-12-07T21:00:41.068791Z",
     "shell.execute_reply": "2021-12-07T21:00:41.068270Z"
    }
   },
   "outputs": [],
   "source": [
    "# Error handling\n",
    "class NoResults(Exception):\n",
    "    pass \n",
    "class APIFailure(Exception):\n",
    "    pass"
   ]
  },
  {
   "cell_type": "code",
   "execution_count": 5,
   "metadata": {
    "execution": {
     "iopub.execute_input": "2021-12-07T21:00:41.077223Z",
     "iopub.status.busy": "2021-12-07T21:00:41.076285Z",
     "iopub.status.idle": "2021-12-07T21:00:41.078457Z",
     "shell.execute_reply": "2021-12-07T21:00:41.079070Z"
    }
   },
   "outputs": [],
   "source": [
    "# Enrichr API Function for Manhattan Plot and Bar Chart\n",
    "# Takes a gene list and Enrichr libraries as input\n",
    "def Enrichr_API(enrichr_gene_list, all_libraries):\n",
    "\n",
    "    all_terms = []\n",
    "    all_pvalues =[] \n",
    "    all_adjusted_pvalues = []\n",
    "\n",
    "    for library_name in all_libraries : \n",
    "        ENRICHR_URL = 'https://maayanlab.cloud/Enrichr/addList'\n",
    "        genes_str = '\\n'.join(enrichr_gene_list)\n",
    "        description = ''\n",
    "        payload = {\n",
    "            'list': (None, genes_str),\n",
    "            'description': (None, description)\n",
    "        }\n",
    "\n",
    "        response = requests.post(ENRICHR_URL, files=payload)\n",
    "        if not response.ok:\n",
    "            raise APIFailure\n",
    "\n",
    "        data = json.loads(response.text)\n",
    "        time.sleep(0.5)\n",
    "        ENRICHR_URL = 'https://maayanlab.cloud/Enrichr/enrich'\n",
    "        query_string = '?userListId=%s&backgroundType=%s'\n",
    "        user_list_id = data['userListId']\n",
    "        short_id = data[\"shortId\"]\n",
    "        gene_set_library = library_name\n",
    "        response = requests.get(\n",
    "            ENRICHR_URL + query_string % (user_list_id, gene_set_library)\n",
    "         )\n",
    "        if not response.ok:\n",
    "            raise APIFailure\n",
    "\n",
    "        data = json.loads(response.text)\n",
    "\n",
    "        if len(data[library_name]) == 0:\n",
    "            raise NoResults\n",
    "\n",
    "        short_results_df  = pd.DataFrame(data[library_name][0:10])\n",
    "        all_terms.append(list(short_results_df[1]))\n",
    "        all_pvalues.append(list(short_results_df[2]))\n",
    "        all_adjusted_pvalues.append(list(short_results_df[6]))\n",
    "        \n",
    "        results_df  = pd.DataFrame(data[library_name])\n",
    "        # adds library name to the data frame so the libraries can be distinguished\n",
    "        results_df['library'] = library_name.replace('_', '')\n",
    "\n",
    "    return [results_df, short_results_df, all_terms, all_pvalues, all_adjusted_pvalues, str(short_id)]"
   ]
  },
  {
   "cell_type": "code",
   "execution_count": 6,
   "metadata": {
    "execution": {
     "iopub.execute_input": "2021-12-07T21:00:41.084617Z",
     "iopub.status.busy": "2021-12-07T21:00:41.083747Z",
     "iopub.status.idle": "2021-12-07T21:00:41.090587Z",
     "shell.execute_reply": "2021-12-07T21:00:41.091130Z"
    }
   },
   "outputs": [],
   "source": [
    "# Scatter Plot Parameters\n",
    "significance_value = 0.05\n",
    "\n",
    "# Bar Chart Parameters\n",
    "figure_file_format = ['png', 'svg']\n",
    "output_file_name = 'Enrichr_results_bar'\n",
    "color = 'lightskyblue'\n",
    "final_output_file_names = ['{0}.{1}'.format(output_file_name, file_type) for file_type in figure_file_format]\n",
    "\n",
    "# Hexagonal Canvas Parameters\n",
    "canvas_color = 'Blue'\n",
    "num_hex_colored = 10\n",
    "\n",
    "# Manhattan Plot Parameters\n",
    "manhattan_colors = ['#003f5c', '#7a5195', '#ef5675', '#ffa600']"
   ]
  },
  {
   "cell_type": "markdown",
   "metadata": {},
   "source": [
    "# Scatter Plot"
   ]
  },
  {
   "cell_type": "markdown",
   "metadata": {},
   "source": [
    "The scatterplot is organized so that simliar gene sets are clustered together. Larger, black-outlined points represent significantly enriched terms. \n",
    "\n",
    "Hovering over points will display the associated gene set name and the p-value. You may have to zoom in using the toolbar next to the plot in order to see details in densely-populated portions. Plots can also be downloaded as an svg using the save function on the toolbar.\n",
    "\n",
    "Clusters are computed using the Leiden algorithm. Points are plotted on the first two UMAP dimensions. "
   ]
  },
  {
   "cell_type": "code",
   "execution_count": 7,
   "metadata": {
    "execution": {
     "iopub.execute_input": "2021-12-07T21:00:41.117416Z",
     "iopub.status.busy": "2021-12-07T21:00:41.103446Z",
     "iopub.status.idle": "2021-12-07T21:00:41.119304Z",
     "shell.execute_reply": "2021-12-07T21:00:41.119931Z"
    }
   },
   "outputs": [],
   "source": [
    "### Scatter Plot Functions\n",
    "def download_library(library_name):\n",
    "    try: \n",
    "        df = pd.read_csv(f\"https://raw.githubusercontent.com/MaayanLab/Enrichr-Viz-Appyter/master/Enrichr-Processed-Library-Storage/Clustered_Scatterplots/{library_name}.csv\")\n",
    "        df = df.dropna(subset=['term', 'genes'])\n",
    "        return df, True\n",
    "    except:\n",
    "        display(HTML(\"<div style='font-size:1.5rem; padding:1.5rem 0;'>Failed to retrieve the selected pre-processed library.</div>\"))\n",
    "        return None, False\n",
    "\n",
    "def get_library_iter(libdf):\n",
    "    for row in libdf.itertuples():\n",
    "        term = row.term\n",
    "        gene_set = row.genes.split(' ')\n",
    "        yield term, gene_set\n",
    "\n",
    "def get_enrichment_results(genes, libdf):\n",
    "    results = enrich_crisp(genes, get_library_iter(libdf), 20000, True)\n",
    "    return {res[0]: res[1].pvalue for res in results}\n",
    "\n",
    "def get_pvalue(row, enrich_results):\n",
    "    if row['term'] in enrich_results.keys():\n",
    "        return enrich_results[row['term']]\n",
    "    else:\n",
    "        return 1\n",
    "\n",
    "def str_to_int(s, i):\n",
    "    '''\n",
    "    Computes the sha256 hash for the input string {s}, then converts \n",
    "    it into an int mod {i}. \n",
    "    '''\n",
    "    s = re.sub(r\"\\([^()]*\\)\", \"\", s).strip()\n",
    "    byte_string = bytearray(s, \"utf8\")\n",
    "    return int(hashlib.sha256(byte_string).hexdigest(), base=16) % i\n",
    "\n",
    "def lighten(cols, step):\n",
    "    '''\n",
    "    Lightens a list of hex colors {cols} by {step} number of times. \n",
    "    '''\n",
    "    for _ in range(step):\n",
    "        cols = [int(col[1:], 16) for col in cols]\n",
    "        cols = [f\"#{(col & 0x7f7f7f) << 1:06x}\" for col in cols]\n",
    "    return cols\n",
    "\n",
    "def get_colors(df):\n",
    "    clusters = pd.unique(df['cluster']).tolist()\n",
    "    unused_colors = list(Category20[20])\n",
    "    unused_colors = unused_colors + lighten(unused_colors, 1) + lighten(unused_colors, 2)\n",
    "    colors = []\n",
    "    for c in range(len(clusters)):\n",
    "        clust_color = Category20[20][str_to_int(clusters[c], 20)]\n",
    "        if clust_color in colors:\n",
    "            if len(unused_colors) > 0:\n",
    "                clust_color = unused_colors[0]\n",
    "                unused_colors.remove(clust_color)\n",
    "            else:\n",
    "                clust_color = colors[c % 60]\n",
    "        else:\n",
    "            unused_colors.remove(clust_color)\n",
    "        colors.append(clust_color)\n",
    "    color_mapper = {clusters[i]: colors[i] for i in range(len(clusters))}\n",
    "    return color_mapper\n",
    "\n",
    "def get_top_10(df):\n",
    "    top_indices = df[df['pvalue'] < significance_value].nsmallest(10, 'pvalue')['term'].tolist()\n",
    "    return top_indices   \n",
    "\n",
    "def get_plot(library_name):\n",
    "    df, df_exists = download_library(library_name)\n",
    "    if not df_exists:\n",
    "        return -1, -1\n",
    "    \n",
    "    enrich_results = get_enrichment_results(genes, df)\n",
    "    \n",
    "    # add p value to the dataframe\n",
    "    df['pvalue'] = df.apply(lambda row: get_pvalue(row, enrich_results), axis=1)\n",
    "\n",
    "    # get appropriate color and size attributes\n",
    "    color_mapper = get_colors(df)\n",
    "\n",
    "    # normalize pvalues for coloring\n",
    "    norm_pval = colors.Normalize(-0.3, 1)\n",
    "\n",
    "    # get top 5 for each cluster\n",
    "    top_terms = get_top_10(df)\n",
    "\n",
    "    # add attributes to df\n",
    "    df['color'] = df['cluster'].apply(lambda x: color_mapper[x])\n",
    "    df['lw'] = df['term'].apply(lambda x: 2 if x in top_terms else 0.5)\n",
    "    df['la'] = df['term'].apply(lambda x: 1 if x in top_terms else 0)\n",
    "    df['size'] = df['pvalue'].apply(lambda x: 12 if x < significance_value else 5)\n",
    "    df['fa'] = df['pvalue'].apply(lambda x: norm_pval(-np.log10(x)))\n",
    "\n",
    "    if len(enrich_results.keys()) == 0:\n",
    "        display(HTML(f\"<div style='font-size:1.5rem; padding:1rem 0;'>There are no enriched terms for your input gene set in the <b>{library_name}</b> library.</div>\"))\n",
    "        tooltips = [\n",
    "            (\"Gene Set\", \"@gene_set\"),\n",
    "            (\"Cluster\", \"@label\")\n",
    "        ]\n",
    "    \n",
    "    else: \n",
    "        tooltips = [\n",
    "            (\"Gene Set\", \"@gene_set\"),\n",
    "            (\"p-value\", \"@p_value\"),\n",
    "            (\"Cluster\", \"@label\")\n",
    "        ]\n",
    "        \n",
    "    hover_emb = HoverTool(tooltips=tooltips)\n",
    "    tools_emb = [hover_emb, 'pan', 'wheel_zoom', 'reset', 'save']\n",
    "\n",
    "    plot_emb = figure(\n",
    "        plot_width=700, \n",
    "        plot_height=700, \n",
    "        tools=tools_emb\n",
    "    )\n",
    "\n",
    "    source = ColumnDataSource(\n",
    "        data=dict(\n",
    "            x = df['x'],\n",
    "            y = df['y'],\n",
    "            gene_set = df['term'],\n",
    "            p_value = df['pvalue'],\n",
    "            sizes = df['size'],\n",
    "            colors = df['color'],\n",
    "            fill_alphas = df['fa'],\n",
    "            label = df['cluster'],\n",
    "            line_widths = df['lw'],\n",
    "            line_alphas = df['la'],\n",
    "            line_colors = ['#000000']*df.shape[0]\n",
    "        )\n",
    "    )\n",
    "\n",
    "    # hide axis labels and grid lines\n",
    "    plot_emb.xaxis.major_tick_line_color = None\n",
    "    plot_emb.xaxis.minor_tick_line_color = None\n",
    "    plot_emb.yaxis.major_tick_line_color = None\n",
    "    plot_emb.yaxis.minor_tick_line_color = None\n",
    "    plot_emb.xaxis.major_label_text_font_size = '0pt'\n",
    "    plot_emb.yaxis.major_label_text_font_size = '0pt' \n",
    "\n",
    "    plot_emb.output_backend = \"svg\"    \n",
    "    \n",
    "    plot_emb.xaxis.axis_label = \"UMAP_1\"\n",
    "    plot_emb.yaxis.axis_label = \"UMAP_2\"\n",
    "    \n",
    "    s = plot_emb.scatter(\n",
    "            'x', \n",
    "            'y', \n",
    "            size = 'sizes', \n",
    "            source = source, \n",
    "            color = 'colors', \n",
    "            fill_alpha = 'fill_alphas',\n",
    "            line_alpha = 'line_alphas',\n",
    "            line_width = 'line_widths',\n",
    "            line_color = 'line_colors'\n",
    "        )\n",
    "    \n",
    "    return plot_emb, df"
   ]
  },
  {
   "cell_type": "code",
   "execution_count": 8,
   "metadata": {
    "execution": {
     "iopub.execute_input": "2021-12-07T21:00:41.125140Z",
     "iopub.status.busy": "2021-12-07T21:00:41.123717Z",
     "iopub.status.idle": "2021-12-07T21:00:41.203740Z",
     "shell.execute_reply": "2021-12-07T21:00:41.204482Z"
    }
   },
   "outputs": [
    {
     "data": {
      "text/html": [
       "<div style='font-size:1.5rem;'>Scatter plot visualization for MSigDB_Hallmark_2020.</div>"
      ],
      "text/plain": [
       "<IPython.core.display.HTML object>"
      ]
     },
     "metadata": {},
     "output_type": "display_data"
    },
    {
     "data": {
      "text/html": [
       "\n",
       "\n",
       "\n",
       "\n",
       "\n",
       "\n",
       "  <div class=\"bk-root\" id=\"ebada513-dabb-4379-abad-b4175fae98a7\" data-root-id=\"1004\"></div>\n"
      ]
     },
     "metadata": {},
     "output_type": "display_data"
    },
    {
     "data": {
      "application/javascript": [
       "(function(root) {\n",
       "  function embed_document(root) {\n",
       "    \n",
       "  var docs_json = {\"340b1a4f-d10f-4514-8442-3ea20d5d14a9\":{\"defs\":[],\"roots\":{\"references\":[{\"attributes\":{\"below\":[{\"id\":\"1013\"}],\"center\":[{\"id\":\"1016\"},{\"id\":\"1020\"}],\"height\":700,\"left\":[{\"id\":\"1017\"}],\"output_backend\":\"svg\",\"renderers\":[{\"id\":\"1035\"}],\"title\":{\"id\":\"1038\"},\"toolbar\":{\"id\":\"1025\"},\"width\":700,\"x_range\":{\"id\":\"1005\"},\"x_scale\":{\"id\":\"1009\"},\"y_range\":{\"id\":\"1007\"},\"y_scale\":{\"id\":\"1011\"}},\"id\":\"1004\",\"subtype\":\"Figure\",\"type\":\"Plot\"},{\"attributes\":{},\"id\":\"1018\",\"type\":\"BasicTicker\"},{\"attributes\":{\"fill_alpha\":{\"field\":\"fill_alphas\"},\"fill_color\":{\"field\":\"colors\"},\"line_alpha\":{\"field\":\"line_alphas\"},\"line_color\":{\"field\":\"line_colors\"},\"line_width\":{\"field\":\"line_widths\"},\"size\":{\"field\":\"sizes\"},\"x\":{\"field\":\"x\"},\"y\":{\"field\":\"y\"}},\"id\":\"1033\",\"type\":\"Scatter\"},{\"attributes\":{\"axis\":{\"id\":\"1013\"},\"ticker\":null},\"id\":\"1016\",\"type\":\"Grid\"},{\"attributes\":{},\"id\":\"1022\",\"type\":\"WheelZoomTool\"},{\"attributes\":{},\"id\":\"1014\",\"type\":\"BasicTicker\"},{\"attributes\":{\"fill_alpha\":{\"value\":0.1},\"fill_color\":{\"field\":\"colors\"},\"line_alpha\":{\"value\":0.1},\"line_color\":{\"field\":\"line_colors\"},\"line_width\":{\"field\":\"line_widths\"},\"size\":{\"field\":\"sizes\"},\"x\":{\"field\":\"x\"},\"y\":{\"field\":\"y\"}},\"id\":\"1034\",\"type\":\"Scatter\"},{\"attributes\":{},\"id\":\"1042\",\"type\":\"AllLabels\"},{\"attributes\":{\"axis_label\":\"UMAP_1\",\"formatter\":{\"id\":\"1044\"},\"major_label_policy\":{\"id\":\"1042\"},\"major_label_text_font_size\":\"0pt\",\"major_tick_line_color\":null,\"minor_tick_line_color\":null,\"ticker\":{\"id\":\"1014\"}},\"id\":\"1013\",\"type\":\"LinearAxis\"},{\"attributes\":{\"source\":{\"id\":\"1031\"}},\"id\":\"1036\",\"type\":\"CDSView\"},{\"attributes\":{\"active_multi\":null,\"tools\":[{\"id\":\"1003\"},{\"id\":\"1021\"},{\"id\":\"1022\"},{\"id\":\"1023\"},{\"id\":\"1024\"}]},\"id\":\"1025\",\"type\":\"Toolbar\"},{\"attributes\":{},\"id\":\"1044\",\"type\":\"BasicTickFormatter\"},{\"attributes\":{\"data_source\":{\"id\":\"1031\"},\"glyph\":{\"id\":\"1033\"},\"hover_glyph\":null,\"muted_glyph\":null,\"nonselection_glyph\":{\"id\":\"1034\"},\"view\":{\"id\":\"1036\"}},\"id\":\"1035\",\"type\":\"GlyphRenderer\"},{\"attributes\":{},\"id\":\"1024\",\"type\":\"SaveTool\"},{\"attributes\":{},\"id\":\"1009\",\"type\":\"LinearScale\"},{\"attributes\":{},\"id\":\"1021\",\"type\":\"PanTool\"},{\"attributes\":{},\"id\":\"1038\",\"type\":\"Title\"},{\"attributes\":{},\"id\":\"1039\",\"type\":\"AllLabels\"},{\"attributes\":{},\"id\":\"1011\",\"type\":\"LinearScale\"},{\"attributes\":{},\"id\":\"1041\",\"type\":\"BasicTickFormatter\"},{\"attributes\":{},\"id\":\"1023\",\"type\":\"ResetTool\"},{\"attributes\":{\"axis_label\":\"UMAP_2\",\"formatter\":{\"id\":\"1041\"},\"major_label_policy\":{\"id\":\"1039\"},\"major_label_text_font_size\":\"0pt\",\"major_tick_line_color\":null,\"minor_tick_line_color\":null,\"ticker\":{\"id\":\"1018\"}},\"id\":\"1017\",\"type\":\"LinearAxis\"},{\"attributes\":{},\"id\":\"1045\",\"type\":\"UnionRenderers\"},{\"attributes\":{},\"id\":\"1046\",\"type\":\"Selection\"},{\"attributes\":{\"data\":{\"colors\":[\"#c7c7c7\",\"#c7c7c7\",\"#c7c7c7\",\"#c7c7c7\",\"#c7c7c7\",\"#c7c7c7\",\"#c7c7c7\",\"#c7c7c7\",\"#c7c7c7\",\"#c7c7c7\",\"#c7c7c7\",\"#c7c7c7\",\"#c7c7c7\",\"#c7c7c7\",\"#c7c7c7\",\"#c7c7c7\",\"#c7c7c7\",\"#c7c7c7\",\"#c7c7c7\",\"#dbdb8d\",\"#dbdb8d\",\"#dbdb8d\",\"#dbdb8d\",\"#dbdb8d\",\"#dbdb8d\",\"#dbdb8d\",\"#dbdb8d\",\"#dbdb8d\",\"#dbdb8d\",\"#dbdb8d\",\"#dbdb8d\",\"#dbdb8d\",\"#dbdb8d\",\"#dbdb8d\",\"#dbdb8d\",\"#1f77b4\",\"#1f77b4\",\"#1f77b4\",\"#1f77b4\",\"#1f77b4\",\"#1f77b4\",\"#1f77b4\",\"#1f77b4\",\"#aec7e8\",\"#aec7e8\",\"#aec7e8\",\"#aec7e8\",\"#aec7e8\",\"#aec7e8\",\"#aec7e8\"],\"fill_alphas\":{\"__ndarray__\":\"ndiJndiJzT+Nk6LJXJPUP2Sbih2t5NM/ubdJskAs0D8Fr05xmd/rP7m3SbJALNA/ubdJskAs0D+d2Imd2InNP53YiZ3Yic0/ndiJndiJzT/sMB+qg9DTP7p87koKXdU/ndiJndiJzT8mjFtLM3DgPzv05Yh2/dw/O/TliHb93D+ZCLDCydL+P9hZGY4nX+U/O/TliHb93D/pfNDy0w7zP3Wd/FBDiOw/th2w5TS61D/rYJCNum/7Pxj8XbwrVOo/O/TliHb93D+98+tms2ncP/exPP0AZ9Y/dZ38UEOI7D9Eo6wuN4QKQJt0tcsvneE/MiXT+dKa5D8yciX4mHb+P7m3SbJALNA/g3BkS2xp3z+ZCLDCydL+P3qr5yiaqNQ/MiXT+dKa5D+5t0myQCzQP+q8J240ReE/ndiJndiJzT/J6gvede3RP53YiZ3Yic0/ndiJndiJzT+2HbDlNLrUP53YiZ3Yic0/ndiJndiJzT/XKt2VXWHSP53YiZ3Yic0/ndiJndiJzT+d2Imd2InNPw==\",\"dtype\":\"float64\",\"order\":\"little\",\"shape\":[50]},\"gene_set\":[\"PI3K/AKT/mTOR  Signaling\",\"Pperoxisome\",\"Bile Acid Metabolism\",\"heme Metabolism\",\"Reactive Oxygen Species Pathway\",\"Glycolysis\",\"Oxidative Phosphorylation\",\"Fatty Acid Metabolism\",\"Xenobiotic Metabolism\",\"mTORC1 Signaling\",\"Unfolded Protein Response\",\"Protein Secretion\",\"Androgen Response\",\"Pancreas Beta Cells\",\"Estrogen Response Early\",\"Adipogenesis\",\"Hypoxia\",\"Cholesterol Homeostasis\",\"Estrogen Response Late\",\"KRAS Signaling Up\",\"Allograft Rejection\",\"IL-2/STAT5 Signaling\",\"Coagulation\",\"UV Response Up\",\"p53 Pathway\",\"TGF-beta Signaling\",\"IL-6/JAK/STAT3 Signaling\",\"Inflammatory Response\",\"TNF-alpha Signaling via NF-kB\",\"Interferon Alpha Response\",\"Interferon Gamma Response\",\"Apoptosis\",\"KRAS Signaling Dn\",\"Apical Surface\",\"Complement\",\"Epithelial Mesenchymal Transition\",\"Myogenesis\",\"Apical Junction\",\"Hedgehog Signaling\",\"Angiogenesis\",\"UV Response Dn\",\"Notch Signaling\",\"Wnt-beta Catenin Signaling\",\"Mitotic Spindle\",\"DNA Repair\",\"E2F Targets\",\"Spermatogenesis\",\"Myc Targets V1\",\"Myc Targets V2\",\"G2-M Checkpoint\"],\"label\":[\"Cluster 0\",\"Cluster 0\",\"Cluster 0\",\"Cluster 0\",\"Cluster 0\",\"Cluster 0\",\"Cluster 0\",\"Cluster 0\",\"Cluster 0\",\"Cluster 0\",\"Cluster 0\",\"Cluster 0\",\"Cluster 0\",\"Cluster 0\",\"Cluster 0\",\"Cluster 0\",\"Cluster 0\",\"Cluster 0\",\"Cluster 0\",\"Cluster 1\",\"Cluster 1\",\"Cluster 1\",\"Cluster 1\",\"Cluster 1\",\"Cluster 1\",\"Cluster 1\",\"Cluster 1\",\"Cluster 1\",\"Cluster 1\",\"Cluster 1\",\"Cluster 1\",\"Cluster 1\",\"Cluster 1\",\"Cluster 1\",\"Cluster 1\",\"Cluster 2\",\"Cluster 2\",\"Cluster 2\",\"Cluster 2\",\"Cluster 2\",\"Cluster 2\",\"Cluster 2\",\"Cluster 2\",\"Cluster 3\",\"Cluster 3\",\"Cluster 3\",\"Cluster 3\",\"Cluster 3\",\"Cluster 3\",\"Cluster 3\"],\"line_alphas\":[0,0,0,0,0,0,0,0,0,0,0,0,0,0,0,0,1,0,0,0,0,0,1,0,0,0,0,0,1,0,0,1,0,0,1,0,0,0,0,0,0,0,0,0,0,0,0,0,0,0],\"line_colors\":[\"#000000\",\"#000000\",\"#000000\",\"#000000\",\"#000000\",\"#000000\",\"#000000\",\"#000000\",\"#000000\",\"#000000\",\"#000000\",\"#000000\",\"#000000\",\"#000000\",\"#000000\",\"#000000\",\"#000000\",\"#000000\",\"#000000\",\"#000000\",\"#000000\",\"#000000\",\"#000000\",\"#000000\",\"#000000\",\"#000000\",\"#000000\",\"#000000\",\"#000000\",\"#000000\",\"#000000\",\"#000000\",\"#000000\",\"#000000\",\"#000000\",\"#000000\",\"#000000\",\"#000000\",\"#000000\",\"#000000\",\"#000000\",\"#000000\",\"#000000\",\"#000000\",\"#000000\",\"#000000\",\"#000000\",\"#000000\",\"#000000\",\"#000000\"],\"line_widths\":{\"__ndarray__\":\"AAAAAAAA4D8AAAAAAADgPwAAAAAAAOA/AAAAAAAA4D8AAAAAAADgPwAAAAAAAOA/AAAAAAAA4D8AAAAAAADgPwAAAAAAAOA/AAAAAAAA4D8AAAAAAADgPwAAAAAAAOA/AAAAAAAA4D8AAAAAAADgPwAAAAAAAOA/AAAAAAAA4D8AAAAAAAAAQAAAAAAAAOA/AAAAAAAA4D8AAAAAAADgPwAAAAAAAOA/AAAAAAAA4D8AAAAAAAAAQAAAAAAAAOA/AAAAAAAA4D8AAAAAAADgPwAAAAAAAOA/AAAAAAAA4D8AAAAAAAAAQAAAAAAAAOA/AAAAAAAA4D8AAAAAAAAAQAAAAAAAAOA/AAAAAAAA4D8AAAAAAAAAQAAAAAAAAOA/AAAAAAAA4D8AAAAAAADgPwAAAAAAAOA/AAAAAAAA4D8AAAAAAADgPwAAAAAAAOA/AAAAAAAA4D8AAAAAAADgPwAAAAAAAOA/AAAAAAAA4D8AAAAAAADgPwAAAAAAAOA/AAAAAAAA4D8AAAAAAADgPw==\",\"dtype\":\"float64\",\"order\":\"little\",\"shape\":[50]},\"p_value\":{\"__ndarray__\":\"AAAAAAAA8D+swynZxmPoP4rGYSBDLuk/6RtkuXj37T/f3mW2ftTCP+kbZLl49+0/6RtkuXj37T8AAAAAAADwPwAAAAAAAPA/AAAAAAAA8D8ie3smDUbpP8IYM+Lmgec/AAAAAAAA8D8NiXYNfXDbP80SI0JkdOA/zRIjQmR04D8Oe4gsXpV5P3QES2TeS9E/zRIjQmR04D+n8tUP+OSsP4WOWehgtME/iO3wXZ836D+0n7oTDRuIP5Md5h/XwcU/zRIjQmR04D96VOu4qOfgP2zlrSB5ZOY/hY5Z6GC0wT991pAoXq4ZP3uv9SPmlNg/ovPmJzGV0j/OCRpp0l17P+kbZLl49+0/wRrb2Zdi3T8Oe4gsXpV5P+vqDD6YS+g/ovPmJzGV0j/pG2S5ePftP6Fcp39+Ytk/AAAAAAAA8D9b9mKzA5vrPwAAAAAAAPA/AAAAAAAA8D+I7fBdnzfoPwAAAAAAAPA/AAAAAAAA8D8k+3f87wbrPwAAAAAAAPA/AAAAAAAA8D8AAAAAAADwPw==\",\"dtype\":\"float64\",\"order\":\"little\",\"shape\":[50]},\"sizes\":[5,5,5,5,5,5,5,5,5,5,5,5,5,5,5,5,12,5,5,5,5,5,12,5,5,5,5,5,12,5,5,12,5,5,12,5,5,5,5,5,5,5,5,5,5,5,5,5,5,5],\"x\":{\"__ndarray__\":\"HAx1WOFGJ0C5VKUtrnkkQKeWrfVF8iNALzTXaaRtJUBDPX0E/tgkQNtSB3k94CRAX0IFhxecI0Az4Cwly5kjQHoaMEj6/CRA2T15WKj1JUCSsdr8v+omQNtN8E3TTyZAF0Z6UbtPJkByGMxfIYMkQPuvc9NmtCRAjBAebRwBI0Ab2CrB4tAjQCHOwwlMByNA6lil9EzHJUAVqMXgYZIlQIfCZ+vgACdAf2ySH/GjJUDNW3UdqqkiQKjlB67yVCZAhZUKKqr+JkBvDtdqD8smQH16bMuAkyZAMBNFSN0GJkDohxHCo50nQIaqmEo/mSJA5fBJJxIcJkDeOv922VcmQLWn5JzY+ydAc/bOaKsyJEAQsiyY+DMiQG3i5H6HaiJAqKym64l2I0DwMsNGWUcjQHXkSGdgDCRALeqT3GHDI0BDyk+qfRIjQB3k9WBSTCVAyhXe5SLGJEDjxcIQOTUoQHsuU5PgVSZAUB2rlJ5hJ0Dtnjws1AIoQBQF+kSexCdAJnFWRE1cJ0BzEd+JWTcoQA==\",\"dtype\":\"float64\",\"order\":\"little\",\"shape\":[50]},\"y\":{\"__ndarray__\":\"RN0HILXVI0Cr7Lsi+GciQNLhIYyfZiNAIoyfxr35IUBgP8QGC68iQN7kt+hkSSFA1cvvNJkRIkClSSno9tohQPOrOUAwFyRAIH7+e/CCIkAB2lazzmgiQPTCnQsjFSNAaauSyD7gI0C4OgDiri4lQGAfnbrysSNAwAXZsnxdIkAGgCpu3JIkQCrJOhxdzSNAN43ttaCPJECsAUpDjeImQIjWijbHCShAEHf1KjKiJ0DM8QpETzomQJRt4A7UiSVA4LvNGydVJUAzpmCNs5EmQENWt3pOeidAjNtoAG/5J0DUmXtI+BYnQImzImqipyRAgqlm1lLQKECNlgM91EYmQGlVSzrKISZAlgUTfxR9KEBxPJ8B9W4lQPs726M3bCdAZwsIrYfXJUAFwHgGDf0nQKWHodXJASdAtyQH7GpiJ0AEWU+tvrImQOIeSx+6xCVATmGlgopaJkASv2INF0kjQA3/6QYKpCBA0gDeAgm6IEBWLH5TWCkkQJHT1/M1YyFAlNqLaDu2IUDwTdNnB4wiQA==\",\"dtype\":\"float64\",\"order\":\"little\",\"shape\":[50]}},\"selected\":{\"id\":\"1046\"},\"selection_policy\":{\"id\":\"1045\"}},\"id\":\"1031\",\"type\":\"ColumnDataSource\"},{\"attributes\":{},\"id\":\"1007\",\"type\":\"DataRange1d\"},{\"attributes\":{\"callback\":null,\"tooltips\":[[\"Gene Set\",\"@gene_set\"],[\"p-value\",\"@p_value\"],[\"Cluster\",\"@label\"]]},\"id\":\"1003\",\"type\":\"HoverTool\"},{\"attributes\":{},\"id\":\"1005\",\"type\":\"DataRange1d\"},{\"attributes\":{\"axis\":{\"id\":\"1017\"},\"dimension\":1,\"ticker\":null},\"id\":\"1020\",\"type\":\"Grid\"}],\"root_ids\":[\"1004\"]},\"title\":\"Bokeh Application\",\"version\":\"2.3.2\"}};\n",
       "  var render_items = [{\"docid\":\"340b1a4f-d10f-4514-8442-3ea20d5d14a9\",\"root_ids\":[\"1004\"],\"roots\":{\"1004\":\"ebada513-dabb-4379-abad-b4175fae98a7\"}}];\n",
       "  root.Bokeh.embed.embed_items_notebook(docs_json, render_items);\n",
       "\n",
       "  }\n",
       "  if (root.Bokeh !== undefined) {\n",
       "    embed_document(root);\n",
       "  } else {\n",
       "    var attempts = 0;\n",
       "    var timer = setInterval(function(root) {\n",
       "      if (root.Bokeh !== undefined) {\n",
       "        clearInterval(timer);\n",
       "        embed_document(root);\n",
       "      } else {\n",
       "        attempts++;\n",
       "        if (attempts > 100) {\n",
       "          clearInterval(timer);\n",
       "          console.log(\"Bokeh: ERROR: Unable to run BokehJS code because BokehJS library is missing\");\n",
       "        }\n",
       "      }\n",
       "    }, 10, root)\n",
       "  }\n",
       "})(window);"
      ],
      "application/vnd.bokehjs_exec.v0+json": ""
     },
     "metadata": {
      "application/vnd.bokehjs_exec.v0+json": {
       "id": "1004"
      }
     },
     "output_type": "display_data"
    }
   ],
   "source": [
    "# Display Scatter Plot\n",
    "plot, df = get_plot(enrichr_library)\n",
    "if plot == -1:\n",
    "    display(HTML(\"<div style='font-size:1rem;'>Unable to create scatter plot visualization.</div>\"))\n",
    "else:\n",
    "    display(HTML(f\"<div style='font-size:1.5rem;'>Scatter plot visualization for {enrichr_library}.</div>\"))\n",
    "    show(plot)"
   ]
  },
  {
   "cell_type": "markdown",
   "metadata": {},
   "source": [
    "# Bar Chart"
   ]
  },
  {
   "cell_type": "markdown",
   "metadata": {},
   "source": [
    "The bar chart shows the top 10 enriched terms in the chosen library, along with their corresponding p-values. Colored bars correspond to terms with significant p-values (<0.05). An asterisk (*) next to a p-value indicates the term also has a significant adjusted p-value (<0.05).\n",
    "\n",
    "The bar chart can be downloaded as an image using the links below the figure. \n",
    "\n",
    "For creating customized bar charts for multiple libraries at once, use the standalone [Bar Chart Appyter](https://appyters.maayanlab.cloud/Enrichr_compressed_bar_chart_figure/)."
   ]
  },
  {
   "cell_type": "code",
   "execution_count": 9,
   "metadata": {
    "execution": {
     "iopub.execute_input": "2021-12-07T21:00:41.217732Z",
     "iopub.status.busy": "2021-12-07T21:00:41.216754Z",
     "iopub.status.idle": "2021-12-07T21:00:41.219040Z",
     "shell.execute_reply": "2021-12-07T21:00:41.219746Z"
    }
   },
   "outputs": [],
   "source": [
    "# Bar Chart Functions\n",
    "# Takes all terms, all p-values, all adjusted p-values, plot title, Enrichr libraries, and specified figure format\n",
    "def enrichr_figure(all_terms, all_pvalues, all_adjusted_pvalues, plot_names, all_libraries, bar_color): \n",
    "    # Bar colors\n",
    "    if bar_color != 'lightgrey':\n",
    "        bar_color_not_sig = 'lightgrey'\n",
    "        edgecolor=None\n",
    "        linewidth=0\n",
    "    else:\n",
    "        bar_color_not_sig = 'white'\n",
    "        edgecolor='black'\n",
    "        linewidth=1    \n",
    "\n",
    "    plt.figure(figsize=(24, 12))\n",
    "    \n",
    "    i = 0\n",
    "    bar_colors = [bar_color if (x < 0.05) else bar_color_not_sig for x in all_pvalues[i]]\n",
    "    fig = sns.barplot(x=np.log10(all_pvalues[i])*-1, y=all_terms[i], palette=bar_colors, edgecolor=edgecolor, linewidth=linewidth)\n",
    "    fig.axes.get_yaxis().set_visible(False)\n",
    "    fig.set_title(all_libraries[i].replace('_', ' '), fontsize=26)\n",
    "    fig.set_xlabel('−log₁₀(p‐value)', fontsize=25)\n",
    "    fig.xaxis.set_major_locator(MaxNLocator(integer=True))\n",
    "    fig.tick_params(axis='x', which='major', labelsize=20)\n",
    "    if max(np.log10(all_pvalues[i])*-1)<1:\n",
    "        fig.xaxis.set_ticks(np.arange(0, max(np.log10(all_pvalues[i])*-1), 0.1))\n",
    "    for ii,annot in enumerate(all_terms[i]):\n",
    "        if all_adjusted_pvalues[i][ii] < 0.05:\n",
    "            annot = '  *'.join([annot, str(str(np.format_float_scientific(all_pvalues[i][ii], precision=2)))]) \n",
    "        else:\n",
    "            annot = '  '.join([annot, str(str(np.format_float_scientific(all_pvalues[i][ii], precision=2)))])\n",
    "\n",
    "        title_start= max(fig.axes.get_xlim())/200\n",
    "        fig.text(title_start, ii, annot, ha='left', wrap = True, fontsize = 26)\n",
    "\n",
    "    fig.spines['right'].set_visible(False)\n",
    "    fig.spines['top'].set_visible(False)\n",
    "\n",
    "    for plot_name in plot_names:\n",
    "        plt.savefig(plot_name, bbox_inches = 'tight')\n",
    "    \n",
    "    # Show plot \n",
    "    plt.show()  "
   ]
  },
  {
   "cell_type": "code",
   "execution_count": 10,
   "metadata": {
    "execution": {
     "iopub.execute_input": "2021-12-07T21:00:41.236954Z",
     "iopub.status.busy": "2021-12-07T21:00:41.230215Z",
     "iopub.status.idle": "2021-12-07T21:00:46.103976Z",
     "shell.execute_reply": "2021-12-07T21:00:46.105192Z"
    }
   },
   "outputs": [
    {
     "data": {
      "image/png": "[encoded data removed]",
      "text/plain": [
       "<Figure size 1728x864 with 1 Axes>"
      ]
     },
     "metadata": {
      "needs_background": "light"
     },
     "output_type": "display_data"
    },
    {
     "data": {
      "text/html": [
       "Download png: <a href='Enrichr_results_bar.png' target='_blank'>Enrichr_results_bar.png</a><br>"
      ],
      "text/plain": [
       "/tmp/tmpcuqzuvmt/Enrichr_results_bar.png"
      ]
     },
     "metadata": {},
     "output_type": "display_data"
    },
    {
     "data": {
      "text/html": [
       "Download svg: <a href='Enrichr_results_bar.svg' target='_blank'>Enrichr_results_bar.svg</a><br>"
      ],
      "text/plain": [
       "/tmp/tmpcuqzuvmt/Enrichr_results_bar.svg"
      ]
     },
     "metadata": {},
     "output_type": "display_data"
    }
   ],
   "source": [
    "# Display Bar Chart\n",
    "try:\n",
    "    results = Enrichr_API(genes, [enrichr_library])\n",
    "    enrichr_figure(results[2], results[3], results[4], final_output_file_names, [enrichr_library], color)\n",
    "    # Download Bar Chart\n",
    "    for i, file in enumerate(final_output_file_names):\n",
    "        display(FileLink(file, result_html_prefix=str('Download ' + figure_file_format[i] + ': ')))\n",
    "except APIFailure:\n",
    "    results = []\n",
    "    display(HTML(\"<div style='font-size:1.5rem; padding:1rem 0;'><b>Unable to display plot because of a bad response from the Enrichr API</b></div>\"))\n",
    "    display(HTML(\"<div style='font-size:1rem; padding:1rem 0;'>Please try again later.\"))\n",
    "except NoResults:\n",
    "    results = []\n",
    "    display(HTML(\"<div style='font-size:1.5rem; padding:1rem 0;'><b>Unable to display plot because there were no results returned from Enrichr</b></div>\"))\n",
    "    display(HTML(\"<div style='font-size:1rem; padding:1rem 0;'>Please try again with a different Enrichr library, or a different query gene list.\"))"
   ]
  },
  {
   "cell_type": "markdown",
   "metadata": {},
   "source": [
    "# Hexagonal Canvas"
   ]
  },
  {
   "cell_type": "markdown",
   "metadata": {},
   "source": [
    "Each hexagon in the hexagonal canvas plot represents one gene set from the selected library. The hexagons are colored based on the Jaccard similarity index between the input gene list and the gene set represented by the hexagon, with brighter color indicating higher similarity. Hexagons that are grouped together represent similar gene sets. \n",
    "\n",
    "Hovering over a hexagon will display the name of the gene set and the associated similarity index. \n",
    "\n",
    "For creating customized hexagonal canvas plots for up to two libraries at once, use the standalone [Hexagonal Canvas Appyter](https://appyters.maayanlab.cloud/#Enrichr_Canvas_Appyter)."
   ]
  },
  {
   "cell_type": "code",
   "execution_count": 11,
   "metadata": {
    "execution": {
     "iopub.execute_input": "2021-12-07T21:00:46.130796Z",
     "iopub.status.busy": "2021-12-07T21:00:46.111720Z",
     "iopub.status.idle": "2021-12-07T21:00:46.132945Z",
     "shell.execute_reply": "2021-12-07T21:00:46.133339Z"
    }
   },
   "outputs": [],
   "source": [
    "# Hexagonal Canvas Functions\n",
    "\n",
    "def library_processing():\n",
    "    # Downloads library data for the hexagonal canvas\n",
    "    # Library data is pre-annealed so the canvas will have the most similar gene sets closest together\n",
    "    raw_library_data = []\n",
    "\n",
    "    try:\n",
    "        library_name = enrichr_library\n",
    "        with urllib.request.urlopen('https://raw.githubusercontent.com/MaayanLab/Enrichr-Viz-Appyter/master/Enrichr-Processed-Library-Storage/Annealing/Annealed-Libraries/' + enrichr_library + '.txt') as f:\n",
    "            for line in f.readlines():\n",
    "                raw_library_data.append(line.decode('utf-8').split(\"\\t\\t\"))\n",
    "        name = []\n",
    "        gene_list = []\n",
    "    except:\n",
    "        display(HTML(\"<div style='font-size:1.5rem; padding:1.5rem 0;'>Failed to retrieve the selected annealed library.</div>\"))\n",
    "        return [], -1, -1\n",
    "\n",
    "    for i in range(len(raw_library_data)):\n",
    "        name += [raw_library_data[i][0]]\n",
    "        raw_genes = raw_library_data[i][1].split('\\t')\n",
    "        gene_list += [raw_genes[:-1]]\n",
    "\n",
    "    library_data = [list(a) for a in zip(name, gene_list)]\n",
    "\n",
    "    # raw_library_data: a 2D list where the first element is the name and the second element is a list of genes associated with that name\n",
    "\n",
    "    jaccard_indices = []\n",
    "    indices = []\n",
    "\n",
    "    for gene_set in library_data:\n",
    "        intersection = [value for value in gene_set[1] if value in genes]\n",
    "        index = len(intersection)/(len(gene_set[1]) + len(genes))\n",
    "        jaccard_indices += [[gene_set[0], index]]\n",
    "        indices += [round(index, 5)]\n",
    "\n",
    "    # determine the dimensions of the canvas\n",
    "    x_dimension = math.ceil(math.sqrt(len(indices)))\n",
    "    y_dimension = math.ceil(math.sqrt(len(indices)))\n",
    "\n",
    "    # zip name, gene_list, indices, and blank list for neighbor score then add dummy entries to the zipped list\n",
    "    anneal_list = list(zip(name, gene_list, indices))\n",
    "\n",
    "    return anneal_list, x_dimension, y_dimension\n",
    "\n",
    "def unzip_list(anneal_list):\n",
    "    unzipped_list = zip(*anneal_list)\n",
    "    return list(unzipped_list)\n",
    "\n",
    "# define a list of colors for the hexagonal canvas\n",
    "def get_color(anneal_list, cut_off_value, x_dimension, y_dimension):\n",
    "\n",
    "    # Deal with cut_off_value (only color the most significant 10/20 hexagons)\n",
    "    if cut_off_value == 2.0:\n",
    "        sort_list = sorted(anneal_list, key=itemgetter(2), reverse=True)\n",
    "        cut_off_value = sort_list[int(num_hex_colored)-1][2]\n",
    "\n",
    "    r_value = 0\n",
    "    g_value = 0\n",
    "    b_value = 0\n",
    "\n",
    "    if canvas_color == 'Red':\n",
    "        r_value = 0.0\n",
    "        g_value = 0.8\n",
    "        b_value = 0.8\n",
    "    if canvas_color == 'Yellow':\n",
    "        r_value = 0.0\n",
    "        g_value = 0.3\n",
    "        b_value = 1.0\n",
    "    if canvas_color == 'Purple':\n",
    "        r_value = 0.5\n",
    "        g_value = 1.0\n",
    "        b_value = 0.0\n",
    "    if canvas_color == 'Pink':\n",
    "        r_value = 0.0\n",
    "        g_value = 1.0\n",
    "        b_value = 0.2\n",
    "    if canvas_color == 'Orange':\n",
    "        r_value = 0.0\n",
    "        g_value = 0.45\n",
    "        b_value = 1.0\n",
    "    if canvas_color == 'Green':\n",
    "        r_value = 1.0\n",
    "        g_value = 0.0\n",
    "        b_value = 1.0\n",
    "    if canvas_color == 'Blue':\n",
    "        r_value = 1.0\n",
    "        g_value = 0.9\n",
    "        b_value = 0.0\n",
    "\n",
    "    color_list = []\n",
    "\n",
    "    unzipped_anneal_list = unzip_list(anneal_list)\n",
    "\n",
    "    max_index = max(unzipped_anneal_list[2])\n",
    "\n",
    "    if max_index != 0:\n",
    "        scaled_list = [i/max_index for i in unzipped_anneal_list[2]]\n",
    "    else:\n",
    "        scaled_list = unzipped_anneal_list[2]\n",
    "\n",
    "    for i in range(x_dimension*y_dimension):\n",
    "        if i < len(unzipped_anneal_list[2]) and float(unzipped_anneal_list[2][i]) >= cut_off_value:\n",
    "            color_list += [mpl.colors.to_hex((1-scaled_list[i]*r_value, \n",
    "            1-scaled_list[i]*g_value, 1-scaled_list[i]*b_value))]\n",
    "        elif i < len(unzipped_anneal_list[2]):\n",
    "            color_list += [mpl.colors.to_hex((1-scaled_list[i], \n",
    "            1-scaled_list[i], 1-scaled_list[i]))]\n",
    "        else:\n",
    "            color_list += [\"#FFFFFF\"]\n",
    "    return color_list, max_index, cut_off_value\n",
    "\n",
    "def init_chart():\n",
    "  chart_id = 'mychart-' + str(uuid.uuid4())\n",
    "  display(HTML('<script src=\"/static/components/requirejs/require.js\"></script>'))\n",
    "  display(HTML(Template(dedent('''\n",
    "  <script>\n",
    "  require.config({\n",
    "    paths: {\n",
    "      'd3': 'https://cdnjs.cloudflare.com/ajax/libs/d3/5.16.0/d3.min',\n",
    "      'd3-hexbin': 'https://d3js.org/d3-hexbin.v0.2.min',\n",
    "    },\n",
    "    shim: {\n",
    "      'd3-hexbin': ['d3']\n",
    "    }\n",
    "  })\n",
    "\n",
    "  // If we configure mychart via url, we can eliminate this define here\n",
    "  define($chart_id, ['d3', 'd3-hexbin'], function(d3, d3_hexbin) {\n",
    "    return function (figure_id, numA, numB, colorList, libraryList, indices) {\n",
    "      var margin = {top: 50, right: 20, bottom: 20, left: 50},\n",
    "        width = 850 - margin.left - margin.right,\n",
    "        height = 350 - margin.top - margin.bottom;\n",
    "\n",
    "      // append the svg object to the body of the page\n",
    "      var svG = d3.select('#' + figure_id)\n",
    "                  .attr(\"width\", width + margin.left + margin.right)\n",
    "                  .attr(\"height\", height + margin.top + margin.bottom)\n",
    "                  .append(\"g\")\n",
    "                  .attr(\"transform\", \"translate(\" + margin.left + \",\" + margin.top + \")\");\n",
    "      \n",
    "      //The number of columns and rows of the heatmap\n",
    "      var MapColumns = numA,\n",
    "          MapRows = numB;\n",
    "\n",
    "      //The maximum radius the hexagons can have to still fit the screen\n",
    "      var hexRadius = d3.min([width/((MapColumns + 0.5) * Math.sqrt(3)), height/((MapRows + 1/3) * 1.5)]);\n",
    "\n",
    "      //Calculate the center position of each hexagon\n",
    "      var points = [];\n",
    "      for (var i = 0; i < MapRows; i++) {\n",
    "          for (var j = 0; j < MapColumns; j++) {\n",
    "              var x = hexRadius * j * Math.sqrt(3)\n",
    "              //Offset each uneven row by half of a \"hex-width\" to the right\n",
    "              if(i%2 === 1) x += (hexRadius * Math.sqrt(3))/2\n",
    "              var y = hexRadius * i * 1.5\n",
    "              points.push([x,y])\n",
    "          }\n",
    "      }\n",
    "\n",
    "      //Set the hexagon radius\n",
    "      var hexbin = d3_hexbin.hexbin().radius(hexRadius);\n",
    "\n",
    "      svG.append(\"g\")\n",
    "        .selectAll(\".hexagon\")\n",
    "        .data(hexbin(points))\n",
    "        .enter().append(\"path\")\n",
    "        .attr(\"class\", \"hexagon\")\n",
    "        .attr(\"d\", function (d) {\n",
    "            return \"M\" + d.x + \",\" + d.y + hexbin.hexagon();\n",
    "        })\n",
    "        .attr(\"stroke\", \"black\")\n",
    "        .attr(\"stroke-width\", \"1px\")\n",
    "        .style(\"fill\", function (d,i) { return colorList[i]; })\n",
    "        .on(\"mouseover\", mover)\n",
    "        .on(\"mouseout\", mout)\n",
    "        .append(\"svg:title\")\n",
    "        .text(function(d,i) { return libraryList[i].concat(\" \").concat(indices[i]); });\n",
    "\n",
    "      // Mouseover function\n",
    "      function mover(d) {\n",
    "      d3.select(this)\n",
    "        .transition().duration(10)  \n",
    "        .style(\"fill-opacity\", 0.3)\n",
    "      };\n",
    "\n",
    "      // Mouseout function\n",
    "      function mout(d) { \n",
    "      d3.select(this)\n",
    "        .transition().duration(10)\n",
    "        .style(\"fill-opacity\", 1)\n",
    "      };\n",
    "\n",
    "  }\n",
    "\n",
    "  })\n",
    "  </script>\n",
    "  ''')).substitute({ 'chart_id': repr(chart_id) })))\n",
    "  return chart_id\n",
    "\n",
    "def Canvas(numA, numB, colorList, libraryList, indices):\n",
    "  chart_id = init_chart()\n",
    "  display(HTML(Template(dedent('''\n",
    "  <svg id=$figure_id></svg>\n",
    "  <script>\n",
    "  require([$chart_id], function(mychart) {\n",
    "    mychart($figure_id, $numA, $numB, $colorList, $libraryList, $indices)\n",
    "  })\n",
    "  </script>\n",
    "  ''')).substitute({\n",
    "      'chart_id': repr(chart_id),\n",
    "      'figure_id': repr('fig-' + str(uuid.uuid4())),\n",
    "      'numA': repr(numA),\n",
    "      'numB': repr(numB),\n",
    "      'colorList': repr(colorList),\n",
    "      'libraryList': repr(libraryList),\n",
    "      'indices': repr(indices)\n",
    "  })))"
   ]
  },
  {
   "cell_type": "code",
   "execution_count": 12,
   "metadata": {
    "execution": {
     "iopub.execute_input": "2021-12-07T21:00:46.139569Z",
     "iopub.status.busy": "2021-12-07T21:00:46.138920Z",
     "iopub.status.idle": "2021-12-07T21:00:46.344035Z",
     "shell.execute_reply": "2021-12-07T21:00:46.344558Z"
    }
   },
   "outputs": [
    {
     "data": {
      "text/html": [
       "<script src=\"/static/components/requirejs/require.js\"></script>"
      ],
      "text/plain": [
       "<IPython.core.display.HTML object>"
      ]
     },
     "metadata": {},
     "output_type": "display_data"
    },
    {
     "data": {
      "text/html": [
       "\n",
       "<script>\n",
       "require.config({\n",
       "  paths: {\n",
       "    'd3': 'https://cdnjs.cloudflare.com/ajax/libs/d3/5.16.0/d3.min',\n",
       "    'd3-hexbin': 'https://d3js.org/d3-hexbin.v0.2.min',\n",
       "  },\n",
       "  shim: {\n",
       "    'd3-hexbin': ['d3']\n",
       "  }\n",
       "})\n",
       "\n",
       "// If we configure mychart via url, we can eliminate this define here\n",
       "define('mychart-418ba8b4-383c-4fe0-a8ae-84c1ceeef3ae', ['d3', 'd3-hexbin'], function(d3, d3_hexbin) {\n",
       "  return function (figure_id, numA, numB, colorList, libraryList, indices) {\n",
       "    var margin = {top: 50, right: 20, bottom: 20, left: 50},\n",
       "      width = 850 - margin.left - margin.right,\n",
       "      height = 350 - margin.top - margin.bottom;\n",
       "\n",
       "    // append the svg object to the body of the page\n",
       "    var svG = d3.select('#' + figure_id)\n",
       "                .attr(\"width\", width + margin.left + margin.right)\n",
       "                .attr(\"height\", height + margin.top + margin.bottom)\n",
       "                .append(\"g\")\n",
       "                .attr(\"transform\", \"translate(\" + margin.left + \",\" + margin.top + \")\");\n",
       "\n",
       "    //The number of columns and rows of the heatmap\n",
       "    var MapColumns = numA,\n",
       "        MapRows = numB;\n",
       "\n",
       "    //The maximum radius the hexagons can have to still fit the screen\n",
       "    var hexRadius = d3.min([width/((MapColumns + 0.5) * Math.sqrt(3)), height/((MapRows + 1/3) * 1.5)]);\n",
       "\n",
       "    //Calculate the center position of each hexagon\n",
       "    var points = [];\n",
       "    for (var i = 0; i < MapRows; i++) {\n",
       "        for (var j = 0; j < MapColumns; j++) {\n",
       "            var x = hexRadius * j * Math.sqrt(3)\n",
       "            //Offset each uneven row by half of a \"hex-width\" to the right\n",
       "            if(i%2 === 1) x += (hexRadius * Math.sqrt(3))/2\n",
       "            var y = hexRadius * i * 1.5\n",
       "            points.push([x,y])\n",
       "        }\n",
       "    }\n",
       "\n",
       "    //Set the hexagon radius\n",
       "    var hexbin = d3_hexbin.hexbin().radius(hexRadius);\n",
       "\n",
       "    svG.append(\"g\")\n",
       "      .selectAll(\".hexagon\")\n",
       "      .data(hexbin(points))\n",
       "      .enter().append(\"path\")\n",
       "      .attr(\"class\", \"hexagon\")\n",
       "      .attr(\"d\", function (d) {\n",
       "          return \"M\" + d.x + \",\" + d.y + hexbin.hexagon();\n",
       "      })\n",
       "      .attr(\"stroke\", \"black\")\n",
       "      .attr(\"stroke-width\", \"1px\")\n",
       "      .style(\"fill\", function (d,i) { return colorList[i]; })\n",
       "      .on(\"mouseover\", mover)\n",
       "      .on(\"mouseout\", mout)\n",
       "      .append(\"svg:title\")\n",
       "      .text(function(d,i) { return libraryList[i].concat(\" \").concat(indices[i]); });\n",
       "\n",
       "    // Mouseover function\n",
       "    function mover(d) {\n",
       "    d3.select(this)\n",
       "      .transition().duration(10)  \n",
       "      .style(\"fill-opacity\", 0.3)\n",
       "    };\n",
       "\n",
       "    // Mouseout function\n",
       "    function mout(d) { \n",
       "    d3.select(this)\n",
       "      .transition().duration(10)\n",
       "      .style(\"fill-opacity\", 1)\n",
       "    };\n",
       "\n",
       "}\n",
       "\n",
       "})\n",
       "</script>\n"
      ],
      "text/plain": [
       "<IPython.core.display.HTML object>"
      ]
     },
     "metadata": {},
     "output_type": "display_data"
    },
    {
     "data": {
      "text/html": [
       "\n",
       "<svg id='fig-39c27e2b-986c-4d68-b452-248b5a647e25'></svg>\n",
       "<script>\n",
       "require(['mychart-418ba8b4-383c-4fe0-a8ae-84c1ceeef3ae'], function(mychart) {\n",
       "  mychart('fig-39c27e2b-986c-4d68-b452-248b5a647e25', 8, 8, ['#ffffff', '#e8e8e8', '#e8e8e8', '#d0d0d0', '#ffffff', '#ffffff', '#b9b9b9', '#b9b9b9', '#ffffff', '#e1e1e1', '#e4e4e4', '#ffffff', '#ffffff', '#ffffff', '#b9b9b9', '#5f6fff', '#4558ff', '#a2acff', '#c4c4c4', '#ffffff', '#dddddd', '#7482ff', '#0019ff', '#4e60ff', '#ffffff', '#8b97ff', '#ffffff', '#ffffff', '#ffffff', '#e1e1e1', '#8b97ff', '#d0d0d0', '#dbdbdb', '#dcdcdc', '#ffffff', '#e3e3e3', '#dcdcdc', '#bbbbbb', '#ffffff', '#ffffff', '#e8e8e8', '#ffffff', '#ffffff', '#ffffff', '#e2e2e2', '#e2e2e2', '#ffffff', '#ffffff', '#b9b9b9', '#ffffff', '#ffffff', '#ffffff', '#ffffff', '#e8e8e8', '#99a3ff', '#e8e8e8', '#4558ff', '#e5e5e5', '#ffffff', '#ffffff', '#ffffff', '#a2acff', '#d1d1d1', '#c0c0c0'], ['mTORC1 Signaling', 'Glycolysis', 'Apical Junction', 'Mitotic Spindle', 'Notch Signaling', '', 'Estrogen Response Early', 'Estrogen Response Late', 'Xenobiotic Metabolism', 'Protein Secretion', 'Spermatogenesis', 'G2-M Checkpoint', 'Wnt-beta Catenin Signaling', 'Androgen Response', 'p53 Pathway', 'Coagulation', 'Complement', 'Interferon Gamma Response', 'Interferon Alpha Response', 'E2F Targets', 'TGF-beta Signaling', 'KRAS Signaling Up', 'TNF-alpha Signaling via NF-kB', 'Apoptosis', 'PI3K/AKT/mTOR  Signaling', 'Allograft Rejection', 'Myc Targets V1', 'Myc Targets V2', '', 'IL-6/JAK/STAT3 Signaling', 'Inflammatory Response', 'IL-2/STAT5 Signaling', 'Hedgehog Signaling', 'Apical Surface', '', 'Unfolded Protein Response', 'Pancreas Beta Cells', 'Reactive Oxygen Species Pathway', '', 'Angiogenesis', 'heme Metabolism', '', '', '', 'Bile Acid Metabolism', 'Pperoxisome', 'Fatty Acid Metabolism', 'DNA Repair', 'Adipogenesis', '', '', '', '', 'KRAS Signaling Dn', 'UV Response Up', 'Oxidative Phosphorylation', 'Hypoxia', 'UV Response Dn', '', '', '', 'Myogenesis', 'Epithelial Mesenchymal Transition', 'Cholesterol Homeostasis'], [0.0, 0.00212, 0.00212, 0.00426, 0.0, 0.0, 0.00637, 0.00637, 0.0, 0.00272, 0.00246, 0.0, 0.0, 0.0, 0.00637, 0.01467, 0.01699, 0.00849, 0.00543, 0.0, 0.00308, 0.01274, 0.02335, 0.0162, 0.0, 0.01062, 0.0, 0.0, 0.0, 0.00279, 0.01062, 0.00426, 0.00326, 0.00317, 0.0, 0.0026, 0.00322, 0.00625, 0.0, 0.0, 0.00212, 0.0, 0.0, 0.0, 0.00261, 0.00267, 0.0, 0.0, 0.00637, 0.0, 0.0, 0.0, 0.0, 0.00212, 0.00932, 0.00212, 0.01699, 0.00241, 0.0, 0.0, 0.0, 0.00849, 0.00425, 0.0058])\n",
       "})\n",
       "</script>\n"
      ],
      "text/plain": [
       "<IPython.core.display.HTML object>"
      ]
     },
     "metadata": {},
     "output_type": "display_data"
    }
   ],
   "source": [
    "# Display Hexagonal Canvas\n",
    "anneal_list, x_dimension, y_dimension = library_processing()\n",
    "if x_dimension < 0:\n",
    "    display(HTML(\"<div style='font-size:1rem;'>Unable to create hexagonal canvas visualization.</div>\"))\n",
    "else:\n",
    "    color_list, scaling_factor, cut_off_value = get_color(anneal_list, 2.0, x_dimension, y_dimension)\n",
    "    unzipped_anneal_list = unzip_list(anneal_list)\n",
    "    if len(set(unzipped_anneal_list[2])) > 1:\n",
    "        Canvas(x_dimension, y_dimension, color_list, list(unzipped_anneal_list[0]), list(unzipped_anneal_list[2]))\n",
    "    else:\n",
    "        display(HTML(\"<div style='font-size:1.5rem; padding:1rem 0;'><b>Unable to display plot because there were no results returned from Enrichr</b></div>\"))\n",
    "        display(HTML(\"<div style='font-size:1rem; padding:1rem 0;'>Please try again with a different Enrichr library, or a different query gene list.\"))"
   ]
  },
  {
   "cell_type": "markdown",
   "metadata": {},
   "source": [
    "# Manhattan Plot"
   ]
  },
  {
   "cell_type": "markdown",
   "metadata": {},
   "source": [
    "In the Manhattan plot below, each line on the x-axis denotes a single gene set from the selected library, while the y-axis measures the −log₁₀(p‐value) for each gene set. \n",
    "\n",
    "Hovering over a point will display the name of the gene set and the associated p-value. You can also zoom, pan, and save the plot as an svg using the toolbar on the right.\n",
    "\n",
    "For creating customized static and dynamic Manhattan plots to compare multiple libraries at once, use the standalone [Manhattan Plot Appyter](https://appyters.maayanlab.cloud/#Enrichr_Manhattan_Plot)."
   ]
  },
  {
   "cell_type": "code",
   "execution_count": 13,
   "metadata": {
    "execution": {
     "iopub.execute_input": "2021-12-07T21:00:46.350566Z",
     "iopub.status.busy": "2021-12-07T21:00:46.349330Z",
     "iopub.status.idle": "2021-12-07T21:00:46.365350Z",
     "shell.execute_reply": "2021-12-07T21:00:46.364930Z"
    }
   },
   "outputs": [],
   "source": [
    "# Manhattan Plot Functions\n",
    "\n",
    "# Processes Enrichr data for Manhattan plots\n",
    "def get_data(genes):\n",
    "    # Process Enrichr data\n",
    "    sorted_data = pd.DataFrame({\"Gene Set\": [], \"-log(p value)\": [], \"Library\": []})\n",
    "\n",
    "    # get enrichr results from the library selected\n",
    "    results_df = Enrichr_API(genes, [enrichr_library])[0]\n",
    "\n",
    "    all_terms = []\n",
    "    all_pvalues = []\n",
    "    library_names = []\n",
    "\n",
    "    all_terms.append(list(results_df[1]))\n",
    "    all_pvalues.append(list(results_df[2]))\n",
    "    library_names.append(list(results_df['library']))\n",
    "\n",
    "    x=np.log10(all_pvalues[0])*-1\n",
    "    sorted_terms = list(zip(all_terms[0], x, library_names[0]))\n",
    "    sorted_terms = sorted(sorted_terms, key = itemgetter(0))\n",
    "    unzipped_sorted_list = list(zip(*sorted_terms))\n",
    "\n",
    "    data = pd.DataFrame({\"Gene Set\": unzipped_sorted_list[0], \"-log(p value)\": unzipped_sorted_list[1], \"Library\": unzipped_sorted_list[2]})\n",
    "\n",
    "    sorted_data = pd.concat([sorted_data, data])\n",
    "\n",
    "    # group data by library\n",
    "    groups = sorted_data.groupby(\"Library\")\n",
    "    return sorted_data, groups\n",
    "\n",
    "# Create Manhattan Plots\n",
    "def manhattan(sorted_data):\n",
    "    # split data frame into smaller data frames by library\n",
    "    list_of_df = []\n",
    "    for library_name in [enrichr_library]:\n",
    "        library_name = library_name.replace('_', '')\n",
    "        df_new = sorted_data[sorted_data['Library'] == library_name]\n",
    "        list_of_df += [df_new]\n",
    "\n",
    "    list_of_xaxis_values = []\n",
    "    for df in list_of_df:  \n",
    "        list_of_xaxis_values += df[\"Gene Set\"].values.tolist()\n",
    "\n",
    "    # define the output figure and the features we want\n",
    "    p = figure(x_range = list_of_xaxis_values, plot_height=300, plot_width=750, tools='pan, box_zoom, hover, reset, save')\n",
    "\n",
    "    # loop over all libraries\n",
    "    r = []\n",
    "    color_index = 0\n",
    "    for df in list_of_df:\n",
    "        if color_index >= len(manhattan_colors):\n",
    "            color_index = 0 \n",
    "\n",
    "        # calculate actual p value from -log(p value)\n",
    "        actual_pvalues = []\n",
    "        for log_value in df[\"-log(p value)\"].values.tolist():\n",
    "            actual_pvalues += [\"{:.5e}\".format(10**(-1*log_value))]\n",
    "\n",
    "        # define ColumnDataSource with our data for this library\n",
    "        source = ColumnDataSource(data=dict(\n",
    "            x = df[\"Gene Set\"].values.tolist(),\n",
    "            y = df[\"-log(p value)\"].values.tolist(),\n",
    "            pvalue = actual_pvalues,\n",
    "        ))\n",
    "    \n",
    "        # plot data from this library\n",
    "        r += [p.circle(x = 'x', y = 'y', size=5, fill_color=manhattan_colors[color_index], line_color = manhattan_colors[color_index], line_width=1, source = source)]\n",
    "        color_index += 1\n",
    "\n",
    "    p.background_fill_color = 'white'\n",
    "    p.xaxis.major_tick_line_color = None \n",
    "    p.xaxis.major_label_text_font_size = '0pt'\n",
    "    p.y_range.start = 0\n",
    "    p.yaxis.axis_label = '-log(p value)'\n",
    "\n",
    "    p.hover.tooltips = [\n",
    "        (\"Gene Set\", \"@x\"),\n",
    "        (\"p value\", \"@pvalue\"),\n",
    "    ]\n",
    "    p.output_backend = \"svg\"\n",
    "    \n",
    "    # returns the plot\n",
    "    return p"
   ]
  },
  {
   "cell_type": "code",
   "execution_count": 14,
   "metadata": {
    "execution": {
     "iopub.execute_input": "2021-12-07T21:00:46.369831Z",
     "iopub.status.busy": "2021-12-07T21:00:46.369106Z",
     "iopub.status.idle": "2021-12-07T21:00:47.279693Z",
     "shell.execute_reply": "2021-12-07T21:00:47.280485Z"
    }
   },
   "outputs": [
    {
     "data": {
      "text/html": [
       "\n",
       "\n",
       "\n",
       "\n",
       "\n",
       "\n",
       "  <div class=\"bk-root\" id=\"fbb149aa-50b9-492a-889a-52db30183ebc\" data-root-id=\"1097\"></div>\n"
      ]
     },
     "metadata": {},
     "output_type": "display_data"
    },
    {
     "data": {
      "application/javascript": [
       "(function(root) {\n",
       "  function embed_document(root) {\n",
       "    \n",
       "  var docs_json = {\"08682e49-9f82-4165-89eb-2cc7e2215a4a\":{\"defs\":[],\"roots\":{\"references\":[{\"attributes\":{\"background_fill_color\":\"white\",\"below\":[{\"id\":\"1106\"}],\"center\":[{\"id\":\"1108\"},{\"id\":\"1112\"}],\"height\":300,\"left\":[{\"id\":\"1109\"}],\"output_backend\":\"svg\",\"renderers\":[{\"id\":\"1129\"}],\"title\":{\"id\":\"1143\"},\"toolbar\":{\"id\":\"1119\"},\"width\":750,\"x_range\":{\"id\":\"1098\"},\"x_scale\":{\"id\":\"1102\"},\"y_range\":{\"id\":\"1100\"},\"y_scale\":{\"id\":\"1104\"}},\"id\":\"1097\",\"subtype\":\"Figure\",\"type\":\"Plot\"},{\"attributes\":{\"start\":0},\"id\":\"1100\",\"type\":\"DataRange1d\"},{\"attributes\":{},\"id\":\"1151\",\"type\":\"Selection\"},{\"attributes\":{},\"id\":\"1146\",\"type\":\"BasicTickFormatter\"},{\"attributes\":{\"axis\":{\"id\":\"1106\"},\"ticker\":null},\"id\":\"1108\",\"type\":\"Grid\"},{\"attributes\":{},\"id\":\"1102\",\"type\":\"CategoricalScale\"},{\"attributes\":{},\"id\":\"1117\",\"type\":\"SaveTool\"},{\"attributes\":{},\"id\":\"1150\",\"type\":\"UnionRenderers\"},{\"attributes\":{},\"id\":\"1110\",\"type\":\"BasicTicker\"},{\"attributes\":{\"overlay\":{\"id\":\"1118\"}},\"id\":\"1114\",\"type\":\"BoxZoomTool\"},{\"attributes\":{\"fill_color\":{\"value\":\"#003f5c\"},\"line_color\":{\"value\":\"#003f5c\"},\"size\":{\"value\":5},\"x\":{\"field\":\"x\"},\"y\":{\"field\":\"y\"}},\"id\":\"1127\",\"type\":\"Circle\"},{\"attributes\":{\"data_source\":{\"id\":\"1125\"},\"glyph\":{\"id\":\"1127\"},\"hover_glyph\":null,\"muted_glyph\":null,\"nonselection_glyph\":{\"id\":\"1128\"},\"view\":{\"id\":\"1130\"}},\"id\":\"1129\",\"type\":\"GlyphRenderer\"},{\"attributes\":{},\"id\":\"1107\",\"type\":\"CategoricalTicker\"},{\"attributes\":{\"active_multi\":null,\"tools\":[{\"id\":\"1113\"},{\"id\":\"1114\"},{\"id\":\"1115\"},{\"id\":\"1116\"},{\"id\":\"1117\"}]},\"id\":\"1119\",\"type\":\"Toolbar\"},{\"attributes\":{},\"id\":\"1144\",\"type\":\"AllLabels\"},{\"attributes\":{\"callback\":null,\"tooltips\":[[\"Gene Set\",\"@x\"],[\"p value\",\"@pvalue\"]]},\"id\":\"1115\",\"type\":\"HoverTool\"},{\"attributes\":{},\"id\":\"1116\",\"type\":\"ResetTool\"},{\"attributes\":{},\"id\":\"1104\",\"type\":\"LinearScale\"},{\"attributes\":{\"factors\":[\"Adipogenesis\",\"Allograft Rejection\",\"Apical Junction\",\"Apical Surface\",\"Apoptosis\",\"Bile Acid Metabolism\",\"Cholesterol Homeostasis\",\"Coagulation\",\"Complement\",\"Epithelial Mesenchymal Transition\",\"Estrogen Response Early\",\"Estrogen Response Late\",\"Glycolysis\",\"Hedgehog Signaling\",\"Hypoxia\",\"IL-2/STAT5 Signaling\",\"IL-6/JAK/STAT3 Signaling\",\"Inflammatory Response\",\"Interferon Alpha Response\",\"Interferon Gamma Response\",\"KRAS Signaling Dn\",\"KRAS Signaling Up\",\"Mitotic Spindle\",\"Myogenesis\",\"Oxidative Phosphorylation\",\"Pancreas Beta Cells\",\"Pperoxisome\",\"Protein Secretion\",\"Reactive Oxygen Species Pathway\",\"Spermatogenesis\",\"TGF-beta Signaling\",\"TNF-alpha Signaling via NF-kB\",\"UV Response Dn\",\"UV Response Up\",\"Unfolded Protein Response\",\"heme Metabolism\",\"p53 Pathway\"]},\"id\":\"1098\",\"type\":\"FactorRange\"},{\"attributes\":{},\"id\":\"1147\",\"type\":\"AllLabels\"},{\"attributes\":{\"bottom_units\":\"screen\",\"fill_alpha\":0.5,\"fill_color\":\"lightgrey\",\"left_units\":\"screen\",\"level\":\"overlay\",\"line_alpha\":1.0,\"line_color\":\"black\",\"line_dash\":[4,4],\"line_width\":2,\"right_units\":\"screen\",\"syncable\":false,\"top_units\":\"screen\"},\"id\":\"1118\",\"type\":\"BoxAnnotation\"},{\"attributes\":{\"axis\":{\"id\":\"1109\"},\"dimension\":1,\"ticker\":null},\"id\":\"1112\",\"type\":\"Grid\"},{\"attributes\":{},\"id\":\"1113\",\"type\":\"PanTool\"},{\"attributes\":{},\"id\":\"1149\",\"type\":\"CategoricalTickFormatter\"},{\"attributes\":{\"source\":{\"id\":\"1125\"}},\"id\":\"1130\",\"type\":\"CDSView\"},{\"attributes\":{},\"id\":\"1143\",\"type\":\"Title\"},{\"attributes\":{\"axis_label\":\"-log(p value)\",\"formatter\":{\"id\":\"1146\"},\"major_label_policy\":{\"id\":\"1144\"},\"ticker\":{\"id\":\"1110\"}},\"id\":\"1109\",\"type\":\"LinearAxis\"},{\"attributes\":{\"fill_alpha\":{\"value\":0.1},\"fill_color\":{\"value\":\"#003f5c\"},\"line_alpha\":{\"value\":0.1},\"line_color\":{\"value\":\"#003f5c\"},\"size\":{\"value\":5},\"x\":{\"field\":\"x\"},\"y\":{\"field\":\"y\"}},\"id\":\"1128\",\"type\":\"Circle\"},{\"attributes\":{\"data\":{\"pvalue\":[\"5.10866e-01\",\"1.36280e-01\",\"9.35576e-01\",\"4.51696e-01\",\"6.46514e-03\",\"7.83952e-01\",\"2.65227e-01\",\"1.13875e-02\",\"6.06633e-03\",\"7.56788e-01\",\"5.10866e-01\",\"5.10866e-01\",\"9.35576e-01\",\"3.88333e-01\",\"6.06633e-03\",\"7.54329e-01\",\"6.95622e-01\",\"1.36280e-01\",\"3.79267e-01\",\"2.87329e-01\",\"9.35576e-01\",\"5.53467e-02\",\"7.54329e-01\",\"2.87329e-01\",\"9.35576e-01\",\"4.20877e-01\",\"7.58895e-01\",\"7.30943e-01\",\"1.42434e-01\",\"8.42446e-01\",\"5.21781e-01\",\"9.37058e-05\",\"8.60771e-01\",\"1.67351e-01\",\"7.86896e-01\",\"9.35576e-01\",\"5.10866e-01\"],\"x\":[\"Adipogenesis\",\"Allograft Rejection\",\"Apical Junction\",\"Apical Surface\",\"Apoptosis\",\"Bile Acid Metabolism\",\"Cholesterol Homeostasis\",\"Coagulation\",\"Complement\",\"Epithelial Mesenchymal Transition\",\"Estrogen Response Early\",\"Estrogen Response Late\",\"Glycolysis\",\"Hedgehog Signaling\",\"Hypoxia\",\"IL-2/STAT5 Signaling\",\"IL-6/JAK/STAT3 Signaling\",\"Inflammatory Response\",\"Interferon Alpha Response\",\"Interferon Gamma Response\",\"KRAS Signaling Dn\",\"KRAS Signaling Up\",\"Mitotic Spindle\",\"Myogenesis\",\"Oxidative Phosphorylation\",\"Pancreas Beta Cells\",\"Pperoxisome\",\"Protein Secretion\",\"Reactive Oxygen Species Pathway\",\"Spermatogenesis\",\"TGF-beta Signaling\",\"TNF-alpha Signaling via NF-kB\",\"UV Response Dn\",\"UV Response Up\",\"Unfolded Protein Response\",\"heme Metabolism\",\"p53 Pathway\"],\"y\":[0.2916932241293376,0.8655689107313758,0.028921135872797467,0.3451536407672497,2.189422141477177,0.10571039485922086,0.5763823214772139,1.9435731256509023,2.2170737135316094,0.12102548937020521,0.2916932241293376,0.2916932241293376,0.028921135872797467,0.4107957071090652,2.2170737135316094,0.12243905021667006,0.15762698412427772,0.8655689107313758,0.42105516917692165,0.541619935840599,0.028921135872797467,1.2569082777298548,0.12243905021667006,0.541619935840599,0.028921135872797467,0.3758444869275104,0.1198184766385067,0.13611655511399326,0.8463873544208736,0.07445778339981633,0.28251208842099684,4.028233407127343,0.06511229329437096,0.7763714056923441,0.10408257865608363,0.028921135872797467,0.2916932241293376]},\"selected\":{\"id\":\"1151\"},\"selection_policy\":{\"id\":\"1150\"}},\"id\":\"1125\",\"type\":\"ColumnDataSource\"},{\"attributes\":{\"formatter\":{\"id\":\"1149\"},\"major_label_policy\":{\"id\":\"1147\"},\"major_label_text_font_size\":\"0pt\",\"major_tick_line_color\":null,\"ticker\":{\"id\":\"1107\"}},\"id\":\"1106\",\"type\":\"CategoricalAxis\"}],\"root_ids\":[\"1097\"]},\"title\":\"Bokeh Application\",\"version\":\"2.3.2\"}};\n",
       "  var render_items = [{\"docid\":\"08682e49-9f82-4165-89eb-2cc7e2215a4a\",\"root_ids\":[\"1097\"],\"roots\":{\"1097\":\"fbb149aa-50b9-492a-889a-52db30183ebc\"}}];\n",
       "  root.Bokeh.embed.embed_items_notebook(docs_json, render_items);\n",
       "\n",
       "  }\n",
       "  if (root.Bokeh !== undefined) {\n",
       "    embed_document(root);\n",
       "  } else {\n",
       "    var attempts = 0;\n",
       "    var timer = setInterval(function(root) {\n",
       "      if (root.Bokeh !== undefined) {\n",
       "        clearInterval(timer);\n",
       "        embed_document(root);\n",
       "      } else {\n",
       "        attempts++;\n",
       "        if (attempts > 100) {\n",
       "          clearInterval(timer);\n",
       "          console.log(\"Bokeh: ERROR: Unable to run BokehJS code because BokehJS library is missing\");\n",
       "        }\n",
       "      }\n",
       "    }, 10, root)\n",
       "  }\n",
       "})(window);"
      ],
      "application/vnd.bokehjs_exec.v0+json": ""
     },
     "metadata": {
      "application/vnd.bokehjs_exec.v0+json": {
       "id": "1097"
      }
     },
     "output_type": "display_data"
    }
   ],
   "source": [
    "# Display Manhattan Plot\n",
    "try:\n",
    "    sorted_data, groups = get_data(genes)\n",
    "    show(manhattan(sorted_data))\n",
    "except APIFailure:\n",
    "    display(HTML(\"<div style='font-size:1.5rem; padding:1rem 0;'><b>Unable to display plot because of a bad response from the Enrichr API</b></div>\"))\n",
    "    display(HTML(\"<div style='font-size:1rem; padding:1rem 0;'>Please try again later.\"))\n",
    "except NoResults:\n",
    "    display(HTML(\"<div style='font-size:1.5rem; padding:1rem 0;'><b>Unable to display plot because there were no results returned from Enrichr</b></div>\"))\n",
    "    display(HTML(\"<div style='font-size:1rem; padding:1rem 0;'>Please try again with a different Enrichr library, or a different query gene list.\"))"
   ]
  },
  {
   "cell_type": "markdown",
   "metadata": {},
   "source": [
    "# Volcano Plot"
   ]
  },
  {
   "cell_type": "markdown",
   "metadata": {},
   "source": [
    "The volcano plot shows the significance of each gene set from the selected library versus its odds ratio. Each point represents a single geneset; the x-axis measures the odds ratio (0, inf) calculated for the gene set, while the y-axis gives the -log(p-value) of the gene set. \n",
    "\n",
    "Larger blue points represent significant terms (p-value < 0.05); smaller gray points represent non-significant terms. The darker the blue color of a point, the more significant it is. \n",
    "\n",
    "Hovering over points will display the corresponding gene set term, the p-value, and the odds ratio. You may have to zoom in using the toolbar next to the plot in order to see details in densely-populated portions. Plots can also be downloaded as an svg using the save function on the toolbar."
   ]
  },
  {
   "cell_type": "code",
   "execution_count": 15,
   "metadata": {
    "execution": {
     "iopub.execute_input": "2021-12-07T21:00:47.289212Z",
     "iopub.status.busy": "2021-12-07T21:00:47.286323Z",
     "iopub.status.idle": "2021-12-07T21:00:47.300942Z",
     "shell.execute_reply": "2021-12-07T21:00:47.301300Z"
    }
   },
   "outputs": [],
   "source": [
    "def get_library(lib_name):\n",
    "    '''\n",
    "    Returns a dictionary mapping each term from the input library to \n",
    "    its associated geneset. \n",
    "    '''\n",
    "    raw_lib_data = []\n",
    "\n",
    "    with urllib.request.urlopen('https://maayanlab.cloud/Enrichr/geneSetLibrary?mode=text&libraryName=' + lib_name) as f:\n",
    "        for line in f.readlines():\n",
    "            raw_lib_data.append(line.decode(\"utf-8\").split(\"\\t\\t\"))\n",
    "\n",
    "    name = []\n",
    "    gene_list = []\n",
    "    lib_data = {}\n",
    "\n",
    "    for i in range(len(raw_lib_data)):\n",
    "        name += [raw_lib_data[i][0]]\n",
    "        raw_genes = raw_lib_data[i][1].replace('\\t', ' ')\n",
    "        gene_list += [raw_genes[:-1]]\n",
    "    \n",
    "    lib_data = {a[0]:a[1].split(' ') for a in zip(name, gene_list)}\n",
    "    return lib_data\n",
    "\n",
    "\n",
    "def volcano_plot(library_name, lib):\n",
    "    '''\n",
    "    Make volcano plot of odds ratio vs. significance for input library.\n",
    "    '''\n",
    "    enrich_results = enrich_crisp(genes, lib, 21000, True)\n",
    "\n",
    "    res_df = pd.DataFrame(\n",
    "        [ [\n",
    "            term, \n",
    "            res.pvalue, \n",
    "            res.odds_ratio\n",
    "        ] for (term, res) in enrich_results ], \n",
    "        columns=['term', 'pvalue', 'odds_ratio']\n",
    "    )\n",
    "\n",
    "    res_df['log_pval'] = np.negative(np.log10(res_df['pvalue']))\n",
    "\n",
    "    cmap = mpl.cm.get_cmap('Blues_r')\n",
    "    cnorm = mpl.colors.Normalize(vmin = res_df['pvalue'].min(), vmax = 0.1)\n",
    "\n",
    "    my_colors = []\n",
    "    my_sizes = []\n",
    "    for row in res_df.itertuples():\n",
    "        if row.pvalue < 0.05:\n",
    "            my_colors += [mpl.colors.to_hex(cmap(cnorm(row.pvalue)))]\n",
    "            my_sizes += [12]\n",
    "        else:\n",
    "            my_colors += ['#808080']\n",
    "            my_sizes += [6]\n",
    "\n",
    "    source = ColumnDataSource(\n",
    "        data=dict(\n",
    "            x = res_df['odds_ratio'],\n",
    "            y = res_df['log_pval'],\n",
    "            gene_set = res_df['term'],\n",
    "            p_value = res_df['pvalue'],\n",
    "            odds_r = res_df['odds_ratio'],\n",
    "            colors = my_colors,\n",
    "            sizes = my_sizes\n",
    "        )\n",
    "    )\n",
    "\n",
    "    hover_emb = HoverTool(\n",
    "        names=[\"res_df\"], \n",
    "        tooltips=\"\"\"\n",
    "        <div style=\"margin: 10\">\n",
    "            <div style=\"margin: 0 auto; width:200px;\">\n",
    "                <span style=\"font-size: 12px; font-weight: bold;\">Term:</span>\n",
    "                <span style=\"font-size: 12px\">@gene_set<br></span>\n",
    "                <span style=\"font-size: 12px; font-weight: bold;\">P-Value:</span>\n",
    "                <span style=\"font-size: 12px\">@p_value<br></span>\n",
    "                <span style=\"font-size: 12px; font-weight: bold;\">Odds Ratio:</span>\n",
    "                <span style=\"font-size: 12px\">@odds_r<br></span>\n",
    "            </div>\n",
    "        </div>\n",
    "        \"\"\"\n",
    "    )\n",
    "\n",
    "    tools_emb = [hover_emb, 'pan', 'wheel_zoom', 'reset', 'save']\n",
    "\n",
    "    plot_emb = figure(\n",
    "        plot_width = 700, \n",
    "        plot_height = 700,\n",
    "        tools=tools_emb\n",
    "    )\n",
    "\n",
    "    plot_emb.circle(\n",
    "        'x', 'y', size = 'sizes', \n",
    "        alpha = 0.7, line_alpha = 0, \n",
    "        line_width = 0.01, source = source, \n",
    "        fill_color = 'colors', name = \"res_df\"\n",
    "    )\n",
    "\n",
    "    plot_emb.xaxis.axis_label = \"Odds Ratio\"\n",
    "    plot_emb.yaxis.axis_label = \"-log10(p-value)\"\n",
    "\n",
    "    plot_emb.output_backend = \"svg\"\n",
    "    \n",
    "    return plot_emb"
   ]
  },
  {
   "cell_type": "code",
   "execution_count": 16,
   "metadata": {
    "execution": {
     "iopub.execute_input": "2021-12-07T21:00:47.308041Z",
     "iopub.status.busy": "2021-12-07T21:00:47.307324Z",
     "iopub.status.idle": "2021-12-07T21:00:47.907513Z",
     "shell.execute_reply": "2021-12-07T21:00:47.905486Z"
    }
   },
   "outputs": [
    {
     "data": {
      "text/html": [
       "\n",
       "\n",
       "\n",
       "\n",
       "\n",
       "\n",
       "  <div class=\"bk-root\" id=\"8f3ab6ac-c789-4a07-b42a-1e08eda1038d\" data-root-id=\"1210\"></div>\n"
      ]
     },
     "metadata": {},
     "output_type": "display_data"
    },
    {
     "data": {
      "application/javascript": [
       "(function(root) {\n",
       "  function embed_document(root) {\n",
       "    \n",
       "  var docs_json = {\"6119d8e1-a236-4d1c-9479-f35cf1cac109\":{\"defs\":[],\"roots\":{\"references\":[{\"attributes\":{\"below\":[{\"id\":\"1219\"}],\"center\":[{\"id\":\"1222\"},{\"id\":\"1226\"}],\"height\":700,\"left\":[{\"id\":\"1223\"}],\"output_backend\":\"svg\",\"renderers\":[{\"id\":\"1240\"}],\"title\":{\"id\":\"1264\"},\"toolbar\":{\"id\":\"1231\"},\"width\":700,\"x_range\":{\"id\":\"1211\"},\"x_scale\":{\"id\":\"1215\"},\"y_range\":{\"id\":\"1213\"},\"y_scale\":{\"id\":\"1217\"}},\"id\":\"1210\",\"subtype\":\"Figure\",\"type\":\"Plot\"},{\"attributes\":{},\"id\":\"1268\",\"type\":\"AllLabels\"},{\"attributes\":{},\"id\":\"1230\",\"type\":\"SaveTool\"},{\"attributes\":{},\"id\":\"1270\",\"type\":\"BasicTickFormatter\"},{\"attributes\":{},\"id\":\"1265\",\"type\":\"AllLabels\"},{\"attributes\":{},\"id\":\"1220\",\"type\":\"BasicTicker\"},{\"attributes\":{\"data_source\":{\"id\":\"1208\"},\"glyph\":{\"id\":\"1238\"},\"hover_glyph\":null,\"muted_glyph\":null,\"name\":\"res_df\",\"nonselection_glyph\":{\"id\":\"1239\"},\"view\":{\"id\":\"1241\"}},\"id\":\"1240\",\"type\":\"GlyphRenderer\"},{\"attributes\":{\"callback\":null,\"names\":[\"res_df\"],\"tooltips\":\"\\n        <div style=\\\"margin: 10\\\">\\n            <div style=\\\"margin: 0 auto; width:200px;\\\">\\n                <span style=\\\"font-size: 12px; font-weight: bold;\\\">Term:</span>\\n                <span style=\\\"font-size: 12px\\\">@gene_set<br></span>\\n                <span style=\\\"font-size: 12px; font-weight: bold;\\\">P-Value:</span>\\n                <span style=\\\"font-size: 12px\\\">@p_value<br></span>\\n                <span style=\\\"font-size: 12px; font-weight: bold;\\\">Odds Ratio:</span>\\n                <span style=\\\"font-size: 12px\\\">@odds_r<br></span>\\n            </div>\\n        </div>\\n        \"},\"id\":\"1209\",\"type\":\"HoverTool\"},{\"attributes\":{\"axis_label\":\"-log10(p-value)\",\"formatter\":{\"id\":\"1267\"},\"major_label_policy\":{\"id\":\"1265\"},\"ticker\":{\"id\":\"1224\"}},\"id\":\"1223\",\"type\":\"LinearAxis\"},{\"attributes\":{\"fill_alpha\":{\"value\":0.7},\"fill_color\":{\"field\":\"colors\"},\"line_alpha\":{\"value\":0},\"line_color\":{\"value\":\"#1f77b4\"},\"line_width\":{\"value\":0.01},\"size\":{\"field\":\"sizes\"},\"x\":{\"field\":\"x\"},\"y\":{\"field\":\"y\"}},\"id\":\"1238\",\"type\":\"Circle\"},{\"attributes\":{\"axis_label\":\"Odds Ratio\",\"formatter\":{\"id\":\"1270\"},\"major_label_policy\":{\"id\":\"1268\"},\"ticker\":{\"id\":\"1220\"}},\"id\":\"1219\",\"type\":\"LinearAxis\"},{\"attributes\":{},\"id\":\"1267\",\"type\":\"BasicTickFormatter\"},{\"attributes\":{\"fill_alpha\":{\"value\":0.1},\"fill_color\":{\"field\":\"colors\"},\"line_alpha\":{\"value\":0.1},\"line_color\":{\"value\":\"#1f77b4\"},\"line_width\":{\"value\":0.01},\"size\":{\"field\":\"sizes\"},\"x\":{\"field\":\"x\"},\"y\":{\"field\":\"y\"}},\"id\":\"1239\",\"type\":\"Circle\"},{\"attributes\":{},\"id\":\"1211\",\"type\":\"DataRange1d\"},{\"attributes\":{},\"id\":\"1213\",\"type\":\"DataRange1d\"},{\"attributes\":{},\"id\":\"1217\",\"type\":\"LinearScale\"},{\"attributes\":{},\"id\":\"1215\",\"type\":\"LinearScale\"},{\"attributes\":{\"axis\":{\"id\":\"1219\"},\"ticker\":null},\"id\":\"1222\",\"type\":\"Grid\"},{\"attributes\":{},\"id\":\"1271\",\"type\":\"UnionRenderers\"},{\"attributes\":{\"axis\":{\"id\":\"1223\"},\"dimension\":1,\"ticker\":null},\"id\":\"1226\",\"type\":\"Grid\"},{\"attributes\":{},\"id\":\"1224\",\"type\":\"BasicTicker\"},{\"attributes\":{},\"id\":\"1264\",\"type\":\"Title\"},{\"attributes\":{},\"id\":\"1272\",\"type\":\"Selection\"},{\"attributes\":{\"active_multi\":null,\"tools\":[{\"id\":\"1209\"},{\"id\":\"1227\"},{\"id\":\"1228\"},{\"id\":\"1229\"},{\"id\":\"1230\"}]},\"id\":\"1231\",\"type\":\"Toolbar\"},{\"attributes\":{},\"id\":\"1228\",\"type\":\"WheelZoomTool\"},{\"attributes\":{},\"id\":\"1227\",\"type\":\"PanTool\"},{\"attributes\":{},\"id\":\"1229\",\"type\":\"ResetTool\"},{\"attributes\":{\"source\":{\"id\":\"1208\"}},\"id\":\"1241\",\"type\":\"CDSView\"},{\"attributes\":{\"data\":{\"colors\":[\"#08306b\",\"#083b7c\",\"#808080\",\"#808080\",\"#808080\",\"#808080\",\"#083d7f\",\"#808080\",\"#808080\",\"#808080\",\"#808080\",\"#808080\",\"#808080\",\"#808080\",\"#808080\",\"#808080\",\"#808080\",\"#083b7c\",\"#808080\",\"#808080\",\"#808080\",\"#808080\",\"#808080\",\"#808080\",\"#808080\",\"#808080\",\"#808080\",\"#808080\",\"#08488e\",\"#808080\",\"#808080\",\"#808080\",\"#808080\",\"#808080\",\"#60a7d2\",\"#808080\",\"#808080\"],\"gene_set\":[\"TNF-alpha Signaling via NF-kB\",\"Hypoxia\",\"Cholesterol Homeostasis\",\"Mitotic Spindle\",\"TGF-beta Signaling\",\"IL-6/JAK/STAT3 Signaling\",\"Apoptosis\",\"Adipogenesis\",\"Estrogen Response Early\",\"Estrogen Response Late\",\"Myogenesis\",\"Protein Secretion\",\"Interferon Alpha Response\",\"Interferon Gamma Response\",\"Apical Junction\",\"Apical Surface\",\"Hedgehog Signaling\",\"Complement\",\"Unfolded Protein Response\",\"Epithelial Mesenchymal Transition\",\"Inflammatory Response\",\"Oxidative Phosphorylation\",\"Glycolysis\",\"Reactive Oxygen Species Pathway\",\"p53 Pathway\",\"UV Response Up\",\"UV Response Dn\",\"heme Metabolism\",\"Coagulation\",\"IL-2/STAT5 Signaling\",\"Bile Acid Metabolism\",\"Pperoxisome\",\"Allograft Rejection\",\"Spermatogenesis\",\"KRAS Signaling Up\",\"KRAS Signaling Dn\",\"Pancreas Beta Cells\"],\"odds_r\":{\"__ndarray__\":\"GtNkgDlLEkAcMdE2neQJQIBr4oiM1ABAAO+O/ZGr6D9s2uIKSbD2P3bZ59PGHuw/KAZ/YvAnDEDrE5wUWpLyP+sTnBRakvI/6xOcFFqS8j/0W97/fPv4P+ZEhwIMeek/PFfL6UmR+T/0W97/fPv4P+41F5KmVNg/Mm9nSMzb+z8ORIOvAQgBQBwx0Tad5AlAX0yvnnCf5T/RuL4Vh4voP+2wyH+/gf8/7jUXkqZU2D/uNReSplTYP+UiHveDoAlA6xOcFFqS8j9PlJg2FtH/P6KCbENA8eA/7jUXkqZU2D+QHI9NsgwMQADvjv2Rq+g/Es17ZyLR5T8SGIERGIHnP+2wyH+/gf8/m60Jf2wU4j8Nw9wq3BIDQO41F5KmVNg/NgcvrH6m/j8=\",\"dtype\":\"float64\",\"order\":\"little\",\"shape\":[37]},\"p_value\":{\"__ndarray__\":\"LHu0kiW6ED9UVrQg6z9zP0WcMqjHJdA/k5Uf7Lxv5z9JydIjxVngP7ZEc+0m0uU/eT31QswmdT98RyryO9TeP3xHKvI71N4/fEcq8jvU3j/fQuw5uL7QP/m7+HLX8uY/tWY5xrMh1z/fQuw5uL7QPzzHfV2Vre0/RhQkEmRZ3D8zO1iY+W/YP1RWtCDrP3M/wkmVpgPA6D91kDmcYITnPwGHoACYlL4/PMd9XZWt7T88x31dla3tP9dzW9nPasE/fEcq8jvU3j/ohu/7i0TDP6VLXE9LKus/PMd9XZWt7T/6IHBpW02DP5OVH+y8b+c/iGpi+Z2n6D8kqKWXlNjnPwGHoACYlL4/FMjnbbaP6j/m5U5g/9ynPzzHfV2Vre0/8YU1FKpx2j8=\",\"dtype\":\"float64\",\"order\":\"little\",\"shape\":[37]},\"sizes\":[12,12,6,6,6,6,12,6,6,6,6,6,6,6,6,6,6,12,6,6,6,6,6,6,6,6,6,6,12,6,6,6,6,6,12,6,6],\"x\":{\"__ndarray__\":\"GtNkgDlLEkAcMdE2neQJQIBr4oiM1ABAAO+O/ZGr6D9s2uIKSbD2P3bZ59PGHuw/KAZ/YvAnDEDrE5wUWpLyP+sTnBRakvI/6xOcFFqS8j/0W97/fPv4P+ZEhwIMeek/PFfL6UmR+T/0W97/fPv4P+41F5KmVNg/Mm9nSMzb+z8ORIOvAQgBQBwx0Tad5AlAX0yvnnCf5T/RuL4Vh4voP+2wyH+/gf8/7jUXkqZU2D/uNReSplTYP+UiHveDoAlA6xOcFFqS8j9PlJg2FtH/P6KCbENA8eA/7jUXkqZU2D+QHI9NsgwMQADvjv2Rq+g/Es17ZyLR5T8SGIERGIHnP+2wyH+/gf8/m60Jf2wU4j8Nw9wq3BIDQO41F5KmVNg/NgcvrH6m/j8=\",\"dtype\":\"float64\",\"order\":\"little\",\"shape\":[37]},\"y\":{\"__ndarray__\":\"jwkOGs3HEEDPanYenZ8CQK/YSyBpI+M/Kpzvex9QwT+ZuSst0KnSP4WZ7SqSSMU/ay506s9LAkDvvaQEVU3UP++9pARVTdQ/772kBFVN1D/SQB3UKKLiP7s4YNZ+e8I/TPivr0pJ3D/SQB3UKKLiP8gM4kPzv6A/rLR6Pwei1j+MPYkXj8LaP89qdh6dnwJAf62qsxmQvD+c81dzQB/BP3uDKteLh+0/yAziQ/O/oD/IDOJD87+gPxqMKJ4puOs/772kBFVN1D8AeAgt7VDqP7y/b+QGNrI/yAziQ/O/oD9iLsWdrjQAQCqc73sfUME/xKqg+ef9vD/zKzp8l1nAP3uDKteLh+0/BOPod9K1tD+WrjTc/E31P8gM4kPzv6A/l6ZyVwuR2D8=\",\"dtype\":\"float64\",\"order\":\"little\",\"shape\":[37]}},\"selected\":{\"id\":\"1272\"},\"selection_policy\":{\"id\":\"1271\"}},\"id\":\"1208\",\"type\":\"ColumnDataSource\"}],\"root_ids\":[\"1210\"]},\"title\":\"Bokeh Application\",\"version\":\"2.3.2\"}};\n",
       "  var render_items = [{\"docid\":\"6119d8e1-a236-4d1c-9479-f35cf1cac109\",\"root_ids\":[\"1210\"],\"roots\":{\"1210\":\"8f3ab6ac-c789-4a07-b42a-1e08eda1038d\"}}];\n",
       "  root.Bokeh.embed.embed_items_notebook(docs_json, render_items);\n",
       "\n",
       "  }\n",
       "  if (root.Bokeh !== undefined) {\n",
       "    embed_document(root);\n",
       "  } else {\n",
       "    var attempts = 0;\n",
       "    var timer = setInterval(function(root) {\n",
       "      if (root.Bokeh !== undefined) {\n",
       "        clearInterval(timer);\n",
       "        embed_document(root);\n",
       "      } else {\n",
       "        attempts++;\n",
       "        if (attempts > 100) {\n",
       "          clearInterval(timer);\n",
       "          console.log(\"Bokeh: ERROR: Unable to run BokehJS code because BokehJS library is missing\");\n",
       "        }\n",
       "      }\n",
       "    }, 10, root)\n",
       "  }\n",
       "})(window);"
      ],
      "application/vnd.bokehjs_exec.v0+json": ""
     },
     "metadata": {
      "application/vnd.bokehjs_exec.v0+json": {
       "id": "1210"
      }
     },
     "output_type": "display_data"
    }
   ],
   "source": [
    "lib_data = get_library(enrichr_library)\n",
    "if lib_data == {}:\n",
    "    display(HTML(\"<div style='font-size:1.5rem; padding:1.5rem 0;'>Failed to access Enrichr library API, please try again later.</div>\"))\n",
    "else:\n",
    "    try:\n",
    "        plot = volcano_plot(enrichr_library, lib_data)\n",
    "        show(plot)\n",
    "    except NoResults:\n",
    "        display(HTML(\"<div style='font-size:1.5rem; padding:1rem 0;'><b>Unable to display plot because there were no results returned from Enrichr</b></div>\"))\n",
    "        display(HTML(\"<div style='font-size:1rem; padding:1rem 0;'>Please try again with a different Enrichr library, or a different query gene list.\"))"
   ]
  },
  {
   "cell_type": "markdown",
   "metadata": {},
   "source": [
    "# Table of significant p-values"
   ]
  },
  {
   "cell_type": "markdown",
   "metadata": {},
   "source": [
    "A downloadable table displaying the names, p-values, and q-values of significant terms in the selected library. The `q-value` is an adjusted p-value calculated using the Benjamini-Hochberg method for correction for multiple hypotheses testing. Only the top 10 significant results are displayed in this notebook, but the full table containing all significant results can be downloaded using the *Download CSV file of the full table of significant results* link."
   ]
  },
  {
   "cell_type": "code",
   "execution_count": 17,
   "metadata": {
    "execution": {
     "iopub.execute_input": "2021-12-07T21:00:47.921251Z",
     "iopub.status.busy": "2021-12-07T21:00:47.920312Z",
     "iopub.status.idle": "2021-12-07T21:00:47.971230Z",
     "shell.execute_reply": "2021-12-07T21:00:47.971908Z"
    }
   },
   "outputs": [
    {
     "data": {
      "text/html": [
       "<strong>Table of top 10 significant p-values and q-values for MSigDB Hallmark 2020</strong>"
      ],
      "text/plain": [
       "<IPython.core.display.HTML object>"
      ]
     },
     "metadata": {},
     "output_type": "display_data"
    },
    {
     "data": {
      "text/html": [
       "<table border=\"1\" class=\"dataframe\">\n",
       "  <thead>\n",
       "    <tr style=\"text-align: right;\">\n",
       "      <th>term</th>\n",
       "      <th>p-value</th>\n",
       "      <th>q-value</th>\n",
       "      <th>overlap_genes</th>\n",
       "    </tr>\n",
       "  </thead>\n",
       "  <tbody>\n",
       "    <tr>\n",
       "      <td>TNF-alpha Signaling via NF-kB</td>\n",
       "      <td>0.000094</td>\n",
       "      <td>0.003467</td>\n",
       "      <td>[ABCA1, SPSB1, BMP2, PFKFB3, NR4A3, BCL6, CEBPD, FOS, SOD2, ATF3, GEM]</td>\n",
       "    </tr>\n",
       "    <tr>\n",
       "      <td>Hypoxia</td>\n",
       "      <td>0.006066</td>\n",
       "      <td>0.059803</td>\n",
       "      <td>[ISG20, DTNA, PFKFB3, PHKG1, PDGFB, FOS, ATF3, GCK]</td>\n",
       "    </tr>\n",
       "    <tr>\n",
       "      <td>Complement</td>\n",
       "      <td>0.006066</td>\n",
       "      <td>0.059803</td>\n",
       "      <td>[CASP9, SPOCK2, PDGFB, CTSH, CLU, CTSS, C2, C1QC]</td>\n",
       "    </tr>\n",
       "    <tr>\n",
       "      <td>Apoptosis</td>\n",
       "      <td>0.006465</td>\n",
       "      <td>0.059803</td>\n",
       "      <td>[ISG20, CASP9, BMP2, CD14, SOD2, CLU, ATF3]</td>\n",
       "    </tr>\n",
       "    <tr>\n",
       "      <td>Coagulation</td>\n",
       "      <td>0.011387</td>\n",
       "      <td>0.084267</td>\n",
       "      <td>[CASP9, S100A1, PDGFB, CTSH, CLU, C2]</td>\n",
       "    </tr>\n",
       "  </tbody>\n",
       "</table>"
      ],
      "text/plain": [
       "<IPython.core.display.HTML object>"
      ]
     },
     "metadata": {},
     "output_type": "display_data"
    },
    {
     "data": {
      "text/html": [
       "<a href=\"Enrichment_Analysis_Visualizer_data.csv\" target=_blank>Download CSV file of the full table of significant results</a>"
      ],
      "text/plain": [
       "<IPython.core.display.HTML object>"
      ]
     },
     "metadata": {},
     "output_type": "display_data"
    }
   ],
   "source": [
    "# Output a table of significant p-values and q-values\n",
    "\n",
    "def create_download_link(df, title = \"Download CSV file of the full table of significant results\", filename = \"Enrichment_Analysis_Visualizer_data.csv\"):  \n",
    "    csv = df.to_csv(filename, index = False)\n",
    "    html = f'<a href=\"{filename}\" target=_blank>{title}</a>'\n",
    "    return HTML(html)\n",
    "\n",
    "if len(results) > 0:\n",
    "    res_df = pd.DataFrame(results[0]).rename(columns={\n",
    "        0: 'rank',\n",
    "        1: 'term',\n",
    "        2: 'p-value',\n",
    "        3: 'zscore',\n",
    "        4: 'combined_score',\n",
    "        5: 'overlap_genes',\n",
    "        6: 'q-value'\n",
    "    })\n",
    "    sorted_res_df = res_df.sort_values(by='p-value', ascending=True)\n",
    "    filtered_res_df = sorted_res_df[sorted_res_df['p-value'] <= significance_value].reset_index()\n",
    "    display(HTML(f\"<strong>Table of top 10 significant p-values and q-values for {enrichr_library.replace('_', ' ')}</strong>\"))\n",
    "    display(HTML(filtered_res_df[['term', 'p-value', 'q-value', 'overlap_genes']][:10].to_html(index = False)))\n",
    "    display(create_download_link(filtered_res_df[['term', 'p-value', 'q-value']]))\n",
    "else:\n",
    "    display(HTML(\"<div style='font-size:1.5rem; padding:1rem 0;'><b>Unable to display table</b></div>\"))\n",
    "    display(HTML(\"<div style='font-size:1rem; padding:1rem 0;'>Please try again later, or start over with a new input list and/or library.\"))"
   ]
  },
  {
   "cell_type": "markdown",
   "metadata": {},
   "source": [
    "# Link to Enrichr"
   ]
  },
  {
   "cell_type": "code",
   "execution_count": 18,
   "metadata": {
    "execution": {
     "iopub.execute_input": "2021-12-07T21:00:47.986433Z",
     "iopub.status.busy": "2021-12-07T21:00:47.985433Z",
     "iopub.status.idle": "2021-12-07T21:00:48.004802Z",
     "shell.execute_reply": "2021-12-07T21:00:48.005716Z"
    }
   },
   "outputs": [
    {
     "data": {
      "text/html": [
       "<div style='font-size:1.25rem; padding:1rem 0;'><a href='https://maayanlab.cloud/Enrichr/enrich?dataset=963748c6177a22adb110cc4c896ab7c2'>Access the complete enrichment analysis results on the Enrichr website. </a></div>"
      ],
      "text/plain": [
       "<IPython.core.display.HTML object>"
      ]
     },
     "metadata": {},
     "output_type": "display_data"
    }
   ],
   "source": [
    "# Get complete enrichment analysis results from Enrichr \n",
    "if len(results) > 0:\n",
    "    url = 'https://maayanlab.cloud/Enrichr/enrich?dataset=' + results[5]\n",
    "    display(HTML(f\"<div style='font-size:1.25rem; padding:1rem 0;'><a href='https://maayanlab.cloud/Enrichr/enrich?dataset={results[5]}'>Access the complete enrichment analysis results on the Enrichr website. </a></div>\"))\n",
    "else:\n",
    "    display(HTML(\"<div style='font-size:1.5rem; padding:1rem 0;'><b>No Enrichr results available for the current query</b></div>\"))\n",
    "    display(HTML(\"<div style='font-size:1rem; padding:1rem 0;'>Please try again with a different input list and/or library.\"))"
   ]
  }
 ],
 "metadata": {
  "appyter": {
   "info": {
    "$schema": "https://raw.githubusercontent.com/MaayanLab/appyter-catalog/master/schema/appyter-validator.json",
    "appyter": {
     "extras": [
      "hide-code",
      "toggle-code"
     ],
     "file": "Enrichment-Appyter.ipynb",
     "profile": "biojupies"
    },
    "authors": [
     {
      "email": "litzskylar@gmail.com",
      "name": "Skylar Litz"
     },
     {
      "email": "megan.wojciechowicz@icahn.mssm.edu",
      "name": "Megan L. Wojciechowicz"
     },
     {
      "email": "maxim.kuleshov@mssm.edu",
      "name": "Maxim Kuleshov"
     },
     {
      "email": "sxie04@gmail.com",
      "name": "Zhuorui (Sherry) Xie"
     },
     {
      "email": "danieljbclarkemssm@gmail.com",
      "name": "Daniel J. B. Clarke"
     },
     {
      "email": "minji.jeon1@gmail.com",
      "name": "Minji Jeon"
     }
    ],
    "description": "An appyter that displays a variety of enrichment analysis visualizations for one library.",
    "image": "featured-image.png",
    "license": "CC-BY-NC-SA-4.0",
    "name": "Enrichment_Analysis_Visualizer",
    "tags": [
     "Enrichr",
     "Enrichment Analysis"
    ],
    "title": "Enrichment Analysis Visualization Appyter",
    "url": "https://github.com/MaayanLab/appyter-catalog/tree/master/appyters/Enrichment_Analysis_Visualizer",
    "version": "0.2.5"
   },
   "nbconstruct": {
    "created": "2021-12-07T16:00:30.731046+00:00",
    "data": {
     "enrichr_library": "MSigDB_Hallmark_2020",
     "gene_list_input": "CDON\nTTC39A\nCADM3\nFBXO2\nCOL24A1\nCFAP70\nAL117335.1\nDLEC1\nYOD1\nMAPK15\nLRP2BP\nAPLN\nWDR78\nARMC2\nZC2HC1C\nLINC00649\nSNORD89\nALPK3\nFILIP1\nLINC00884\nATF3\nZNF273\nNDNF\nADARB2\nC4A\nAKAP3\nC4B\nRRN3P2\nKIAA1324\nSNORA18\nLINC-PINT\nKDR\nSPOCK2\nHMCN2\nEXPH5\nNTNG2\nDNAH12\nDTNA\nCFAP53\nNTNG1\nABCA1\nDNAH11\nST6GAL1\nRASSF9\nC10ORF35\nGPR137B\nCNKSR1\nAL137145.2\nSNORA50C\nDNAH10\nAC009549.1\nCFAP54\nHLA-DRB1\nAC068790.9\nALG1L9P\nCEND1\nPDGFB\nACSM5\nF11R\nC2\nGLDN\nINPP5D\nMAATS1\nCMYA5\nC22ORF46\nCFAP69\nHYDIN2\nPLCG2\nPRR29\nSNORA63D\nCD14\nAP003071.5\nLMCD1-AS1\nLINC01144\nPIFO\nROM1\nGAB2\nNFATC2\nGNL1\nKLHL4\nLRRC23\nPLXDC2\nKIF6\nID2-AS1\nTLR1\nSLC7A8\nTPPP3\nAL691432.2\nAC036108.2\nARHGEF3\nTLR5\nLINC00963\nLINC01011\nSNORA63\nSNORA61\nHILPDA\nMAOB\nLRRC6\nCTSS\nCTSH\nRSPH4A\nTMOD1\nFOXB1\nDGAT2\nGSTO2\nACOT11\nANKRD45\nANKRD46\nFOS\nPCDHB15\nLAPTM5\nNMNAT3\nCFAP157\nPGM2L1\nMELTF-AS1\nBAALC-AS1\nSPSB1\nGTF2IP12\nMORN3\nNEK11\nHLA-DPB1\nMAGEH1\nC1QC\nSYNM\nSPEF2\nSPEF1\nCR769767.2\nDERL3\nEFCAB6\nPRICKLE2\nRN7SKP203\nFAM182A\nDZANK1\nAC012645.1\nHLA-DPA1\nNUDT16\nAL513314.2\nMYLIP\nFBXW4\nEPM2A\nCD74\nLPP-AS2\nS100A1\nCCDC159\nCBSL\nARHGAP27\nGCK\nFOXP2\nTEX9\nSLC9A9\nCR769775.1\nPROB1\nCCDC152\nSLC25A34\nYPEL4\nPPIL6\nCAPS\nCEP126\nCCDC146\nGALNT15\nDGKB\nADAMTS9-AS2\nCLU\nARHGAP39\nASAP3\nCASC2\nAMOT\nAURKC\nEFNB3\nRASD1\nSH3TC1\nRNF19A\nSPTSSB\nKCNH1\nLINC00115\nAC009119.2\nTTC21A\nKCNAB1\nCYBB\nSTON1-GTF2A1L\nGFAP\nAZIN2\nGEM\nFRMD3\nTMEM232\nNR4A3\nISG20\nAC138035.1\nDLGAP1-AS2\nDLGAP1-AS1\nTBXAS1\nAC244669.2\nCDHR3\nMATN2\nAC241585.3\nPFKFB3\nPFKFB2\nLINC01354\nAKNA\nNCF2\nAMY2B\nC5AR1\nAC146944.1\nFAM107A\nHNMT\nC1QTNF3\nZMAT1\nSLC44A3-AS1\nUSP32P1\nSLC37A2\nANGPT2\nIQCG\nBAIAP3\nBMP2\nUST\nLCP1\nBCL6\nCPE\nCCDC74B\nECHDC2\nHLA-DRA\nPCDHGB2\nCCDC191\nZMYND10\nZMYND15\nRN7SKP80\nDNAH5\nTTC25\nCBWD6\nDNAH6\nZSCAN12P1\nDNAH7\nZNF337-AS1\nWDFY3-AS2\nAFF2\nCASP9\nC20ORF203\nWNT3\nCFAP46\nCCDC30\nNTRK2\nSPAG8\nAL590004.4\nAC124319.2\nSOD2\nAC130352.1\nRSPH9\nLNX1\nTCEANC2\nSPAG1\nRBM47\nPXYLP1\nCOLEC12\nCEBPD\nLSP1\nAC245100.2\nAL356599.1\nPBXIP1\nTNFSF13B\nRPGR\nAC245100.8\nEVA1C\nPHKG1\nIQUB\nHYDIN\nZNF846\nTOGARAM2\nVAT1L\nAC022532.1\nBCO2\nLURAP1",
     "gene_list_kind": "Paste",
     "section1": null,
     "section2": null
    },
    "filename": "Enrichment-Appyter.ipynb",
    "files": {},
    "version": "0.18.3"
   },
   "nbexecute": {
    "completed": "2021-12-07T16:00:48.514063+00:00",
    "files": {
     "Enrichment_Analysis_Visualizer_data.csv": "Enrichment_Analysis_Visualizer_data.csv",
     "Enrichr_results_bar.png": "Enrichr_results_bar.png",
     "Enrichr_results_bar.svg": "Enrichr_results_bar.svg"
    },
    "started": "2021-12-07T16:00:36.687479+00:00",
    "version": "0.18.3"
   }
  },
  "interpreter": {
   "hash": "ae02de43a7a1893656bc45d2b0007624c64abadb1f146ae593b6588f2192c0f4"
  },
  "kernelspec": {
   "display_name": "Python 3.8.10 64-bit ('scatterenv': conda)",
   "name": "python3"
  },
  "language_info": {
   "codemirror_mode": {
    "name": "ipython",
    "version": 3
   },
   "file_extension": ".py",
   "mimetype": "text/x-python",
   "name": "python",
   "nbconvert_exporter": "python",
   "pygments_lexer": "ipython3",
   "version": "3.8.10"
  }
 },
 "nbformat": 4,
 "nbformat_minor": 4
}
