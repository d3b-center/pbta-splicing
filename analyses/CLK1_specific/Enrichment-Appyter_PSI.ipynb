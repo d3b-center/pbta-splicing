{
 "cells": [
  {
   "cell_type": "markdown",
   "metadata": {},
   "source": [
    "# Enrichment Analysis Visualizer\n",
    "\n",
    "This appyter creates a variety of visualizations for enrichment analysis results for one selected Enrichr library, and may be run as either a standalone appyter from the [Appyter Catalog](https://appyters.maayanlab.cloud/#/Enrichment_Analysis_Visualizer) or programmatically from the [Enrichr](https://maayanlab.cloud/Enrichr/) results page. \n",
    "\n",
    "For simplicity, the only inputs for this appyter are a gene list and one library. Other parameters are set to default values in the cell below. You can download the notebook, change these parameters, and rerun it if you wish.\n",
    "\n",
    "The pre-processed libraries used to create the scatter plot and hexagonal canvas visualizations can be found [here](https://github.com/MaayanLab/Enrichr-Viz-Appyter/tree/master/Enrichr-Processed-Library-Storage). \n",
    "\n",
    "**A link to the full analysis results on the Enrichr website can be found at the bottom of this page.**"
   ]
  },
  {
   "cell_type": "code",
   "execution_count": 1,
   "metadata": {
    "execution": {
     "iopub.execute_input": "2021-12-03T22:47:35.103802Z",
     "iopub.status.busy": "2021-12-03T22:47:35.102740Z",
     "iopub.status.idle": "2021-12-03T22:47:36.950423Z",
     "shell.execute_reply": "2021-12-03T22:47:36.949348Z"
    }
   },
   "outputs": [
    {
     "data": {
      "text/html": [
       "\n",
       "    <div class=\"bk-root\">\n",
       "        <a href=\"https://bokeh.org\" target=\"_blank\" class=\"bk-logo bk-logo-small bk-logo-notebook\"></a>\n",
       "        <span id=\"1002\">Loading BokehJS ...</span>\n",
       "    </div>"
      ]
     },
     "metadata": {},
     "output_type": "display_data"
    },
    {
     "data": {
      "application/javascript": [
       "\n",
       "(function(root) {\n",
       "  function now() {\n",
       "    return new Date();\n",
       "  }\n",
       "\n",
       "  var force = true;\n",
       "\n",
       "  if (typeof root._bokeh_onload_callbacks === \"undefined\" || force === true) {\n",
       "    root._bokeh_onload_callbacks = [];\n",
       "    root._bokeh_is_loading = undefined;\n",
       "  }\n",
       "\n",
       "  var JS_MIME_TYPE = 'application/javascript';\n",
       "  var HTML_MIME_TYPE = 'text/html';\n",
       "  var EXEC_MIME_TYPE = 'application/vnd.bokehjs_exec.v0+json';\n",
       "  var CLASS_NAME = 'output_bokeh rendered_html';\n",
       "\n",
       "  /**\n",
       "   * Render data to the DOM node\n",
       "   */\n",
       "  function render(props, node) {\n",
       "    var script = document.createElement(\"script\");\n",
       "    node.appendChild(script);\n",
       "  }\n",
       "\n",
       "  /**\n",
       "   * Handle when an output is cleared or removed\n",
       "   */\n",
       "  function handleClearOutput(event, handle) {\n",
       "    var cell = handle.cell;\n",
       "\n",
       "    var id = cell.output_area._bokeh_element_id;\n",
       "    var server_id = cell.output_area._bokeh_server_id;\n",
       "    // Clean up Bokeh references\n",
       "    if (id != null && id in Bokeh.index) {\n",
       "      Bokeh.index[id].model.document.clear();\n",
       "      delete Bokeh.index[id];\n",
       "    }\n",
       "\n",
       "    if (server_id !== undefined) {\n",
       "      // Clean up Bokeh references\n",
       "      var cmd = \"from bokeh.io.state import curstate; print(curstate().uuid_to_server['\" + server_id + \"'].get_sessions()[0].document.roots[0]._id)\";\n",
       "      cell.notebook.kernel.execute(cmd, {\n",
       "        iopub: {\n",
       "          output: function(msg) {\n",
       "            var id = msg.content.text.trim();\n",
       "            if (id in Bokeh.index) {\n",
       "              Bokeh.index[id].model.document.clear();\n",
       "              delete Bokeh.index[id];\n",
       "            }\n",
       "          }\n",
       "        }\n",
       "      });\n",
       "      // Destroy server and session\n",
       "      var cmd = \"import bokeh.io.notebook as ion; ion.destroy_server('\" + server_id + \"')\";\n",
       "      cell.notebook.kernel.execute(cmd);\n",
       "    }\n",
       "  }\n",
       "\n",
       "  /**\n",
       "   * Handle when a new output is added\n",
       "   */\n",
       "  function handleAddOutput(event, handle) {\n",
       "    var output_area = handle.output_area;\n",
       "    var output = handle.output;\n",
       "\n",
       "    // limit handleAddOutput to display_data with EXEC_MIME_TYPE content only\n",
       "    if ((output.output_type != \"display_data\") || (!Object.prototype.hasOwnProperty.call(output.data, EXEC_MIME_TYPE))) {\n",
       "      return\n",
       "    }\n",
       "\n",
       "    var toinsert = output_area.element.find(\".\" + CLASS_NAME.split(' ')[0]);\n",
       "\n",
       "    if (output.metadata[EXEC_MIME_TYPE][\"id\"] !== undefined) {\n",
       "      toinsert[toinsert.length - 1].firstChild.textContent = output.data[JS_MIME_TYPE];\n",
       "      // store reference to embed id on output_area\n",
       "      output_area._bokeh_element_id = output.metadata[EXEC_MIME_TYPE][\"id\"];\n",
       "    }\n",
       "    if (output.metadata[EXEC_MIME_TYPE][\"server_id\"] !== undefined) {\n",
       "      var bk_div = document.createElement(\"div\");\n",
       "      bk_div.innerHTML = output.data[HTML_MIME_TYPE];\n",
       "      var script_attrs = bk_div.children[0].attributes;\n",
       "      for (var i = 0; i < script_attrs.length; i++) {\n",
       "        toinsert[toinsert.length - 1].firstChild.setAttribute(script_attrs[i].name, script_attrs[i].value);\n",
       "        toinsert[toinsert.length - 1].firstChild.textContent = bk_div.children[0].textContent\n",
       "      }\n",
       "      // store reference to server id on output_area\n",
       "      output_area._bokeh_server_id = output.metadata[EXEC_MIME_TYPE][\"server_id\"];\n",
       "    }\n",
       "  }\n",
       "\n",
       "  function register_renderer(events, OutputArea) {\n",
       "\n",
       "    function append_mime(data, metadata, element) {\n",
       "      // create a DOM node to render to\n",
       "      var toinsert = this.create_output_subarea(\n",
       "        metadata,\n",
       "        CLASS_NAME,\n",
       "        EXEC_MIME_TYPE\n",
       "      );\n",
       "      this.keyboard_manager.register_events(toinsert);\n",
       "      // Render to node\n",
       "      var props = {data: data, metadata: metadata[EXEC_MIME_TYPE]};\n",
       "      render(props, toinsert[toinsert.length - 1]);\n",
       "      element.append(toinsert);\n",
       "      return toinsert\n",
       "    }\n",
       "\n",
       "    /* Handle when an output is cleared or removed */\n",
       "    events.on('clear_output.CodeCell', handleClearOutput);\n",
       "    events.on('delete.Cell', handleClearOutput);\n",
       "\n",
       "    /* Handle when a new output is added */\n",
       "    events.on('output_added.OutputArea', handleAddOutput);\n",
       "\n",
       "    /**\n",
       "     * Register the mime type and append_mime function with output_area\n",
       "     */\n",
       "    OutputArea.prototype.register_mime_type(EXEC_MIME_TYPE, append_mime, {\n",
       "      /* Is output safe? */\n",
       "      safe: true,\n",
       "      /* Index of renderer in `output_area.display_order` */\n",
       "      index: 0\n",
       "    });\n",
       "  }\n",
       "\n",
       "  // register the mime type if in Jupyter Notebook environment and previously unregistered\n",
       "  if (root.Jupyter !== undefined) {\n",
       "    var events = require('base/js/events');\n",
       "    var OutputArea = require('notebook/js/outputarea').OutputArea;\n",
       "\n",
       "    if (OutputArea.prototype.mime_types().indexOf(EXEC_MIME_TYPE) == -1) {\n",
       "      register_renderer(events, OutputArea);\n",
       "    }\n",
       "  }\n",
       "\n",
       "  \n",
       "  if (typeof (root._bokeh_timeout) === \"undefined\" || force === true) {\n",
       "    root._bokeh_timeout = Date.now() + 5000;\n",
       "    root._bokeh_failed_load = false;\n",
       "  }\n",
       "\n",
       "  var NB_LOAD_WARNING = {'data': {'text/html':\n",
       "     \"<div style='background-color: #fdd'>\\n\"+\n",
       "     \"<p>\\n\"+\n",
       "     \"BokehJS does not appear to have successfully loaded. If loading BokehJS from CDN, this \\n\"+\n",
       "     \"may be due to a slow or bad network connection. Possible fixes:\\n\"+\n",
       "     \"</p>\\n\"+\n",
       "     \"<ul>\\n\"+\n",
       "     \"<li>re-rerun `output_notebook()` to attempt to load from CDN again, or</li>\\n\"+\n",
       "     \"<li>use INLINE resources instead, as so:</li>\\n\"+\n",
       "     \"</ul>\\n\"+\n",
       "     \"<code>\\n\"+\n",
       "     \"from bokeh.resources import INLINE\\n\"+\n",
       "     \"output_notebook(resources=INLINE)\\n\"+\n",
       "     \"</code>\\n\"+\n",
       "     \"</div>\"}};\n",
       "\n",
       "  function display_loaded() {\n",
       "    var el = document.getElementById(\"1002\");\n",
       "    if (el != null) {\n",
       "      el.textContent = \"BokehJS is loading...\";\n",
       "    }\n",
       "    if (root.Bokeh !== undefined) {\n",
       "      if (el != null) {\n",
       "        el.textContent = \"BokehJS \" + root.Bokeh.version + \" successfully loaded.\";\n",
       "      }\n",
       "    } else if (Date.now() < root._bokeh_timeout) {\n",
       "      setTimeout(display_loaded, 100)\n",
       "    }\n",
       "  }\n",
       "\n",
       "\n",
       "  function run_callbacks() {\n",
       "    try {\n",
       "      root._bokeh_onload_callbacks.forEach(function(callback) {\n",
       "        if (callback != null)\n",
       "          callback();\n",
       "      });\n",
       "    } finally {\n",
       "      delete root._bokeh_onload_callbacks\n",
       "    }\n",
       "    console.debug(\"Bokeh: all callbacks have finished\");\n",
       "  }\n",
       "\n",
       "  function load_libs(css_urls, js_urls, callback) {\n",
       "    if (css_urls == null) css_urls = [];\n",
       "    if (js_urls == null) js_urls = [];\n",
       "\n",
       "    root._bokeh_onload_callbacks.push(callback);\n",
       "    if (root._bokeh_is_loading > 0) {\n",
       "      console.debug(\"Bokeh: BokehJS is being loaded, scheduling callback at\", now());\n",
       "      return null;\n",
       "    }\n",
       "    if (js_urls == null || js_urls.length === 0) {\n",
       "      run_callbacks();\n",
       "      return null;\n",
       "    }\n",
       "    console.debug(\"Bokeh: BokehJS not loaded, scheduling load and callback at\", now());\n",
       "    root._bokeh_is_loading = css_urls.length + js_urls.length;\n",
       "\n",
       "    function on_load() {\n",
       "      root._bokeh_is_loading--;\n",
       "      if (root._bokeh_is_loading === 0) {\n",
       "        console.debug(\"Bokeh: all BokehJS libraries/stylesheets loaded\");\n",
       "        run_callbacks()\n",
       "      }\n",
       "    }\n",
       "\n",
       "    function on_error(url) {\n",
       "      console.error(\"failed to load \" + url);\n",
       "    }\n",
       "\n",
       "    for (let i = 0; i < css_urls.length; i++) {\n",
       "      const url = css_urls[i];\n",
       "      const element = document.createElement(\"link\");\n",
       "      element.onload = on_load;\n",
       "      element.onerror = on_error.bind(null, url);\n",
       "      element.rel = \"stylesheet\";\n",
       "      element.type = \"text/css\";\n",
       "      element.href = url;\n",
       "      console.debug(\"Bokeh: injecting link tag for BokehJS stylesheet: \", url);\n",
       "      document.body.appendChild(element);\n",
       "    }\n",
       "\n",
       "    const hashes = {\"https://cdn.bokeh.org/bokeh/release/bokeh-2.3.2.min.js\": \"XypntL49z55iwGVUW4qsEu83zKL3XEcz0MjuGOQ9SlaaQ68X/g+k1FcioZi7oQAc\", \"https://cdn.bokeh.org/bokeh/release/bokeh-tables-2.3.2.min.js\": \"bEsM86IHGDTLCS0Zod8a8WM6Y4+lafAL/eSiyQcuPzinmWNgNO2/olUF0Z2Dkn5i\", \"https://cdn.bokeh.org/bokeh/release/bokeh-widgets-2.3.2.min.js\": \"TX0gSQTdXTTeScqxj6PVQxTiRW8DOoGVwinyi1D3kxv7wuxQ02XkOxv0xwiypcAH\"};\n",
       "\n",
       "    for (let i = 0; i < js_urls.length; i++) {\n",
       "      const url = js_urls[i];\n",
       "      const element = document.createElement('script');\n",
       "      element.onload = on_load;\n",
       "      element.onerror = on_error.bind(null, url);\n",
       "      element.async = false;\n",
       "      element.src = url;\n",
       "      if (url in hashes) {\n",
       "        element.crossOrigin = \"anonymous\";\n",
       "        element.integrity = \"sha384-\" + hashes[url];\n",
       "      }\n",
       "      console.debug(\"Bokeh: injecting script tag for BokehJS library: \", url);\n",
       "      document.head.appendChild(element);\n",
       "    }\n",
       "  };\n",
       "\n",
       "  function inject_raw_css(css) {\n",
       "    const element = document.createElement(\"style\");\n",
       "    element.appendChild(document.createTextNode(css));\n",
       "    document.body.appendChild(element);\n",
       "  }\n",
       "\n",
       "  \n",
       "  var js_urls = [\"https://cdn.bokeh.org/bokeh/release/bokeh-2.3.2.min.js\", \"https://cdn.bokeh.org/bokeh/release/bokeh-widgets-2.3.2.min.js\", \"https://cdn.bokeh.org/bokeh/release/bokeh-tables-2.3.2.min.js\"];\n",
       "  var css_urls = [];\n",
       "  \n",
       "\n",
       "  var inline_js = [\n",
       "    function(Bokeh) {\n",
       "      Bokeh.set_log_level(\"info\");\n",
       "    },\n",
       "    function(Bokeh) {\n",
       "    \n",
       "    \n",
       "    }\n",
       "  ];\n",
       "\n",
       "  function run_inline_js() {\n",
       "    \n",
       "    if (root.Bokeh !== undefined || force === true) {\n",
       "      \n",
       "    for (var i = 0; i < inline_js.length; i++) {\n",
       "      inline_js[i].call(root, root.Bokeh);\n",
       "    }\n",
       "    if (force === true) {\n",
       "        display_loaded();\n",
       "      }} else if (Date.now() < root._bokeh_timeout) {\n",
       "      setTimeout(run_inline_js, 100);\n",
       "    } else if (!root._bokeh_failed_load) {\n",
       "      console.log(\"Bokeh: BokehJS failed to load within specified timeout.\");\n",
       "      root._bokeh_failed_load = true;\n",
       "    } else if (force !== true) {\n",
       "      var cell = $(document.getElementById(\"1002\")).parents('.cell').data().cell;\n",
       "      cell.output_area.append_execute_result(NB_LOAD_WARNING)\n",
       "    }\n",
       "\n",
       "  }\n",
       "\n",
       "  if (root._bokeh_is_loading === 0) {\n",
       "    console.debug(\"Bokeh: BokehJS loaded, going straight to plotting\");\n",
       "    run_inline_js();\n",
       "  } else {\n",
       "    load_libs(css_urls, js_urls, function() {\n",
       "      console.debug(\"Bokeh: BokehJS plotting callback run at\", now());\n",
       "      run_inline_js();\n",
       "    });\n",
       "  }\n",
       "}(window));"
      ],
      "application/vnd.bokehjs_load.v0+json": "\n(function(root) {\n  function now() {\n    return new Date();\n  }\n\n  var force = true;\n\n  if (typeof root._bokeh_onload_callbacks === \"undefined\" || force === true) {\n    root._bokeh_onload_callbacks = [];\n    root._bokeh_is_loading = undefined;\n  }\n\n  \n\n  \n  if (typeof (root._bokeh_timeout) === \"undefined\" || force === true) {\n    root._bokeh_timeout = Date.now() + 5000;\n    root._bokeh_failed_load = false;\n  }\n\n  var NB_LOAD_WARNING = {'data': {'text/html':\n     \"<div style='background-color: #fdd'>\\n\"+\n     \"<p>\\n\"+\n     \"BokehJS does not appear to have successfully loaded. If loading BokehJS from CDN, this \\n\"+\n     \"may be due to a slow or bad network connection. Possible fixes:\\n\"+\n     \"</p>\\n\"+\n     \"<ul>\\n\"+\n     \"<li>re-rerun `output_notebook()` to attempt to load from CDN again, or</li>\\n\"+\n     \"<li>use INLINE resources instead, as so:</li>\\n\"+\n     \"</ul>\\n\"+\n     \"<code>\\n\"+\n     \"from bokeh.resources import INLINE\\n\"+\n     \"output_notebook(resources=INLINE)\\n\"+\n     \"</code>\\n\"+\n     \"</div>\"}};\n\n  function display_loaded() {\n    var el = document.getElementById(\"1002\");\n    if (el != null) {\n      el.textContent = \"BokehJS is loading...\";\n    }\n    if (root.Bokeh !== undefined) {\n      if (el != null) {\n        el.textContent = \"BokehJS \" + root.Bokeh.version + \" successfully loaded.\";\n      }\n    } else if (Date.now() < root._bokeh_timeout) {\n      setTimeout(display_loaded, 100)\n    }\n  }\n\n\n  function run_callbacks() {\n    try {\n      root._bokeh_onload_callbacks.forEach(function(callback) {\n        if (callback != null)\n          callback();\n      });\n    } finally {\n      delete root._bokeh_onload_callbacks\n    }\n    console.debug(\"Bokeh: all callbacks have finished\");\n  }\n\n  function load_libs(css_urls, js_urls, callback) {\n    if (css_urls == null) css_urls = [];\n    if (js_urls == null) js_urls = [];\n\n    root._bokeh_onload_callbacks.push(callback);\n    if (root._bokeh_is_loading > 0) {\n      console.debug(\"Bokeh: BokehJS is being loaded, scheduling callback at\", now());\n      return null;\n    }\n    if (js_urls == null || js_urls.length === 0) {\n      run_callbacks();\n      return null;\n    }\n    console.debug(\"Bokeh: BokehJS not loaded, scheduling load and callback at\", now());\n    root._bokeh_is_loading = css_urls.length + js_urls.length;\n\n    function on_load() {\n      root._bokeh_is_loading--;\n      if (root._bokeh_is_loading === 0) {\n        console.debug(\"Bokeh: all BokehJS libraries/stylesheets loaded\");\n        run_callbacks()\n      }\n    }\n\n    function on_error(url) {\n      console.error(\"failed to load \" + url);\n    }\n\n    for (let i = 0; i < css_urls.length; i++) {\n      const url = css_urls[i];\n      const element = document.createElement(\"link\");\n      element.onload = on_load;\n      element.onerror = on_error.bind(null, url);\n      element.rel = \"stylesheet\";\n      element.type = \"text/css\";\n      element.href = url;\n      console.debug(\"Bokeh: injecting link tag for BokehJS stylesheet: \", url);\n      document.body.appendChild(element);\n    }\n\n    const hashes = {\"https://cdn.bokeh.org/bokeh/release/bokeh-2.3.2.min.js\": \"XypntL49z55iwGVUW4qsEu83zKL3XEcz0MjuGOQ9SlaaQ68X/g+k1FcioZi7oQAc\", \"https://cdn.bokeh.org/bokeh/release/bokeh-tables-2.3.2.min.js\": \"bEsM86IHGDTLCS0Zod8a8WM6Y4+lafAL/eSiyQcuPzinmWNgNO2/olUF0Z2Dkn5i\", \"https://cdn.bokeh.org/bokeh/release/bokeh-widgets-2.3.2.min.js\": \"TX0gSQTdXTTeScqxj6PVQxTiRW8DOoGVwinyi1D3kxv7wuxQ02XkOxv0xwiypcAH\"};\n\n    for (let i = 0; i < js_urls.length; i++) {\n      const url = js_urls[i];\n      const element = document.createElement('script');\n      element.onload = on_load;\n      element.onerror = on_error.bind(null, url);\n      element.async = false;\n      element.src = url;\n      if (url in hashes) {\n        element.crossOrigin = \"anonymous\";\n        element.integrity = \"sha384-\" + hashes[url];\n      }\n      console.debug(\"Bokeh: injecting script tag for BokehJS library: \", url);\n      document.head.appendChild(element);\n    }\n  };\n\n  function inject_raw_css(css) {\n    const element = document.createElement(\"style\");\n    element.appendChild(document.createTextNode(css));\n    document.body.appendChild(element);\n  }\n\n  \n  var js_urls = [\"https://cdn.bokeh.org/bokeh/release/bokeh-2.3.2.min.js\", \"https://cdn.bokeh.org/bokeh/release/bokeh-widgets-2.3.2.min.js\", \"https://cdn.bokeh.org/bokeh/release/bokeh-tables-2.3.2.min.js\"];\n  var css_urls = [];\n  \n\n  var inline_js = [\n    function(Bokeh) {\n      Bokeh.set_log_level(\"info\");\n    },\n    function(Bokeh) {\n    \n    \n    }\n  ];\n\n  function run_inline_js() {\n    \n    if (root.Bokeh !== undefined || force === true) {\n      \n    for (var i = 0; i < inline_js.length; i++) {\n      inline_js[i].call(root, root.Bokeh);\n    }\n    if (force === true) {\n        display_loaded();\n      }} else if (Date.now() < root._bokeh_timeout) {\n      setTimeout(run_inline_js, 100);\n    } else if (!root._bokeh_failed_load) {\n      console.log(\"Bokeh: BokehJS failed to load within specified timeout.\");\n      root._bokeh_failed_load = true;\n    } else if (force !== true) {\n      var cell = $(document.getElementById(\"1002\")).parents('.cell').data().cell;\n      cell.output_area.append_execute_result(NB_LOAD_WARNING)\n    }\n\n  }\n\n  if (root._bokeh_is_loading === 0) {\n    console.debug(\"Bokeh: BokehJS loaded, going straight to plotting\");\n    run_inline_js();\n  } else {\n    load_libs(css_urls, js_urls, function() {\n      console.debug(\"Bokeh: BokehJS plotting callback run at\", now());\n      run_inline_js();\n    });\n  }\n}(window));"
     },
     "metadata": {},
     "output_type": "display_data"
    }
   ],
   "source": [
    "# Scatter Plot Imports\n",
    "from maayanlab_bioinformatics.enrichment import enrich_crisp\n",
    "import matplotlib as mpl\n",
    "\n",
    "# Bar Chart Imports\n",
    "import pandas as pd \n",
    "import numpy as np\n",
    "import re\n",
    "import hashlib\n",
    "import json\n",
    "import requests\n",
    "import matplotlib.pyplot as plt\n",
    "import matplotlib.colors as colors\n",
    "import seaborn as sns\n",
    "import time\n",
    "from matplotlib.ticker import MaxNLocator\n",
    "from IPython.display import display, FileLink, HTML\n",
    "\n",
    "# Hexagonal Canvas Imports\n",
    "import math\n",
    "import uuid\n",
    "import urllib\n",
    "from textwrap import dedent\n",
    "from string import Template\n",
    "from operator import itemgetter\n",
    "\n",
    "# Bokeh\n",
    "from bokeh.io import output_notebook\n",
    "from bokeh.plotting import figure, show\n",
    "from bokeh.models import HoverTool, ColumnDataSource\n",
    "from bokeh.palettes import Category20\n",
    "output_notebook()"
   ]
  },
  {
   "cell_type": "code",
   "execution_count": 2,
   "metadata": {
    "execution": {
     "iopub.execute_input": "2021-12-03T22:47:36.969924Z",
     "iopub.status.busy": "2021-12-03T22:47:36.966232Z",
     "iopub.status.idle": "2021-12-03T22:47:36.972289Z",
     "shell.execute_reply": "2021-12-03T22:47:36.971806Z"
    }
   },
   "outputs": [],
   "source": [
    "gene_list_input = ['B3GALNT2', 'CDK19', 'ACOT9', 'PRELID2', 'CASP8AP2', 'C20ORF194', 'IFT81', 'UPF3A', 'L1CAM', 'DDX39B', 'CDK10', 'C19ORF48', 'MPPE1', 'MTMR1', 'GALT', 'MTMR2', 'RRN3', 'AL157935.3', 'AKIP1', 'LCAT', 'SPG7', 'SLAIN2', 'DCAF6', 'TPGS2', 'PRKAA1', 'PPP4R1', 'KNSTRN', 'MICALL1', 'TMEM69', 'ABI3BP', 'TGS1', 'LUC7L', 'AKT2', 'SAMD11', 'ST3GAL3', 'MARS1', 'HEMK1', 'SAP30BP', 'PPIEL', 'ZNF263', 'PMM2', 'MTERF3', 'TIGD7', 'AL121594.1', 'TEX14', 'ENTPD3-AS1', 'PRRC2C', 'NPLOC4', 'PTP4A2', 'GIGYF2', 'ZNF37A', 'TDP1', 'LGMN', 'HYOU1', 'SFXN5', 'AL162258.1', 'ZNF138', 'EZH2', 'ZNF250', 'XPA', 'DEDD2', 'HSPH1', 'ALKBH3', 'BLOC1S6', 'EPB41L2', 'ALKBH1', 'ZNF280D', 'CDK5RAP2', 'C19ORF38', 'SS18', 'TRMT10B', 'LRRC27', 'SPHK2', 'AL031315.1', 'OFD1', 'SAMD4B', 'TET2', 'IFT122', 'C9ORF85', 'LRRC23', 'MRPL23', 'AC090114.3', 'SUMF2', 'TADA2A', 'NCOR2', 'ZEB2', 'CENPJ', 'STRA6LP', 'TRMO', 'ADGRL1', 'PI4KB', 'ADGRL2', 'RAPGEF1', 'C5ORF51', 'EXOC3', 'LINC00963', 'GAS8', 'WDR27', 'CHURC1-FNTB', 'DENND1A', 'ZNF43', 'ABHD6', 'CYB561D1', 'SKA2', 'HSPE1-MOB4', 'MED15', 'TMEM25', 'TASP1', 'C16ORF58', 'SSR2', 'LIN54', 'PACSIN2', 'ZNF101', 'WDR17', 'MEF2A', 'GATD1', 'MBNL2', 'DFFB', 'DYNLL1', 'PPARA', 'SEPTIN2', 'CSNK2A1', 'GSTO2', 'TPK1', 'ELP2', 'GTF2H1', 'KIDINS220', 'TCAIM', 'SEPTIN4', 'GTF2H3', 'SCAF4', 'GCFC2', 'PLCB4', 'CLIP1', 'NFIC', 'RFWD3', 'ADAM15', 'AC098484.3', 'SLMAP', 'NCAPD3', 'ZNF334', 'DUBR', 'SETD5', 'ZNF692', 'MTMR14', 'ADAM23', 'EFCAB6', 'MUC20-OT1', 'SCAMP5', 'WRN', 'MPRIP', 'PWWP2A', 'ZNF207', 'ELOC', 'RXYLT1', 'BRD9', 'DMD', 'TMEM14B', 'TLE4', 'ZNF562', 'BRPF1', 'ARMCX5-GPRASP2', 'YIPF1', 'GK', 'AC079781.5', 'TPM3', 'FAM24B', 'TPM2', 'EMSY', 'MORF4L2', 'LRCH3', 'ST7L', 'CNOT2', 'MSH5', 'SRSF3', 'FKBP8', 'PDCD4', 'SRSF6', 'C8ORF31', 'TNIK', 'NSMAF', 'KCNG1', 'RAB1A', 'OXNAD1', 'ZBTB25', 'DGKB', 'SLC25A40', 'FAM117A', 'TNC', 'TSEN2', 'BCL2L13', 'ABLIM1', 'OARD1', 'KIAA1841', 'NSD2', 'GRB14', 'SLC26A10', 'TPM1', 'FLNC', 'PMPCB', 'LINC00476', 'ZNF664', 'MAP2K4', 'LRRC49', 'BCAS4', 'OSBPL8', 'TIA1', 'CCDC14', 'AL445250.1', 'PHKB', 'WASH3P', 'LRRC42', 'ACLY', 'MED23', 'AC010547.4', 'ZNF419', 'DMXL2', 'METTL22', 'ZNF417', 'EIF4G1', 'SMS', 'MDM4', 'ADNP', 'C3ORF67', 'BCAT2', 'MYOM1', 'AK2', 'SAT2', 'GLIPR2', 'SCMH1', 'RIMS1', 'PAPOLG', 'ZKSCAN3', 'FBRSL1', 'HACL1', 'ZKSCAN5', 'TRIM65', 'MAP2K7', 'SAC3D1', 'SLC38A5', 'AC055811.2', 'REXO2', 'TXNRD1', 'MICAL3', 'FAM207A', 'CDC42BPA', 'NIPSNAP2', 'TPCN2', 'UST', 'RMND1', 'ZNF516', 'ECHDC2', 'TMBIM6', 'SFT2D2', 'TNRC6A', 'C21ORF59-TCP10L', 'ZNF37BP', 'NSRP1', 'KHDRBS3', 'FAM47E-STBD1', 'FAM114A2', 'CELF1', 'VPS4B', 'PTPN21', 'NDUFB2', 'EFCAB11', 'ADAMTS17', 'NPAT', 'FSD1L', 'DUSP11', 'ZNRD2', 'DRAM2', 'FRG1CP', 'PPP6R2', 'DENND3', 'CAPZB', 'CEP290', 'NADK', 'PAAF1', 'C8ORF58', 'SMARCC2', 'ADSL', 'ARNT', 'NSMCE2', 'TRAF3IP2-AS1', 'AKR7L', 'MYO19', 'FBXL12', 'NFASC', 'KIAA0586', 'ASPH', 'OCIAD1', 'PABPC1L', 'SLC25A14', 'BET1', 'LINC00342', 'HDAC3', 'KIAA0895L', 'SYNE1', 'TULP3', 'RESF1', 'AL359715.1', 'HDAC8', 'MFSD13A', 'SART1', 'HIRIP3', 'SGCE', 'HECTD2', 'ARRB1', 'SLC25A22', 'ZNF844', 'EIF2D', 'NEPRO', 'SS18L1', 'SFMBT1', 'ACTN4', 'KYAT1', 'PHYKPL', 'MRPS18B', 'MFSD12', 'LRP2BP', 'SRRM1', 'DCLK2', 'PLEKHA8', 'MFSD11', 'MAPK12', 'AL160269.1', 'PPA2', 'CDC16', 'OTULIN', 'SRP14-AS1', 'RTCA', 'PCBP1-AS1', 'UPRT', 'KYAT3', 'RETREG3', 'OBSL1', 'LNC-LBCS', 'WBP1', 'SP100', 'CCNH', 'BOLA2-SMG1P6', 'AKAP9', 'NFS1', 'HERC5', 'HERC4', 'DHX33', 'IARS1', 'CDC27', 'OGFOD2', 'PI4KAP2', 'DHX36', 'APBB3', 'ATXN7L2', 'RAB11FIP3', 'SLC12A8', 'FKTN', 'SRGAP2B', 'SNHG1', 'PIK3CD-AS2', 'PPP1R26', 'ANKDD1A', 'CMC2', 'TANGO2', 'SYNRG', 'COMMD3', 'ANK3', 'ASDURF', 'HSPA12A', 'ANK1', 'SNHG5', 'SNHG6', 'ARFGAP2', 'IFI44', 'GBGT1', 'PTK2', 'CCDC88A', 'STAG2', 'SNHG12', 'NDUFAF5', 'INTS6', 'RNPS1', 'FAM66D', 'NOL11', 'FAM66C', 'FBXL6', 'RPS24', 'TCERG1', 'PAXIP1', 'CCT6P1', 'KANTR', 'AC241952.2', 'RCBTB2', 'GOLGA4', 'CHTF8', 'MAATS1', 'PCBP4', 'SPATA5L1', 'MBTD1', 'INPP5K', 'KIF21A', 'ASL', 'ACAD10', 'SEC31A', 'AP003071.5', 'DECR2', 'CLHC1', 'AC023055.1', 'ZHX3', 'GABBR1', 'BTN3A2', 'RANBP17', 'NME4', 'NBPF15', 'NME1', 'SNHG29', 'PTPRE', 'G2E3', 'FAM193B', 'ZNF780B', 'SGK3', 'AL355385.2', 'SDCCAG8', 'DDR1', 'ATP5MD', 'PTPRS', 'AHCTF1', 'DAZAP1', 'AC058822.1', 'ZCCHC10', 'SUZ12P1', 'PTPRK', 'TFB1M', 'PCSK7', 'LIAS', 'FXR1', 'PPRC1', 'MAP4', 'ERI2', 'NPIPB14P', 'MAP2', 'SMYD2', 'DPH7', 'CC2D2A', 'ANKRD6', 'SPTBN2', 'ZNF585A', 'ZNF585B', 'PRMT7', 'RANBP3', 'MAP4K3', 'SUZ12', 'MON2', 'NQO2', 'MYEF2', 'MRPS28', 'VKORC1', 'AC079594.2', 'PBRM1', 'CCNYL1', 'ERBIN', 'THOC5', 'MYO9B', 'KIN', 'PER3', 'GAK', 'TTC8', 'NEK11', 'KIZ', 'TACC2', 'ANKRA2', 'CD46', 'LINC02246', 'SLC66A2', 'MRPS33', 'TRAK2', 'ZDHHC3', 'RPAIN', 'MRPS31P4', 'XPO1', 'ODR4', 'HYAL2', 'OS9', 'RSRC2', 'MARCHF8', 'ENPP2', 'ARIH2', 'HEATR6', 'SPTAN1', 'AKAP10', 'MARCHF7', 'ANKMY1', 'ATG9A', 'HSD3B7', 'PTCD3', 'SUGT1P3', 'LIG1', 'PUS1', 'SDHAP1', 'MOK', 'PUS7', 'SDHAP3', 'LRP1B', 'PACRGL', 'TMX3', 'TMEM259', 'UBXN11', 'ZNF74', 'EHBP1L1', 'YPEL5', 'MPHOSPH9', 'ADCY10P1', 'NOL3', 'NDRG4', 'TAMM41', 'NAPA', 'NOL8', 'WASHC2C', 'RBM4B', 'PRUNE1', 'UBE3A', 'UBE3C', 'ARHGAP39', 'CAAP1', 'ATP2C1', 'WASHC2A', 'AURKB', 'TIMM50', 'ARHGAP44', 'ZNF81', 'GPC2', 'STX16-NPEPL1', 'TRAPPC12', 'BANF1', 'EP400', 'NPHP4', 'NLRP1', 'PAK4', 'BORCS8', 'RPP14', 'PDE8A', 'CLASP2', 'REPS1', 'PPFIA3', 'FDPS', 'TTC38', 'SMAD5', 'AC107871.1', 'MANBA', 'AP003108.2', 'MINK1', 'TBCE', 'ASPSCR1', 'DDX55', 'CTPS1', 'SMAD9', 'CCNB1IP1', 'PDIA5', 'ZNF90', 'ARHGAP12', 'MAP7D3', 'CARD19', 'CLASRP', 'RSRP1', 'PDE9A', 'KIAA1191', 'AKNA', 'COPA', 'PXK', 'DYRK3', 'UTP25', 'CCDC125', 'PDS5B', 'ENTPD1-AS1', 'COP1', 'NDEL1', 'ZC3H14', 'RPP38', 'MARK2', 'USP25', 'GUSBP1', 'SUN1', 'USP28', 'SMURF1', 'RBM19', 'ARAP3', 'PEX1', 'AL139011.2', 'ARAP1', 'IQCE', 'YY1AP1', 'CLK4', 'SPIDR', 'DNM2', 'SENP2', 'POLA1', 'IFT43', 'CLK1', 'VCAN', 'IRF1', 'FAM189B', 'CLCN6', 'HOOK3', 'ACOX3', 'PEX7', 'NUP58', 'IRF7', 'ATG4A', 'CUEDC1', 'TPT1-AS1', 'RTN4', 'TTC27', 'NAA20', 'RTN2', 'USP32', 'UBA7', 'AC091551.1', 'UBA6', 'SMG1P3', 'USP34', 'NRXN2', 'USP35', 'DTX2', 'AGAP4', 'ARHGEF10L', 'TAZ', 'AGPAT4', 'PHTF1', 'AFG3L1P', 'SPAST', 'CASP8', 'DPP9', 'CASP6', 'MKNK1', 'ZC3H7A', 'CFAP44', 'GLIDR', 'PDLIM7', 'RBM39', 'TIMM8B', 'DAPK2', 'PDE4DIP', 'PPP2R3C', 'WARS2', 'U2SURP', 'TBC1D1', 'SMUG1', 'FMNL3', 'FCSK', 'RPS6KB2', 'RPS6KB1', 'ERCC8', 'ACIN1', 'MATR3', 'USP10', 'DCTN2', 'TM2D1', 'NADSYN1', 'FLCN', 'RBM4', 'ACAN', 'OGFRL1', 'CD27-AS1', 'RBM3', 'TRA2A', 'PPP2R1B', 'IFT52', 'TDG', 'TRA2B', 'POLL', 'PSTK', 'CCDC163']\n",
    "enrichr_library = 'MSigDB_Hallmark_2020'"
   ]
  },
  {
   "cell_type": "code",
   "execution_count": 3,
   "metadata": {
    "execution": {
     "iopub.execute_input": "2021-12-03T22:47:36.976460Z",
     "iopub.status.busy": "2021-12-03T22:47:36.975901Z",
     "iopub.status.idle": "2021-12-03T22:47:36.978992Z",
     "shell.execute_reply": "2021-12-03T22:47:36.978653Z"
    }
   },
   "outputs": [],
   "source": [
    "genes = [x.strip() for x in gene_list_input]"
   ]
  },
  {
   "cell_type": "code",
   "execution_count": 4,
   "metadata": {
    "execution": {
     "iopub.execute_input": "2021-12-03T22:47:36.983513Z",
     "iopub.status.busy": "2021-12-03T22:47:36.982922Z",
     "iopub.status.idle": "2021-12-03T22:47:36.985615Z",
     "shell.execute_reply": "2021-12-03T22:47:36.985931Z"
    }
   },
   "outputs": [],
   "source": [
    "# Error handling\n",
    "class NoResults(Exception):\n",
    "    pass \n",
    "class APIFailure(Exception):\n",
    "    pass"
   ]
  },
  {
   "cell_type": "code",
   "execution_count": 5,
   "metadata": {
    "execution": {
     "iopub.execute_input": "2021-12-03T22:47:36.993891Z",
     "iopub.status.busy": "2021-12-03T22:47:36.993226Z",
     "iopub.status.idle": "2021-12-03T22:47:36.996285Z",
     "shell.execute_reply": "2021-12-03T22:47:36.996623Z"
    }
   },
   "outputs": [],
   "source": [
    "# Enrichr API Function for Manhattan Plot and Bar Chart\n",
    "# Takes a gene list and Enrichr libraries as input\n",
    "def Enrichr_API(enrichr_gene_list, all_libraries):\n",
    "\n",
    "    all_terms = []\n",
    "    all_pvalues =[] \n",
    "    all_adjusted_pvalues = []\n",
    "\n",
    "    for library_name in all_libraries : \n",
    "        ENRICHR_URL = 'https://maayanlab.cloud/Enrichr/addList'\n",
    "        genes_str = '\\n'.join(enrichr_gene_list)\n",
    "        description = ''\n",
    "        payload = {\n",
    "            'list': (None, genes_str),\n",
    "            'description': (None, description)\n",
    "        }\n",
    "\n",
    "        response = requests.post(ENRICHR_URL, files=payload)\n",
    "        if not response.ok:\n",
    "            raise APIFailure\n",
    "\n",
    "        data = json.loads(response.text)\n",
    "        time.sleep(0.5)\n",
    "        ENRICHR_URL = 'https://maayanlab.cloud/Enrichr/enrich'\n",
    "        query_string = '?userListId=%s&backgroundType=%s'\n",
    "        user_list_id = data['userListId']\n",
    "        short_id = data[\"shortId\"]\n",
    "        gene_set_library = library_name\n",
    "        response = requests.get(\n",
    "            ENRICHR_URL + query_string % (user_list_id, gene_set_library)\n",
    "         )\n",
    "        if not response.ok:\n",
    "            raise APIFailure\n",
    "\n",
    "        data = json.loads(response.text)\n",
    "\n",
    "        if len(data[library_name]) == 0:\n",
    "            raise NoResults\n",
    "\n",
    "        short_results_df  = pd.DataFrame(data[library_name][0:10])\n",
    "        all_terms.append(list(short_results_df[1]))\n",
    "        all_pvalues.append(list(short_results_df[2]))\n",
    "        all_adjusted_pvalues.append(list(short_results_df[6]))\n",
    "        \n",
    "        results_df  = pd.DataFrame(data[library_name])\n",
    "        # adds library name to the data frame so the libraries can be distinguished\n",
    "        results_df['library'] = library_name.replace('_', '')\n",
    "\n",
    "    return [results_df, short_results_df, all_terms, all_pvalues, all_adjusted_pvalues, str(short_id)]"
   ]
  },
  {
   "cell_type": "code",
   "execution_count": 6,
   "metadata": {
    "execution": {
     "iopub.execute_input": "2021-12-03T22:47:37.002410Z",
     "iopub.status.busy": "2021-12-03T22:47:37.001791Z",
     "iopub.status.idle": "2021-12-03T22:47:37.004406Z",
     "shell.execute_reply": "2021-12-03T22:47:37.003951Z"
    }
   },
   "outputs": [],
   "source": [
    "# Scatter Plot Parameters\n",
    "significance_value = 0.05\n",
    "\n",
    "# Bar Chart Parameters\n",
    "figure_file_format = ['png', 'svg']\n",
    "output_file_name = 'Enrichr_results_bar'\n",
    "color = 'lightskyblue'\n",
    "final_output_file_names = ['{0}.{1}'.format(output_file_name, file_type) for file_type in figure_file_format]\n",
    "\n",
    "# Hexagonal Canvas Parameters\n",
    "canvas_color = 'Blue'\n",
    "num_hex_colored = 10\n",
    "\n",
    "# Manhattan Plot Parameters\n",
    "manhattan_colors = ['#003f5c', '#7a5195', '#ef5675', '#ffa600']"
   ]
  },
  {
   "cell_type": "markdown",
   "metadata": {},
   "source": [
    "# Scatter Plot"
   ]
  },
  {
   "cell_type": "markdown",
   "metadata": {},
   "source": [
    "The scatterplot is organized so that simliar gene sets are clustered together. Larger, black-outlined points represent significantly enriched terms. \n",
    "\n",
    "Hovering over points will display the associated gene set name and the p-value. You may have to zoom in using the toolbar next to the plot in order to see details in densely-populated portions. Plots can also be downloaded as an svg using the save function on the toolbar.\n",
    "\n",
    "Clusters are computed using the Leiden algorithm. Points are plotted on the first two UMAP dimensions. "
   ]
  },
  {
   "cell_type": "code",
   "execution_count": 7,
   "metadata": {
    "execution": {
     "iopub.execute_input": "2021-12-03T22:47:37.022909Z",
     "iopub.status.busy": "2021-12-03T22:47:37.013444Z",
     "iopub.status.idle": "2021-12-03T22:47:37.025449Z",
     "shell.execute_reply": "2021-12-03T22:47:37.024675Z"
    }
   },
   "outputs": [],
   "source": [
    "### Scatter Plot Functions\n",
    "def download_library(library_name):\n",
    "    try: \n",
    "        df = pd.read_csv(f\"https://raw.githubusercontent.com/MaayanLab/Enrichr-Viz-Appyter/master/Enrichr-Processed-Library-Storage/Clustered_Scatterplots/{library_name}.csv\")\n",
    "        df = df.dropna(subset=['term', 'genes'])\n",
    "        return df, True\n",
    "    except:\n",
    "        display(HTML(\"<div style='font-size:1.5rem; padding:1.5rem 0;'>Failed to retrieve the selected pre-processed library.</div>\"))\n",
    "        return None, False\n",
    "\n",
    "def get_library_iter(libdf):\n",
    "    for row in libdf.itertuples():\n",
    "        term = row.term\n",
    "        gene_set = row.genes.split(' ')\n",
    "        yield term, gene_set\n",
    "\n",
    "def get_enrichment_results(genes, libdf):\n",
    "    results = enrich_crisp(genes, get_library_iter(libdf), 20000, True)\n",
    "    return {res[0]: res[1].pvalue for res in results}\n",
    "\n",
    "def get_pvalue(row, enrich_results):\n",
    "    if row['term'] in enrich_results.keys():\n",
    "        return enrich_results[row['term']]\n",
    "    else:\n",
    "        return 1\n",
    "\n",
    "def str_to_int(s, i):\n",
    "    '''\n",
    "    Computes the sha256 hash for the input string {s}, then converts \n",
    "    it into an int mod {i}. \n",
    "    '''\n",
    "    s = re.sub(r\"\\([^()]*\\)\", \"\", s).strip()\n",
    "    byte_string = bytearray(s, \"utf8\")\n",
    "    return int(hashlib.sha256(byte_string).hexdigest(), base=16) % i\n",
    "\n",
    "def lighten(cols, step):\n",
    "    '''\n",
    "    Lightens a list of hex colors {cols} by {step} number of times. \n",
    "    '''\n",
    "    for _ in range(step):\n",
    "        cols = [int(col[1:], 16) for col in cols]\n",
    "        cols = [f\"#{(col & 0x7f7f7f) << 1:06x}\" for col in cols]\n",
    "    return cols\n",
    "\n",
    "def get_colors(df):\n",
    "    clusters = pd.unique(df['cluster']).tolist()\n",
    "    unused_colors = list(Category20[20])\n",
    "    unused_colors = unused_colors + lighten(unused_colors, 1) + lighten(unused_colors, 2)\n",
    "    colors = []\n",
    "    for c in range(len(clusters)):\n",
    "        clust_color = Category20[20][str_to_int(clusters[c], 20)]\n",
    "        if clust_color in colors:\n",
    "            if len(unused_colors) > 0:\n",
    "                clust_color = unused_colors[0]\n",
    "                unused_colors.remove(clust_color)\n",
    "            else:\n",
    "                clust_color = colors[c % 60]\n",
    "        else:\n",
    "            unused_colors.remove(clust_color)\n",
    "        colors.append(clust_color)\n",
    "    color_mapper = {clusters[i]: colors[i] for i in range(len(clusters))}\n",
    "    return color_mapper\n",
    "\n",
    "def get_top_10(df):\n",
    "    top_indices = df[df['pvalue'] < significance_value].nsmallest(10, 'pvalue')['term'].tolist()\n",
    "    return top_indices   \n",
    "\n",
    "def get_plot(library_name):\n",
    "    df, df_exists = download_library(library_name)\n",
    "    if not df_exists:\n",
    "        return -1, -1\n",
    "    \n",
    "    enrich_results = get_enrichment_results(genes, df)\n",
    "    \n",
    "    # add p value to the dataframe\n",
    "    df['pvalue'] = df.apply(lambda row: get_pvalue(row, enrich_results), axis=1)\n",
    "\n",
    "    # get appropriate color and size attributes\n",
    "    color_mapper = get_colors(df)\n",
    "\n",
    "    # normalize pvalues for coloring\n",
    "    norm_pval = colors.Normalize(-0.3, 1)\n",
    "\n",
    "    # get top 5 for each cluster\n",
    "    top_terms = get_top_10(df)\n",
    "\n",
    "    # add attributes to df\n",
    "    df['color'] = df['cluster'].apply(lambda x: color_mapper[x])\n",
    "    df['lw'] = df['term'].apply(lambda x: 2 if x in top_terms else 0.5)\n",
    "    df['la'] = df['term'].apply(lambda x: 1 if x in top_terms else 0)\n",
    "    df['size'] = df['pvalue'].apply(lambda x: 12 if x < significance_value else 5)\n",
    "    df['fa'] = df['pvalue'].apply(lambda x: norm_pval(-np.log10(x)))\n",
    "\n",
    "    if len(enrich_results.keys()) == 0:\n",
    "        display(HTML(f\"<div style='font-size:1.5rem; padding:1rem 0;'>There are no enriched terms for your input gene set in the <b>{library_name}</b> library.</div>\"))\n",
    "        tooltips = [\n",
    "            (\"Gene Set\", \"@gene_set\"),\n",
    "            (\"Cluster\", \"@label\")\n",
    "        ]\n",
    "    \n",
    "    else: \n",
    "        tooltips = [\n",
    "            (\"Gene Set\", \"@gene_set\"),\n",
    "            (\"p-value\", \"@p_value\"),\n",
    "            (\"Cluster\", \"@label\")\n",
    "        ]\n",
    "        \n",
    "    hover_emb = HoverTool(tooltips=tooltips)\n",
    "    tools_emb = [hover_emb, 'pan', 'wheel_zoom', 'reset', 'save']\n",
    "\n",
    "    plot_emb = figure(\n",
    "        plot_width=700, \n",
    "        plot_height=700, \n",
    "        tools=tools_emb\n",
    "    )\n",
    "\n",
    "    source = ColumnDataSource(\n",
    "        data=dict(\n",
    "            x = df['x'],\n",
    "            y = df['y'],\n",
    "            gene_set = df['term'],\n",
    "            p_value = df['pvalue'],\n",
    "            sizes = df['size'],\n",
    "            colors = df['color'],\n",
    "            fill_alphas = df['fa'],\n",
    "            label = df['cluster'],\n",
    "            line_widths = df['lw'],\n",
    "            line_alphas = df['la'],\n",
    "            line_colors = ['#000000']*df.shape[0]\n",
    "        )\n",
    "    )\n",
    "\n",
    "    # hide axis labels and grid lines\n",
    "    plot_emb.xaxis.major_tick_line_color = None\n",
    "    plot_emb.xaxis.minor_tick_line_color = None\n",
    "    plot_emb.yaxis.major_tick_line_color = None\n",
    "    plot_emb.yaxis.minor_tick_line_color = None\n",
    "    plot_emb.xaxis.major_label_text_font_size = '0pt'\n",
    "    plot_emb.yaxis.major_label_text_font_size = '0pt' \n",
    "\n",
    "    plot_emb.output_backend = \"svg\"    \n",
    "    \n",
    "    plot_emb.xaxis.axis_label = \"UMAP_1\"\n",
    "    plot_emb.yaxis.axis_label = \"UMAP_2\"\n",
    "    \n",
    "    s = plot_emb.scatter(\n",
    "            'x', \n",
    "            'y', \n",
    "            size = 'sizes', \n",
    "            source = source, \n",
    "            color = 'colors', \n",
    "            fill_alpha = 'fill_alphas',\n",
    "            line_alpha = 'line_alphas',\n",
    "            line_width = 'line_widths',\n",
    "            line_color = 'line_colors'\n",
    "        )\n",
    "    \n",
    "    return plot_emb, df"
   ]
  },
  {
   "cell_type": "code",
   "execution_count": 8,
   "metadata": {
    "execution": {
     "iopub.execute_input": "2021-12-03T22:47:37.030888Z",
     "iopub.status.busy": "2021-12-03T22:47:37.030254Z",
     "iopub.status.idle": "2021-12-03T22:47:37.171352Z",
     "shell.execute_reply": "2021-12-03T22:47:37.171897Z"
    }
   },
   "outputs": [
    {
     "data": {
      "text/html": [
       "<div style='font-size:1.5rem;'>Scatter plot visualization for MSigDB_Hallmark_2020.</div>"
      ],
      "text/plain": [
       "<IPython.core.display.HTML object>"
      ]
     },
     "metadata": {},
     "output_type": "display_data"
    },
    {
     "data": {
      "text/html": [
       "\n",
       "\n",
       "\n",
       "\n",
       "\n",
       "\n",
       "  <div class=\"bk-root\" id=\"7c3240da-23e2-402f-a354-82d15b7e2fdc\" data-root-id=\"1004\"></div>\n"
      ]
     },
     "metadata": {},
     "output_type": "display_data"
    },
    {
     "data": {
      "application/javascript": [
       "(function(root) {\n",
       "  function embed_document(root) {\n",
       "    \n",
       "  var docs_json = {\"985b7df5-554f-41a8-8138-88712187ea40\":{\"defs\":[],\"roots\":{\"references\":[{\"attributes\":{\"below\":[{\"id\":\"1013\"}],\"center\":[{\"id\":\"1016\"},{\"id\":\"1020\"}],\"height\":700,\"left\":[{\"id\":\"1017\"}],\"output_backend\":\"svg\",\"renderers\":[{\"id\":\"1035\"}],\"title\":{\"id\":\"1037\"},\"toolbar\":{\"id\":\"1025\"},\"width\":700,\"x_range\":{\"id\":\"1005\"},\"x_scale\":{\"id\":\"1009\"},\"y_range\":{\"id\":\"1007\"},\"y_scale\":{\"id\":\"1011\"}},\"id\":\"1004\",\"subtype\":\"Figure\",\"type\":\"Plot\"},{\"attributes\":{},\"id\":\"1039\",\"type\":\"AllLabels\"},{\"attributes\":{},\"id\":\"1040\",\"type\":\"BasicTickFormatter\"},{\"attributes\":{\"fill_alpha\":{\"field\":\"fill_alphas\"},\"fill_color\":{\"field\":\"colors\"},\"line_alpha\":{\"field\":\"line_alphas\"},\"line_color\":{\"field\":\"line_colors\"},\"line_width\":{\"field\":\"line_widths\"},\"size\":{\"field\":\"sizes\"},\"x\":{\"field\":\"x\"},\"y\":{\"field\":\"y\"}},\"id\":\"1033\",\"type\":\"Scatter\"},{\"attributes\":{\"axis\":{\"id\":\"1017\"},\"dimension\":1,\"ticker\":null},\"id\":\"1020\",\"type\":\"Grid\"},{\"attributes\":{},\"id\":\"1009\",\"type\":\"LinearScale\"},{\"attributes\":{\"axis\":{\"id\":\"1013\"},\"ticker\":null},\"id\":\"1016\",\"type\":\"Grid\"},{\"attributes\":{\"fill_alpha\":{\"value\":0.1},\"fill_color\":{\"field\":\"colors\"},\"line_alpha\":{\"value\":0.1},\"line_color\":{\"field\":\"line_colors\"},\"line_width\":{\"field\":\"line_widths\"},\"size\":{\"field\":\"sizes\"},\"x\":{\"field\":\"x\"},\"y\":{\"field\":\"y\"}},\"id\":\"1034\",\"type\":\"Scatter\"},{\"attributes\":{},\"id\":\"1042\",\"type\":\"AllLabels\"},{\"attributes\":{},\"id\":\"1022\",\"type\":\"WheelZoomTool\"},{\"attributes\":{},\"id\":\"1043\",\"type\":\"BasicTickFormatter\"},{\"attributes\":{\"axis_label\":\"UMAP_2\",\"formatter\":{\"id\":\"1043\"},\"major_label_policy\":{\"id\":\"1042\"},\"major_label_text_font_size\":\"0pt\",\"major_tick_line_color\":null,\"minor_tick_line_color\":null,\"ticker\":{\"id\":\"1018\"}},\"id\":\"1017\",\"type\":\"LinearAxis\"},{\"attributes\":{},\"id\":\"1014\",\"type\":\"BasicTicker\"},{\"attributes\":{\"callback\":null,\"tooltips\":[[\"Gene Set\",\"@gene_set\"],[\"p-value\",\"@p_value\"],[\"Cluster\",\"@label\"]]},\"id\":\"1003\",\"type\":\"HoverTool\"},{\"attributes\":{\"source\":{\"id\":\"1031\"}},\"id\":\"1036\",\"type\":\"CDSView\"},{\"attributes\":{\"data\":{\"colors\":[\"#c7c7c7\",\"#c7c7c7\",\"#c7c7c7\",\"#c7c7c7\",\"#c7c7c7\",\"#c7c7c7\",\"#c7c7c7\",\"#c7c7c7\",\"#c7c7c7\",\"#c7c7c7\",\"#c7c7c7\",\"#c7c7c7\",\"#c7c7c7\",\"#c7c7c7\",\"#c7c7c7\",\"#c7c7c7\",\"#c7c7c7\",\"#c7c7c7\",\"#c7c7c7\",\"#dbdb8d\",\"#dbdb8d\",\"#dbdb8d\",\"#dbdb8d\",\"#dbdb8d\",\"#dbdb8d\",\"#dbdb8d\",\"#dbdb8d\",\"#dbdb8d\",\"#dbdb8d\",\"#dbdb8d\",\"#dbdb8d\",\"#dbdb8d\",\"#dbdb8d\",\"#dbdb8d\",\"#dbdb8d\",\"#1f77b4\",\"#1f77b4\",\"#1f77b4\",\"#1f77b4\",\"#1f77b4\",\"#1f77b4\",\"#1f77b4\",\"#1f77b4\",\"#aec7e8\",\"#aec7e8\",\"#aec7e8\",\"#aec7e8\",\"#aec7e8\",\"#aec7e8\",\"#aec7e8\"],\"fill_alphas\":{\"__ndarray__\":\"bxONSwKF1j/SyF6MsdbePxjgw9YvYdw/SR+ef/Ux4j9yRN00tmbdP1m0vyb2SdM/bQBuwPvM0D9glTD+fuzTP0kfnn/1MeI/WbS/JvZJ0z9zz4li1pXwP1MnyRFmJ+8/HRPg7eUM0j+d2Imd2InNP7r3W9Zc+M4/SR+ef/Ux4j9vcQyW1JTNP50Cjogut9U/cvos+7XizT+691vWXPjOP7r3W9Zc+M4/UYE0bXDlzT+fILRkUefNP0rbGKebCeA/bQBuwPvM0D+wZQOSSlPbP11Hw4nCsM8/WbS/JvZJ0z+691vWXPjOP4oHBxTv7uY/bQBuwPvM0D8+rzJoqTzfP7r3W9Zc+M4/ndiJndiJzT9ZtL8m9knTP8XQ7apjRNc/qTf13979+D84Tg+Zal7xPwqdYnp22tU/vCU65sl44j+wVdCj4sTnP2ULYcxYFeQ/+W4m9v5Y1D8YCgmGK5z9PyTjbLcu2Po/yySiE4vT5j/qSSi1ZS/XP8skohOL0+Y/xlGpcjnm2T84Tg+Zal7xPw==\",\"dtype\":\"float64\",\"order\":\"little\",\"shape\":[50]},\"gene_set\":[\"PI3K/AKT/mTOR  Signaling\",\"Pperoxisome\",\"Bile Acid Metabolism\",\"heme Metabolism\",\"Reactive Oxygen Species Pathway\",\"Glycolysis\",\"Oxidative Phosphorylation\",\"Fatty Acid Metabolism\",\"Xenobiotic Metabolism\",\"mTORC1 Signaling\",\"Unfolded Protein Response\",\"Protein Secretion\",\"Androgen Response\",\"Pancreas Beta Cells\",\"Estrogen Response Early\",\"Adipogenesis\",\"Hypoxia\",\"Cholesterol Homeostasis\",\"Estrogen Response Late\",\"KRAS Signaling Up\",\"Allograft Rejection\",\"IL-2/STAT5 Signaling\",\"Coagulation\",\"UV Response Up\",\"p53 Pathway\",\"TGF-beta Signaling\",\"IL-6/JAK/STAT3 Signaling\",\"Inflammatory Response\",\"TNF-alpha Signaling via NF-kB\",\"Interferon Alpha Response\",\"Interferon Gamma Response\",\"Apoptosis\",\"KRAS Signaling Dn\",\"Apical Surface\",\"Complement\",\"Epithelial Mesenchymal Transition\",\"Myogenesis\",\"Apical Junction\",\"Hedgehog Signaling\",\"Angiogenesis\",\"UV Response Dn\",\"Notch Signaling\",\"Wnt-beta Catenin Signaling\",\"Mitotic Spindle\",\"DNA Repair\",\"E2F Targets\",\"Spermatogenesis\",\"Myc Targets V1\",\"Myc Targets V2\",\"G2-M Checkpoint\"],\"label\":[\"Cluster 0\",\"Cluster 0\",\"Cluster 0\",\"Cluster 0\",\"Cluster 0\",\"Cluster 0\",\"Cluster 0\",\"Cluster 0\",\"Cluster 0\",\"Cluster 0\",\"Cluster 0\",\"Cluster 0\",\"Cluster 0\",\"Cluster 0\",\"Cluster 0\",\"Cluster 0\",\"Cluster 0\",\"Cluster 0\",\"Cluster 0\",\"Cluster 1\",\"Cluster 1\",\"Cluster 1\",\"Cluster 1\",\"Cluster 1\",\"Cluster 1\",\"Cluster 1\",\"Cluster 1\",\"Cluster 1\",\"Cluster 1\",\"Cluster 1\",\"Cluster 1\",\"Cluster 1\",\"Cluster 1\",\"Cluster 1\",\"Cluster 1\",\"Cluster 2\",\"Cluster 2\",\"Cluster 2\",\"Cluster 2\",\"Cluster 2\",\"Cluster 2\",\"Cluster 2\",\"Cluster 2\",\"Cluster 3\",\"Cluster 3\",\"Cluster 3\",\"Cluster 3\",\"Cluster 3\",\"Cluster 3\",\"Cluster 3\"],\"line_alphas\":[0,0,0,0,0,0,0,0,0,0,0,0,0,0,0,0,0,0,0,0,0,0,0,0,0,0,0,0,0,0,0,0,0,0,0,0,1,0,0,0,0,0,0,1,1,0,0,0,0,0],\"line_colors\":[\"#000000\",\"#000000\",\"#000000\",\"#000000\",\"#000000\",\"#000000\",\"#000000\",\"#000000\",\"#000000\",\"#000000\",\"#000000\",\"#000000\",\"#000000\",\"#000000\",\"#000000\",\"#000000\",\"#000000\",\"#000000\",\"#000000\",\"#000000\",\"#000000\",\"#000000\",\"#000000\",\"#000000\",\"#000000\",\"#000000\",\"#000000\",\"#000000\",\"#000000\",\"#000000\",\"#000000\",\"#000000\",\"#000000\",\"#000000\",\"#000000\",\"#000000\",\"#000000\",\"#000000\",\"#000000\",\"#000000\",\"#000000\",\"#000000\",\"#000000\",\"#000000\",\"#000000\",\"#000000\",\"#000000\",\"#000000\",\"#000000\",\"#000000\"],\"line_widths\":{\"__ndarray__\":\"AAAAAAAA4D8AAAAAAADgPwAAAAAAAOA/AAAAAAAA4D8AAAAAAADgPwAAAAAAAOA/AAAAAAAA4D8AAAAAAADgPwAAAAAAAOA/AAAAAAAA4D8AAAAAAADgPwAAAAAAAOA/AAAAAAAA4D8AAAAAAADgPwAAAAAAAOA/AAAAAAAA4D8AAAAAAADgPwAAAAAAAOA/AAAAAAAA4D8AAAAAAADgPwAAAAAAAOA/AAAAAAAA4D8AAAAAAADgPwAAAAAAAOA/AAAAAAAA4D8AAAAAAADgPwAAAAAAAOA/AAAAAAAA4D8AAAAAAADgPwAAAAAAAOA/AAAAAAAA4D8AAAAAAADgPwAAAAAAAOA/AAAAAAAA4D8AAAAAAADgPwAAAAAAAOA/AAAAAAAAAEAAAAAAAADgPwAAAAAAAOA/AAAAAAAA4D8AAAAAAADgPwAAAAAAAOA/AAAAAAAA4D8AAAAAAAAAQAAAAAAAAABAAAAAAAAA4D8AAAAAAADgPwAAAAAAAOA/AAAAAAAA4D8AAAAAAADgPw==\",\"dtype\":\"float64\",\"order\":\"little\",\"shape\":[50]},\"p_value\":{\"__ndarray__\":\"83wRUiJF5j/8eD2F+y7eP8EAul1l7uA/xj/Ym/BH1z8geKBeKiTgPyKmVRkT5+k/qC+SY3gZ7T+UR6UhDyXpP8Y/2JvwR9c/IqZVGRPn6T8lhebt3fG2P/FjPA5ftbs/gervRIpy6z8AAAAAAADwP95DXQRD8u4/xj/Ym/BH1z+oW6m+yPfvP7DlD/uaH+c/HJ03psS97z/eQ10EQ/LuP95DXQRD8u4/ffjRQ7677z/SWCReWbrvP0YOr8fQfNw/qC+SY3gZ7T9k151te8nhP/EWK2Xube4/IqZVGRPn6T/eQ10EQ/LuP+3dbBAl5M0/qC+SY3gZ7T/CcJRIXaDdP95DXQRD8u4/AAAAAAAA8D8iplUZE+fpP3SYQsA8geU/4pHMhuYKkz/56BnK/NCzP4UgJTqS+eY/01fDH6uv1j9HvbPLs6TLP4+u5tH2gtM/ixknyLam6D/INxbWKw2AP7t7GT7H7Yo/u6rlvh0xzj+3ZFhNZJblP7uq5b4dMc4/9wUS9IsD4z/56BnK/NCzPw==\",\"dtype\":\"float64\",\"order\":\"little\",\"shape\":[50]},\"sizes\":[5,5,5,5,5,5,5,5,5,5,5,5,5,5,5,5,5,5,5,5,5,5,5,5,5,5,5,5,5,5,5,5,5,5,5,5,12,5,5,5,5,5,5,12,12,5,5,5,5,5],\"x\":{\"__ndarray__\":\"HAx1WOFGJ0C5VKUtrnkkQKeWrfVF8iNALzTXaaRtJUBDPX0E/tgkQNtSB3k94CRAX0IFhxecI0Az4Cwly5kjQHoaMEj6/CRA2T15WKj1JUCSsdr8v+omQNtN8E3TTyZAF0Z6UbtPJkByGMxfIYMkQPuvc9NmtCRAjBAebRwBI0Ab2CrB4tAjQCHOwwlMByNA6lil9EzHJUAVqMXgYZIlQIfCZ+vgACdAf2ySH/GjJUDNW3UdqqkiQKjlB67yVCZAhZUKKqr+JkBvDtdqD8smQH16bMuAkyZAMBNFSN0GJkDohxHCo50nQIaqmEo/mSJA5fBJJxIcJkDeOv922VcmQLWn5JzY+ydAc/bOaKsyJEAQsiyY+DMiQG3i5H6HaiJAqKym64l2I0DwMsNGWUcjQHXkSGdgDCRALeqT3GHDI0BDyk+qfRIjQB3k9WBSTCVAyhXe5SLGJEDjxcIQOTUoQHsuU5PgVSZAUB2rlJ5hJ0Dtnjws1AIoQBQF+kSexCdAJnFWRE1cJ0BzEd+JWTcoQA==\",\"dtype\":\"float64\",\"order\":\"little\",\"shape\":[50]},\"y\":{\"__ndarray__\":\"RN0HILXVI0Cr7Lsi+GciQNLhIYyfZiNAIoyfxr35IUBgP8QGC68iQN7kt+hkSSFA1cvvNJkRIkClSSno9tohQPOrOUAwFyRAIH7+e/CCIkAB2lazzmgiQPTCnQsjFSNAaauSyD7gI0C4OgDiri4lQGAfnbrysSNAwAXZsnxdIkAGgCpu3JIkQCrJOhxdzSNAN43ttaCPJECsAUpDjeImQIjWijbHCShAEHf1KjKiJ0DM8QpETzomQJRt4A7UiSVA4LvNGydVJUAzpmCNs5EmQENWt3pOeidAjNtoAG/5J0DUmXtI+BYnQImzImqipyRAgqlm1lLQKECNlgM91EYmQGlVSzrKISZAlgUTfxR9KEBxPJ8B9W4lQPs726M3bCdAZwsIrYfXJUAFwHgGDf0nQKWHodXJASdAtyQH7GpiJ0AEWU+tvrImQOIeSx+6xCVATmGlgopaJkASv2INF0kjQA3/6QYKpCBA0gDeAgm6IEBWLH5TWCkkQJHT1/M1YyFAlNqLaDu2IUDwTdNnB4wiQA==\",\"dtype\":\"float64\",\"order\":\"little\",\"shape\":[50]}},\"selected\":{\"id\":\"1046\"},\"selection_policy\":{\"id\":\"1045\"}},\"id\":\"1031\",\"type\":\"ColumnDataSource\"},{\"attributes\":{},\"id\":\"1024\",\"type\":\"SaveTool\"},{\"attributes\":{\"data_source\":{\"id\":\"1031\"},\"glyph\":{\"id\":\"1033\"},\"hover_glyph\":null,\"muted_glyph\":null,\"nonselection_glyph\":{\"id\":\"1034\"},\"view\":{\"id\":\"1036\"}},\"id\":\"1035\",\"type\":\"GlyphRenderer\"},{\"attributes\":{\"active_multi\":null,\"tools\":[{\"id\":\"1003\"},{\"id\":\"1021\"},{\"id\":\"1022\"},{\"id\":\"1023\"},{\"id\":\"1024\"}]},\"id\":\"1025\",\"type\":\"Toolbar\"},{\"attributes\":{},\"id\":\"1037\",\"type\":\"Title\"},{\"attributes\":{},\"id\":\"1023\",\"type\":\"ResetTool\"},{\"attributes\":{},\"id\":\"1021\",\"type\":\"PanTool\"},{\"attributes\":{},\"id\":\"1011\",\"type\":\"LinearScale\"},{\"attributes\":{},\"id\":\"1045\",\"type\":\"UnionRenderers\"},{\"attributes\":{},\"id\":\"1005\",\"type\":\"DataRange1d\"},{\"attributes\":{\"axis_label\":\"UMAP_1\",\"formatter\":{\"id\":\"1040\"},\"major_label_policy\":{\"id\":\"1039\"},\"major_label_text_font_size\":\"0pt\",\"major_tick_line_color\":null,\"minor_tick_line_color\":null,\"ticker\":{\"id\":\"1014\"}},\"id\":\"1013\",\"type\":\"LinearAxis\"},{\"attributes\":{},\"id\":\"1046\",\"type\":\"Selection\"},{\"attributes\":{},\"id\":\"1007\",\"type\":\"DataRange1d\"},{\"attributes\":{},\"id\":\"1018\",\"type\":\"BasicTicker\"}],\"root_ids\":[\"1004\"]},\"title\":\"Bokeh Application\",\"version\":\"2.3.2\"}};\n",
       "  var render_items = [{\"docid\":\"985b7df5-554f-41a8-8138-88712187ea40\",\"root_ids\":[\"1004\"],\"roots\":{\"1004\":\"7c3240da-23e2-402f-a354-82d15b7e2fdc\"}}];\n",
       "  root.Bokeh.embed.embed_items_notebook(docs_json, render_items);\n",
       "\n",
       "  }\n",
       "  if (root.Bokeh !== undefined) {\n",
       "    embed_document(root);\n",
       "  } else {\n",
       "    var attempts = 0;\n",
       "    var timer = setInterval(function(root) {\n",
       "      if (root.Bokeh !== undefined) {\n",
       "        clearInterval(timer);\n",
       "        embed_document(root);\n",
       "      } else {\n",
       "        attempts++;\n",
       "        if (attempts > 100) {\n",
       "          clearInterval(timer);\n",
       "          console.log(\"Bokeh: ERROR: Unable to run BokehJS code because BokehJS library is missing\");\n",
       "        }\n",
       "      }\n",
       "    }, 10, root)\n",
       "  }\n",
       "})(window);"
      ],
      "application/vnd.bokehjs_exec.v0+json": ""
     },
     "metadata": {
      "application/vnd.bokehjs_exec.v0+json": {
       "id": "1004"
      }
     },
     "output_type": "display_data"
    }
   ],
   "source": [
    "# Display Scatter Plot\n",
    "plot, df = get_plot(enrichr_library)\n",
    "if plot == -1:\n",
    "    display(HTML(\"<div style='font-size:1rem;'>Unable to create scatter plot visualization.</div>\"))\n",
    "else:\n",
    "    display(HTML(f\"<div style='font-size:1.5rem;'>Scatter plot visualization for {enrichr_library}.</div>\"))\n",
    "    show(plot)"
   ]
  },
  {
   "cell_type": "markdown",
   "metadata": {},
   "source": [
    "# Bar Chart"
   ]
  },
  {
   "cell_type": "markdown",
   "metadata": {},
   "source": [
    "The bar chart shows the top 10 enriched terms in the chosen library, along with their corresponding p-values. Colored bars correspond to terms with significant p-values (<0.05). An asterisk (*) next to a p-value indicates the term also has a significant adjusted p-value (<0.05).\n",
    "\n",
    "The bar chart can be downloaded as an image using the links below the figure. \n",
    "\n",
    "For creating customized bar charts for multiple libraries at once, use the standalone [Bar Chart Appyter](https://appyters.maayanlab.cloud/Enrichr_compressed_bar_chart_figure/)."
   ]
  },
  {
   "cell_type": "code",
   "execution_count": 9,
   "metadata": {
    "execution": {
     "iopub.execute_input": "2021-12-03T22:47:37.183751Z",
     "iopub.status.busy": "2021-12-03T22:47:37.182790Z",
     "iopub.status.idle": "2021-12-03T22:47:37.185896Z",
     "shell.execute_reply": "2021-12-03T22:47:37.186425Z"
    }
   },
   "outputs": [],
   "source": [
    "# Bar Chart Functions\n",
    "# Takes all terms, all p-values, all adjusted p-values, plot title, Enrichr libraries, and specified figure format\n",
    "def enrichr_figure(all_terms, all_pvalues, all_adjusted_pvalues, plot_names, all_libraries, bar_color): \n",
    "    # Bar colors\n",
    "    if bar_color != 'lightgrey':\n",
    "        bar_color_not_sig = 'lightgrey'\n",
    "        edgecolor=None\n",
    "        linewidth=0\n",
    "    else:\n",
    "        bar_color_not_sig = 'white'\n",
    "        edgecolor='black'\n",
    "        linewidth=1    \n",
    "\n",
    "    plt.figure(figsize=(24, 12))\n",
    "    \n",
    "    i = 0\n",
    "    bar_colors = [bar_color if (x < 0.05) else bar_color_not_sig for x in all_pvalues[i]]\n",
    "    fig = sns.barplot(x=np.log10(all_pvalues[i])*-1, y=all_terms[i], palette=bar_colors, edgecolor=edgecolor, linewidth=linewidth)\n",
    "    fig.axes.get_yaxis().set_visible(False)\n",
    "    fig.set_title(all_libraries[i].replace('_', ' '), fontsize=26)\n",
    "    fig.set_xlabel('−log₁₀(p‐value)', fontsize=25)\n",
    "    fig.xaxis.set_major_locator(MaxNLocator(integer=True))\n",
    "    fig.tick_params(axis='x', which='major', labelsize=20)\n",
    "    if max(np.log10(all_pvalues[i])*-1)<1:\n",
    "        fig.xaxis.set_ticks(np.arange(0, max(np.log10(all_pvalues[i])*-1), 0.1))\n",
    "    for ii,annot in enumerate(all_terms[i]):\n",
    "        if all_adjusted_pvalues[i][ii] < 0.05:\n",
    "            annot = '  *'.join([annot, str(str(np.format_float_scientific(all_pvalues[i][ii], precision=2)))]) \n",
    "        else:\n",
    "            annot = '  '.join([annot, str(str(np.format_float_scientific(all_pvalues[i][ii], precision=2)))])\n",
    "\n",
    "        title_start= max(fig.axes.get_xlim())/200\n",
    "        fig.text(title_start, ii, annot, ha='left', wrap = True, fontsize = 26)\n",
    "\n",
    "    fig.spines['right'].set_visible(False)\n",
    "    fig.spines['top'].set_visible(False)\n",
    "\n",
    "    for plot_name in plot_names:\n",
    "        plt.savefig(plot_name, bbox_inches = 'tight')\n",
    "    \n",
    "    # Show plot \n",
    "    plt.show()  "
   ]
  },
  {
   "cell_type": "code",
   "execution_count": 10,
   "metadata": {
    "execution": {
     "iopub.execute_input": "2021-12-03T22:47:37.193199Z",
     "iopub.status.busy": "2021-12-03T22:47:37.192402Z",
     "iopub.status.idle": "2021-12-03T22:47:39.157219Z",
     "shell.execute_reply": "2021-12-03T22:47:39.158566Z"
    }
   },
   "outputs": [
    {
     "data": {
      "image/png": "[encoded data removed]",
      "text/plain": [
       "<Figure size 1728x864 with 1 Axes>"
      ]
     },
     "metadata": {
      "needs_background": "light"
     },
     "output_type": "display_data"
    },
    {
     "data": {
      "text/html": [
       "Download png: <a href='Enrichr_results_bar.png' target='_blank'>Enrichr_results_bar.png</a><br>"
      ],
      "text/plain": [
       "/tmp/tmpmnhh0fzk/Enrichr_results_bar.png"
      ]
     },
     "metadata": {},
     "output_type": "display_data"
    },
    {
     "data": {
      "text/html": [
       "Download svg: <a href='Enrichr_results_bar.svg' target='_blank'>Enrichr_results_bar.svg</a><br>"
      ],
      "text/plain": [
       "/tmp/tmpmnhh0fzk/Enrichr_results_bar.svg"
      ]
     },
     "metadata": {},
     "output_type": "display_data"
    }
   ],
   "source": [
    "# Display Bar Chart\n",
    "try:\n",
    "    results = Enrichr_API(genes, [enrichr_library])\n",
    "    enrichr_figure(results[2], results[3], results[4], final_output_file_names, [enrichr_library], color)\n",
    "    # Download Bar Chart\n",
    "    for i, file in enumerate(final_output_file_names):\n",
    "        display(FileLink(file, result_html_prefix=str('Download ' + figure_file_format[i] + ': ')))\n",
    "except APIFailure:\n",
    "    results = []\n",
    "    display(HTML(\"<div style='font-size:1.5rem; padding:1rem 0;'><b>Unable to display plot because of a bad response from the Enrichr API</b></div>\"))\n",
    "    display(HTML(\"<div style='font-size:1rem; padding:1rem 0;'>Please try again later.\"))\n",
    "except NoResults:\n",
    "    results = []\n",
    "    display(HTML(\"<div style='font-size:1.5rem; padding:1rem 0;'><b>Unable to display plot because there were no results returned from Enrichr</b></div>\"))\n",
    "    display(HTML(\"<div style='font-size:1rem; padding:1rem 0;'>Please try again with a different Enrichr library, or a different query gene list.\"))"
   ]
  },
  {
   "cell_type": "markdown",
   "metadata": {},
   "source": [
    "# Hexagonal Canvas"
   ]
  },
  {
   "cell_type": "markdown",
   "metadata": {},
   "source": [
    "Each hexagon in the hexagonal canvas plot represents one gene set from the selected library. The hexagons are colored based on the Jaccard similarity index between the input gene list and the gene set represented by the hexagon, with brighter color indicating higher similarity. Hexagons that are grouped together represent similar gene sets. \n",
    "\n",
    "Hovering over a hexagon will display the name of the gene set and the associated similarity index. \n",
    "\n",
    "For creating customized hexagonal canvas plots for up to two libraries at once, use the standalone [Hexagonal Canvas Appyter](https://appyters.maayanlab.cloud/#Enrichr_Canvas_Appyter)."
   ]
  },
  {
   "cell_type": "code",
   "execution_count": 11,
   "metadata": {
    "execution": {
     "iopub.execute_input": "2021-12-03T22:47:39.184537Z",
     "iopub.status.busy": "2021-12-03T22:47:39.183655Z",
     "iopub.status.idle": "2021-12-03T22:47:39.186365Z",
     "shell.execute_reply": "2021-12-03T22:47:39.185871Z"
    }
   },
   "outputs": [],
   "source": [
    "# Hexagonal Canvas Functions\n",
    "\n",
    "def library_processing():\n",
    "    # Downloads library data for the hexagonal canvas\n",
    "    # Library data is pre-annealed so the canvas will have the most similar gene sets closest together\n",
    "    raw_library_data = []\n",
    "\n",
    "    try:\n",
    "        library_name = enrichr_library\n",
    "        with urllib.request.urlopen('https://raw.githubusercontent.com/MaayanLab/Enrichr-Viz-Appyter/master/Enrichr-Processed-Library-Storage/Annealing/Annealed-Libraries/' + enrichr_library + '.txt') as f:\n",
    "            for line in f.readlines():\n",
    "                raw_library_data.append(line.decode('utf-8').split(\"\\t\\t\"))\n",
    "        name = []\n",
    "        gene_list = []\n",
    "    except:\n",
    "        display(HTML(\"<div style='font-size:1.5rem; padding:1.5rem 0;'>Failed to retrieve the selected annealed library.</div>\"))\n",
    "        return [], -1, -1\n",
    "\n",
    "    for i in range(len(raw_library_data)):\n",
    "        name += [raw_library_data[i][0]]\n",
    "        raw_genes = raw_library_data[i][1].split('\\t')\n",
    "        gene_list += [raw_genes[:-1]]\n",
    "\n",
    "    library_data = [list(a) for a in zip(name, gene_list)]\n",
    "\n",
    "    # raw_library_data: a 2D list where the first element is the name and the second element is a list of genes associated with that name\n",
    "\n",
    "    jaccard_indices = []\n",
    "    indices = []\n",
    "\n",
    "    for gene_set in library_data:\n",
    "        intersection = [value for value in gene_set[1] if value in genes]\n",
    "        index = len(intersection)/(len(gene_set[1]) + len(genes))\n",
    "        jaccard_indices += [[gene_set[0], index]]\n",
    "        indices += [round(index, 5)]\n",
    "\n",
    "    # determine the dimensions of the canvas\n",
    "    x_dimension = math.ceil(math.sqrt(len(indices)))\n",
    "    y_dimension = math.ceil(math.sqrt(len(indices)))\n",
    "\n",
    "    # zip name, gene_list, indices, and blank list for neighbor score then add dummy entries to the zipped list\n",
    "    anneal_list = list(zip(name, gene_list, indices))\n",
    "\n",
    "    return anneal_list, x_dimension, y_dimension\n",
    "\n",
    "def unzip_list(anneal_list):\n",
    "    unzipped_list = zip(*anneal_list)\n",
    "    return list(unzipped_list)\n",
    "\n",
    "# define a list of colors for the hexagonal canvas\n",
    "def get_color(anneal_list, cut_off_value, x_dimension, y_dimension):\n",
    "\n",
    "    # Deal with cut_off_value (only color the most significant 10/20 hexagons)\n",
    "    if cut_off_value == 2.0:\n",
    "        sort_list = sorted(anneal_list, key=itemgetter(2), reverse=True)\n",
    "        cut_off_value = sort_list[int(num_hex_colored)-1][2]\n",
    "\n",
    "    r_value = 0\n",
    "    g_value = 0\n",
    "    b_value = 0\n",
    "\n",
    "    if canvas_color == 'Red':\n",
    "        r_value = 0.0\n",
    "        g_value = 0.8\n",
    "        b_value = 0.8\n",
    "    if canvas_color == 'Yellow':\n",
    "        r_value = 0.0\n",
    "        g_value = 0.3\n",
    "        b_value = 1.0\n",
    "    if canvas_color == 'Purple':\n",
    "        r_value = 0.5\n",
    "        g_value = 1.0\n",
    "        b_value = 0.0\n",
    "    if canvas_color == 'Pink':\n",
    "        r_value = 0.0\n",
    "        g_value = 1.0\n",
    "        b_value = 0.2\n",
    "    if canvas_color == 'Orange':\n",
    "        r_value = 0.0\n",
    "        g_value = 0.45\n",
    "        b_value = 1.0\n",
    "    if canvas_color == 'Green':\n",
    "        r_value = 1.0\n",
    "        g_value = 0.0\n",
    "        b_value = 1.0\n",
    "    if canvas_color == 'Blue':\n",
    "        r_value = 1.0\n",
    "        g_value = 0.9\n",
    "        b_value = 0.0\n",
    "\n",
    "    color_list = []\n",
    "\n",
    "    unzipped_anneal_list = unzip_list(anneal_list)\n",
    "\n",
    "    max_index = max(unzipped_anneal_list[2])\n",
    "\n",
    "    if max_index != 0:\n",
    "        scaled_list = [i/max_index for i in unzipped_anneal_list[2]]\n",
    "    else:\n",
    "        scaled_list = unzipped_anneal_list[2]\n",
    "\n",
    "    for i in range(x_dimension*y_dimension):\n",
    "        if i < len(unzipped_anneal_list[2]) and float(unzipped_anneal_list[2][i]) >= cut_off_value:\n",
    "            color_list += [mpl.colors.to_hex((1-scaled_list[i]*r_value, \n",
    "            1-scaled_list[i]*g_value, 1-scaled_list[i]*b_value))]\n",
    "        elif i < len(unzipped_anneal_list[2]):\n",
    "            color_list += [mpl.colors.to_hex((1-scaled_list[i], \n",
    "            1-scaled_list[i], 1-scaled_list[i]))]\n",
    "        else:\n",
    "            color_list += [\"#FFFFFF\"]\n",
    "    return color_list, max_index, cut_off_value\n",
    "\n",
    "def init_chart():\n",
    "  chart_id = 'mychart-' + str(uuid.uuid4())\n",
    "  display(HTML('<script src=\"/static/components/requirejs/require.js\"></script>'))\n",
    "  display(HTML(Template(dedent('''\n",
    "  <script>\n",
    "  require.config({\n",
    "    paths: {\n",
    "      'd3': 'https://cdnjs.cloudflare.com/ajax/libs/d3/5.16.0/d3.min',\n",
    "      'd3-hexbin': 'https://d3js.org/d3-hexbin.v0.2.min',\n",
    "    },\n",
    "    shim: {\n",
    "      'd3-hexbin': ['d3']\n",
    "    }\n",
    "  })\n",
    "\n",
    "  // If we configure mychart via url, we can eliminate this define here\n",
    "  define($chart_id, ['d3', 'd3-hexbin'], function(d3, d3_hexbin) {\n",
    "    return function (figure_id, numA, numB, colorList, libraryList, indices) {\n",
    "      var margin = {top: 50, right: 20, bottom: 20, left: 50},\n",
    "        width = 850 - margin.left - margin.right,\n",
    "        height = 350 - margin.top - margin.bottom;\n",
    "\n",
    "      // append the svg object to the body of the page\n",
    "      var svG = d3.select('#' + figure_id)\n",
    "                  .attr(\"width\", width + margin.left + margin.right)\n",
    "                  .attr(\"height\", height + margin.top + margin.bottom)\n",
    "                  .append(\"g\")\n",
    "                  .attr(\"transform\", \"translate(\" + margin.left + \",\" + margin.top + \")\");\n",
    "      \n",
    "      //The number of columns and rows of the heatmap\n",
    "      var MapColumns = numA,\n",
    "          MapRows = numB;\n",
    "\n",
    "      //The maximum radius the hexagons can have to still fit the screen\n",
    "      var hexRadius = d3.min([width/((MapColumns + 0.5) * Math.sqrt(3)), height/((MapRows + 1/3) * 1.5)]);\n",
    "\n",
    "      //Calculate the center position of each hexagon\n",
    "      var points = [];\n",
    "      for (var i = 0; i < MapRows; i++) {\n",
    "          for (var j = 0; j < MapColumns; j++) {\n",
    "              var x = hexRadius * j * Math.sqrt(3)\n",
    "              //Offset each uneven row by half of a \"hex-width\" to the right\n",
    "              if(i%2 === 1) x += (hexRadius * Math.sqrt(3))/2\n",
    "              var y = hexRadius * i * 1.5\n",
    "              points.push([x,y])\n",
    "          }\n",
    "      }\n",
    "\n",
    "      //Set the hexagon radius\n",
    "      var hexbin = d3_hexbin.hexbin().radius(hexRadius);\n",
    "\n",
    "      svG.append(\"g\")\n",
    "        .selectAll(\".hexagon\")\n",
    "        .data(hexbin(points))\n",
    "        .enter().append(\"path\")\n",
    "        .attr(\"class\", \"hexagon\")\n",
    "        .attr(\"d\", function (d) {\n",
    "            return \"M\" + d.x + \",\" + d.y + hexbin.hexagon();\n",
    "        })\n",
    "        .attr(\"stroke\", \"black\")\n",
    "        .attr(\"stroke-width\", \"1px\")\n",
    "        .style(\"fill\", function (d,i) { return colorList[i]; })\n",
    "        .on(\"mouseover\", mover)\n",
    "        .on(\"mouseout\", mout)\n",
    "        .append(\"svg:title\")\n",
    "        .text(function(d,i) { return libraryList[i].concat(\" \").concat(indices[i]); });\n",
    "\n",
    "      // Mouseover function\n",
    "      function mover(d) {\n",
    "      d3.select(this)\n",
    "        .transition().duration(10)  \n",
    "        .style(\"fill-opacity\", 0.3)\n",
    "      };\n",
    "\n",
    "      // Mouseout function\n",
    "      function mout(d) { \n",
    "      d3.select(this)\n",
    "        .transition().duration(10)\n",
    "        .style(\"fill-opacity\", 1)\n",
    "      };\n",
    "\n",
    "  }\n",
    "\n",
    "  })\n",
    "  </script>\n",
    "  ''')).substitute({ 'chart_id': repr(chart_id) })))\n",
    "  return chart_id\n",
    "\n",
    "def Canvas(numA, numB, colorList, libraryList, indices):\n",
    "  chart_id = init_chart()\n",
    "  display(HTML(Template(dedent('''\n",
    "  <svg id=$figure_id></svg>\n",
    "  <script>\n",
    "  require([$chart_id], function(mychart) {\n",
    "    mychart($figure_id, $numA, $numB, $colorList, $libraryList, $indices)\n",
    "  })\n",
    "  </script>\n",
    "  ''')).substitute({\n",
    "      'chart_id': repr(chart_id),\n",
    "      'figure_id': repr('fig-' + str(uuid.uuid4())),\n",
    "      'numA': repr(numA),\n",
    "      'numB': repr(numB),\n",
    "      'colorList': repr(colorList),\n",
    "      'libraryList': repr(libraryList),\n",
    "      'indices': repr(indices)\n",
    "  })))"
   ]
  },
  {
   "cell_type": "code",
   "execution_count": 12,
   "metadata": {
    "execution": {
     "iopub.execute_input": "2021-12-03T22:47:39.192974Z",
     "iopub.status.busy": "2021-12-03T22:47:39.192357Z",
     "iopub.status.idle": "2021-12-03T22:47:39.348755Z",
     "shell.execute_reply": "2021-12-03T22:47:39.349395Z"
    }
   },
   "outputs": [
    {
     "data": {
      "text/html": [
       "<script src=\"/static/components/requirejs/require.js\"></script>"
      ],
      "text/plain": [
       "<IPython.core.display.HTML object>"
      ]
     },
     "metadata": {},
     "output_type": "display_data"
    },
    {
     "data": {
      "text/html": [
       "\n",
       "<script>\n",
       "require.config({\n",
       "  paths: {\n",
       "    'd3': 'https://cdnjs.cloudflare.com/ajax/libs/d3/5.16.0/d3.min',\n",
       "    'd3-hexbin': 'https://d3js.org/d3-hexbin.v0.2.min',\n",
       "  },\n",
       "  shim: {\n",
       "    'd3-hexbin': ['d3']\n",
       "  }\n",
       "})\n",
       "\n",
       "// If we configure mychart via url, we can eliminate this define here\n",
       "define('mychart-a56fa12d-31c4-48d6-814c-4836569b4baa', ['d3', 'd3-hexbin'], function(d3, d3_hexbin) {\n",
       "  return function (figure_id, numA, numB, colorList, libraryList, indices) {\n",
       "    var margin = {top: 50, right: 20, bottom: 20, left: 50},\n",
       "      width = 850 - margin.left - margin.right,\n",
       "      height = 350 - margin.top - margin.bottom;\n",
       "\n",
       "    // append the svg object to the body of the page\n",
       "    var svG = d3.select('#' + figure_id)\n",
       "                .attr(\"width\", width + margin.left + margin.right)\n",
       "                .attr(\"height\", height + margin.top + margin.bottom)\n",
       "                .append(\"g\")\n",
       "                .attr(\"transform\", \"translate(\" + margin.left + \",\" + margin.top + \")\");\n",
       "\n",
       "    //The number of columns and rows of the heatmap\n",
       "    var MapColumns = numA,\n",
       "        MapRows = numB;\n",
       "\n",
       "    //The maximum radius the hexagons can have to still fit the screen\n",
       "    var hexRadius = d3.min([width/((MapColumns + 0.5) * Math.sqrt(3)), height/((MapRows + 1/3) * 1.5)]);\n",
       "\n",
       "    //Calculate the center position of each hexagon\n",
       "    var points = [];\n",
       "    for (var i = 0; i < MapRows; i++) {\n",
       "        for (var j = 0; j < MapColumns; j++) {\n",
       "            var x = hexRadius * j * Math.sqrt(3)\n",
       "            //Offset each uneven row by half of a \"hex-width\" to the right\n",
       "            if(i%2 === 1) x += (hexRadius * Math.sqrt(3))/2\n",
       "            var y = hexRadius * i * 1.5\n",
       "            points.push([x,y])\n",
       "        }\n",
       "    }\n",
       "\n",
       "    //Set the hexagon radius\n",
       "    var hexbin = d3_hexbin.hexbin().radius(hexRadius);\n",
       "\n",
       "    svG.append(\"g\")\n",
       "      .selectAll(\".hexagon\")\n",
       "      .data(hexbin(points))\n",
       "      .enter().append(\"path\")\n",
       "      .attr(\"class\", \"hexagon\")\n",
       "      .attr(\"d\", function (d) {\n",
       "          return \"M\" + d.x + \",\" + d.y + hexbin.hexagon();\n",
       "      })\n",
       "      .attr(\"stroke\", \"black\")\n",
       "      .attr(\"stroke-width\", \"1px\")\n",
       "      .style(\"fill\", function (d,i) { return colorList[i]; })\n",
       "      .on(\"mouseover\", mover)\n",
       "      .on(\"mouseout\", mout)\n",
       "      .append(\"svg:title\")\n",
       "      .text(function(d,i) { return libraryList[i].concat(\" \").concat(indices[i]); });\n",
       "\n",
       "    // Mouseover function\n",
       "    function mover(d) {\n",
       "    d3.select(this)\n",
       "      .transition().duration(10)  \n",
       "      .style(\"fill-opacity\", 0.3)\n",
       "    };\n",
       "\n",
       "    // Mouseout function\n",
       "    function mout(d) { \n",
       "    d3.select(this)\n",
       "      .transition().duration(10)\n",
       "      .style(\"fill-opacity\", 1)\n",
       "    };\n",
       "\n",
       "}\n",
       "\n",
       "})\n",
       "</script>\n"
      ],
      "text/plain": [
       "<IPython.core.display.HTML object>"
      ]
     },
     "metadata": {},
     "output_type": "display_data"
    },
    {
     "data": {
      "text/html": [
       "\n",
       "<svg id='fig-f050fc02-3fa7-4608-8bad-656d1f2dc4e1'></svg>\n",
       "<script>\n",
       "require(['mychart-a56fa12d-31c4-48d6-814c-4836569b4baa'], function(mychart) {\n",
       "  mychart('fig-f050fc02-3fa7-4608-8bad-656d1f2dc4e1', 8, 8, ['#a4a4a4', '#a4a4a4', '#374bff', '#0019ff', '#d2d2d2', '#ffffff', '#c8c8c8', '#dbdbdb', '#6d7cff', '#838383', '#b0b0b0', '#374bff', '#e9e9e9', '#d6d6d6', '#b6b6b6', '#ebebeb', '#a4a4a4', '#b6b6b6', '#989898', '#5b6cff', '#d3d3d3', '#c8c8c8', '#c8c8c8', '#8d8d8d', '#c2c2c2', '#c8c8c8', '#5b6cff', '#d4d4d4', '#ffffff', '#eaeaea', '#a4a4a4', '#dbdbdb', '#e9e9e9', '#ffffff', '#ffffff', '#717171', '#ffffff', '#d3d3d3', '#ffffff', '#d2d2d2', '#6d7cff', '#ffffff', '#ffffff', '#ffffff', '#aeaeae', '#adadad', '#b3b3b3', '#2b40ff', '#6d7cff', '#ffffff', '#ffffff', '#ffffff', '#ffffff', '#c8c8c8', '#8c8c8c', '#b6b6b6', '#ededed', '#777777', '#ffffff', '#ffffff', '#ffffff', '#122aff', '#929292', '#d4d4d4'], ['mTORC1 Signaling', 'Glycolysis', 'Apical Junction', 'Mitotic Spindle', 'Notch Signaling', '', 'Estrogen Response Early', 'Estrogen Response Late', 'Xenobiotic Metabolism', 'Protein Secretion', 'Spermatogenesis', 'G2-M Checkpoint', 'Wnt-beta Catenin Signaling', 'Androgen Response', 'p53 Pathway', 'Coagulation', 'Complement', 'Interferon Gamma Response', 'Interferon Alpha Response', 'E2F Targets', 'TGF-beta Signaling', 'KRAS Signaling Up', 'TNF-alpha Signaling via NF-kB', 'Apoptosis', 'PI3K/AKT/mTOR  Signaling', 'Allograft Rejection', 'Myc Targets V1', 'Myc Targets V2', '', 'IL-6/JAK/STAT3 Signaling', 'Inflammatory Response', 'IL-2/STAT5 Signaling', 'Hedgehog Signaling', 'Apical Surface', '', 'Unfolded Protein Response', 'Pancreas Beta Cells', 'Reactive Oxygen Species Pathway', '', 'Angiogenesis', 'heme Metabolism', '', '', '', 'Bile Acid Metabolism', 'Pperoxisome', 'Fatty Acid Metabolism', 'DNA Repair', 'Adipogenesis', '', '', '', '', 'KRAS Signaling Dn', 'UV Response Up', 'Oxidative Phosphorylation', 'Hypoxia', 'UV Response Dn', '', '', '', 'Myogenesis', 'Epithelial Mesenchymal Transition', 'Cholesterol Homeostasis'], [0.00573, 0.00573, 0.01261, 0.01607, 0.00284, 0.0, 0.00344, 0.00229, 0.00917, 0.00781, 0.00496, 0.01261, 0.0014, 0.00259, 0.00459, 0.00123, 0.00573, 0.00459, 0.0065, 0.01032, 0.00275, 0.00344, 0.00344, 0.0072, 0.00386, 0.00344, 0.01032, 0.00274, 0.0, 0.00132, 0.00573, 0.0023, 0.00141, 0.0, 0.0, 0.00892, 0.0, 0.00277, 0.0, 0.00282, 0.00917, 0.0, 0.0, 0.0, 0.0051, 0.00515, 0.00482, 0.01338, 0.00917, 0.0, 0.0, 0.0, 0.0, 0.00344, 0.00723, 0.00459, 0.00115, 0.00858, 0.0, 0.0, 0.0, 0.01491, 0.00688, 0.00268])\n",
       "})\n",
       "</script>\n"
      ],
      "text/plain": [
       "<IPython.core.display.HTML object>"
      ]
     },
     "metadata": {},
     "output_type": "display_data"
    }
   ],
   "source": [
    "# Display Hexagonal Canvas\n",
    "anneal_list, x_dimension, y_dimension = library_processing()\n",
    "if x_dimension < 0:\n",
    "    display(HTML(\"<div style='font-size:1rem;'>Unable to create hexagonal canvas visualization.</div>\"))\n",
    "else:\n",
    "    color_list, scaling_factor, cut_off_value = get_color(anneal_list, 2.0, x_dimension, y_dimension)\n",
    "    unzipped_anneal_list = unzip_list(anneal_list)\n",
    "    if len(set(unzipped_anneal_list[2])) > 1:\n",
    "        Canvas(x_dimension, y_dimension, color_list, list(unzipped_anneal_list[0]), list(unzipped_anneal_list[2]))\n",
    "    else:\n",
    "        display(HTML(\"<div style='font-size:1.5rem; padding:1rem 0;'><b>Unable to display plot because there were no results returned from Enrichr</b></div>\"))\n",
    "        display(HTML(\"<div style='font-size:1rem; padding:1rem 0;'>Please try again with a different Enrichr library, or a different query gene list.\"))"
   ]
  },
  {
   "cell_type": "markdown",
   "metadata": {},
   "source": [
    "# Manhattan Plot"
   ]
  },
  {
   "cell_type": "markdown",
   "metadata": {},
   "source": [
    "In the Manhattan plot below, each line on the x-axis denotes a single gene set from the selected library, while the y-axis measures the −log₁₀(p‐value) for each gene set. \n",
    "\n",
    "Hovering over a point will display the name of the gene set and the associated p-value. You can also zoom, pan, and save the plot as an svg using the toolbar on the right.\n",
    "\n",
    "For creating customized static and dynamic Manhattan plots to compare multiple libraries at once, use the standalone [Manhattan Plot Appyter](https://appyters.maayanlab.cloud/#Enrichr_Manhattan_Plot)."
   ]
  },
  {
   "cell_type": "code",
   "execution_count": 13,
   "metadata": {
    "execution": {
     "iopub.execute_input": "2021-12-03T22:47:39.360868Z",
     "iopub.status.busy": "2021-12-03T22:47:39.359929Z",
     "iopub.status.idle": "2021-12-03T22:47:39.371725Z",
     "shell.execute_reply": "2021-12-03T22:47:39.371311Z"
    }
   },
   "outputs": [],
   "source": [
    "# Manhattan Plot Functions\n",
    "\n",
    "# Processes Enrichr data for Manhattan plots\n",
    "def get_data(genes):\n",
    "    # Process Enrichr data\n",
    "    sorted_data = pd.DataFrame({\"Gene Set\": [], \"-log(p value)\": [], \"Library\": []})\n",
    "\n",
    "    # get enrichr results from the library selected\n",
    "    results_df = Enrichr_API(genes, [enrichr_library])[0]\n",
    "\n",
    "    all_terms = []\n",
    "    all_pvalues = []\n",
    "    library_names = []\n",
    "\n",
    "    all_terms.append(list(results_df[1]))\n",
    "    all_pvalues.append(list(results_df[2]))\n",
    "    library_names.append(list(results_df['library']))\n",
    "\n",
    "    x=np.log10(all_pvalues[0])*-1\n",
    "    sorted_terms = list(zip(all_terms[0], x, library_names[0]))\n",
    "    sorted_terms = sorted(sorted_terms, key = itemgetter(0))\n",
    "    unzipped_sorted_list = list(zip(*sorted_terms))\n",
    "\n",
    "    data = pd.DataFrame({\"Gene Set\": unzipped_sorted_list[0], \"-log(p value)\": unzipped_sorted_list[1], \"Library\": unzipped_sorted_list[2]})\n",
    "\n",
    "    sorted_data = pd.concat([sorted_data, data])\n",
    "\n",
    "    # group data by library\n",
    "    groups = sorted_data.groupby(\"Library\")\n",
    "    return sorted_data, groups\n",
    "\n",
    "# Create Manhattan Plots\n",
    "def manhattan(sorted_data):\n",
    "    # split data frame into smaller data frames by library\n",
    "    list_of_df = []\n",
    "    for library_name in [enrichr_library]:\n",
    "        library_name = library_name.replace('_', '')\n",
    "        df_new = sorted_data[sorted_data['Library'] == library_name]\n",
    "        list_of_df += [df_new]\n",
    "\n",
    "    list_of_xaxis_values = []\n",
    "    for df in list_of_df:  \n",
    "        list_of_xaxis_values += df[\"Gene Set\"].values.tolist()\n",
    "\n",
    "    # define the output figure and the features we want\n",
    "    p = figure(x_range = list_of_xaxis_values, plot_height=300, plot_width=750, tools='pan, box_zoom, hover, reset, save')\n",
    "\n",
    "    # loop over all libraries\n",
    "    r = []\n",
    "    color_index = 0\n",
    "    for df in list_of_df:\n",
    "        if color_index >= len(manhattan_colors):\n",
    "            color_index = 0 \n",
    "\n",
    "        # calculate actual p value from -log(p value)\n",
    "        actual_pvalues = []\n",
    "        for log_value in df[\"-log(p value)\"].values.tolist():\n",
    "            actual_pvalues += [\"{:.5e}\".format(10**(-1*log_value))]\n",
    "\n",
    "        # define ColumnDataSource with our data for this library\n",
    "        source = ColumnDataSource(data=dict(\n",
    "            x = df[\"Gene Set\"].values.tolist(),\n",
    "            y = df[\"-log(p value)\"].values.tolist(),\n",
    "            pvalue = actual_pvalues,\n",
    "        ))\n",
    "    \n",
    "        # plot data from this library\n",
    "        r += [p.circle(x = 'x', y = 'y', size=5, fill_color=manhattan_colors[color_index], line_color = manhattan_colors[color_index], line_width=1, source = source)]\n",
    "        color_index += 1\n",
    "\n",
    "    p.background_fill_color = 'white'\n",
    "    p.xaxis.major_tick_line_color = None \n",
    "    p.xaxis.major_label_text_font_size = '0pt'\n",
    "    p.y_range.start = 0\n",
    "    p.yaxis.axis_label = '-log(p value)'\n",
    "\n",
    "    p.hover.tooltips = [\n",
    "        (\"Gene Set\", \"@x\"),\n",
    "        (\"p value\", \"@pvalue\"),\n",
    "    ]\n",
    "    p.output_backend = \"svg\"\n",
    "    \n",
    "    # returns the plot\n",
    "    return p"
   ]
  },
  {
   "cell_type": "code",
   "execution_count": 14,
   "metadata": {
    "execution": {
     "iopub.execute_input": "2021-12-03T22:47:39.379313Z",
     "iopub.status.busy": "2021-12-03T22:47:39.377346Z",
     "iopub.status.idle": "2021-12-03T22:47:40.709064Z",
     "shell.execute_reply": "2021-12-03T22:47:40.708728Z"
    }
   },
   "outputs": [
    {
     "data": {
      "text/html": [
       "\n",
       "\n",
       "\n",
       "\n",
       "\n",
       "\n",
       "  <div class=\"bk-root\" id=\"a13d85a5-4bb8-4e27-b9b6-6c2164de21bd\" data-root-id=\"1097\"></div>\n"
      ]
     },
     "metadata": {},
     "output_type": "display_data"
    },
    {
     "data": {
      "application/javascript": [
       "(function(root) {\n",
       "  function embed_document(root) {\n",
       "    \n",
       "  var docs_json = {\"ca2ce408-c5eb-46a4-85d8-bd74d1e222d3\":{\"defs\":[],\"roots\":{\"references\":[{\"attributes\":{\"background_fill_color\":\"white\",\"below\":[{\"id\":\"1106\"}],\"center\":[{\"id\":\"1108\"},{\"id\":\"1112\"}],\"height\":300,\"left\":[{\"id\":\"1109\"}],\"output_backend\":\"svg\",\"renderers\":[{\"id\":\"1129\"}],\"title\":{\"id\":\"1142\"},\"toolbar\":{\"id\":\"1119\"},\"width\":750,\"x_range\":{\"id\":\"1098\"},\"x_scale\":{\"id\":\"1102\"},\"y_range\":{\"id\":\"1100\"},\"y_scale\":{\"id\":\"1104\"}},\"id\":\"1097\",\"subtype\":\"Figure\",\"type\":\"Plot\"},{\"attributes\":{\"axis_label\":\"-log(p value)\",\"formatter\":{\"id\":\"1148\"},\"major_label_policy\":{\"id\":\"1147\"},\"ticker\":{\"id\":\"1110\"}},\"id\":\"1109\",\"type\":\"LinearAxis\"},{\"attributes\":{},\"id\":\"1117\",\"type\":\"SaveTool\"},{\"attributes\":{},\"id\":\"1150\",\"type\":\"UnionRenderers\"},{\"attributes\":{\"bottom_units\":\"screen\",\"fill_alpha\":0.5,\"fill_color\":\"lightgrey\",\"left_units\":\"screen\",\"level\":\"overlay\",\"line_alpha\":1.0,\"line_color\":\"black\",\"line_dash\":[4,4],\"line_width\":2,\"right_units\":\"screen\",\"syncable\":false,\"top_units\":\"screen\"},\"id\":\"1118\",\"type\":\"BoxAnnotation\"},{\"attributes\":{\"overlay\":{\"id\":\"1118\"}},\"id\":\"1114\",\"type\":\"BoxZoomTool\"},{\"attributes\":{},\"id\":\"1145\",\"type\":\"CategoricalTickFormatter\"},{\"attributes\":{},\"id\":\"1151\",\"type\":\"Selection\"},{\"attributes\":{},\"id\":\"1116\",\"type\":\"ResetTool\"},{\"attributes\":{},\"id\":\"1147\",\"type\":\"AllLabels\"},{\"attributes\":{\"active_multi\":null,\"tools\":[{\"id\":\"1113\"},{\"id\":\"1114\"},{\"id\":\"1115\"},{\"id\":\"1116\"},{\"id\":\"1117\"}]},\"id\":\"1119\",\"type\":\"Toolbar\"},{\"attributes\":{},\"id\":\"1110\",\"type\":\"BasicTicker\"},{\"attributes\":{\"data\":{\"pvalue\":[\"3.58674e-01\",\"9.66209e-01\",\"8.53900e-01\",\"3.42171e-01\",\"7.53263e-02\",\"4.56995e-01\",\"5.22077e-01\",\"7.15706e-01\",\"9.91198e-01\",\"8.06037e-01\",\"1.25580e-02\",\"2.31612e-01\",\"6.67352e-01\",\"9.66209e-01\",\"9.91665e-01\",\"7.81652e-01\",\"7.53263e-02\",\"8.06037e-01\",\"7.08140e-01\",\"9.98959e-01\",\"9.91411e-01\",\"9.49203e-01\",\"8.06037e-01\",\"2.27335e-01\",\"9.07369e-01\",\"9.66209e-01\",\"9.66209e-01\",\"7.51288e-03\",\"2.31612e-01\",\"5.84834e-01\",\"1.79219e-02\",\"2.92334e-01\",\"9.07369e-01\",\"6.89797e-01\",\"4.64242e-01\",\"1.04319e-01\",\"4.93674e-01\",\"6.68978e-01\",\"5.45866e-01\",\"9.66209e-01\",\"2.11135e-01\",\"4.39158e-01\",\"8.64831e-02\",\"7.62348e-01\",\"3.58674e-01\",\"3.58674e-01\",\"8.06037e-01\",\"9.07369e-01\"],\"x\":[\"Adipogenesis\",\"Allograft Rejection\",\"Androgen Response\",\"Angiogenesis\",\"Apical Junction\",\"Apoptosis\",\"Bile Acid Metabolism\",\"Cholesterol Homeostasis\",\"Coagulation\",\"Complement\",\"DNA Repair\",\"E2F Targets\",\"Epithelial Mesenchymal Transition\",\"Estrogen Response Early\",\"Estrogen Response Late\",\"Fatty Acid Metabolism\",\"G2-M Checkpoint\",\"Glycolysis\",\"Hedgehog Signaling\",\"Hypoxia\",\"IL-2/STAT5 Signaling\",\"IL-6/JAK/STAT3 Signaling\",\"Inflammatory Response\",\"Interferon Alpha Response\",\"Interferon Gamma Response\",\"KRAS Signaling Dn\",\"KRAS Signaling Up\",\"Mitotic Spindle\",\"Myc Targets V1\",\"Myc Targets V2\",\"Myogenesis\",\"Notch Signaling\",\"Oxidative Phosphorylation\",\"PI3K/AKT/mTOR  Signaling\",\"Pperoxisome\",\"Protein Secretion\",\"Reactive Oxygen Species Pathway\",\"Spermatogenesis\",\"TGF-beta Signaling\",\"TNF-alpha Signaling via NF-kB\",\"UV Response Dn\",\"UV Response Up\",\"Unfolded Protein Response\",\"Wnt-beta Catenin Signaling\",\"Xenobiotic Metabolism\",\"heme Metabolism\",\"mTORC1 Signaling\",\"p53 Pathway\"],\"y\":[0.4452997148620388,0.014928918007727913,0.06859294366349612,0.46575707815427536,1.1230531047551442,0.3400886340115386,0.2822656457079623,0.14526561539062902,0.0038397451116387667,0.09364525134453604,1.901081108464978,0.6352394024384272,0.17564479556389737,0.014928918007727913,0.0036349505156415586,0.10698666801908412,1.1230531047551442,0.09364525134453604,0.14988077227364974,0.00045231691260105297,0.003746445940384584,0.02264068752146824,0.09364525134453604,0.6433328833705404,0.042216192008098105,0.014928918007727913,0.014928918007727913,2.1241936450031265,0.6352394024384272,0.2329671390411312,1.746615762489182,0.5341199754495871,0.042216192008098105,0.16127890083295865,0.33325582135392817,0.9816365875334532,0.30656017737430075,0.17458805871455163,0.2629136637523278,0.014928918007727913,0.6754400258316291,0.35737964750179935,1.0630689604586014,0.11784677640837589,0.4452997148620388,0.4452997148620388,0.09364525134453604,0.042216192008098105]},\"selected\":{\"id\":\"1151\"},\"selection_policy\":{\"id\":\"1150\"}},\"id\":\"1125\",\"type\":\"ColumnDataSource\"},{\"attributes\":{},\"id\":\"1107\",\"type\":\"CategoricalTicker\"},{\"attributes\":{\"callback\":null,\"tooltips\":[[\"Gene Set\",\"@x\"],[\"p value\",\"@pvalue\"]]},\"id\":\"1115\",\"type\":\"HoverTool\"},{\"attributes\":{},\"id\":\"1148\",\"type\":\"BasicTickFormatter\"},{\"attributes\":{\"formatter\":{\"id\":\"1145\"},\"major_label_policy\":{\"id\":\"1144\"},\"major_label_text_font_size\":\"0pt\",\"major_tick_line_color\":null,\"ticker\":{\"id\":\"1107\"}},\"id\":\"1106\",\"type\":\"CategoricalAxis\"},{\"attributes\":{\"data_source\":{\"id\":\"1125\"},\"glyph\":{\"id\":\"1127\"},\"hover_glyph\":null,\"muted_glyph\":null,\"nonselection_glyph\":{\"id\":\"1128\"},\"view\":{\"id\":\"1130\"}},\"id\":\"1129\",\"type\":\"GlyphRenderer\"},{\"attributes\":{\"axis\":{\"id\":\"1106\"},\"ticker\":null},\"id\":\"1108\",\"type\":\"Grid\"},{\"attributes\":{\"factors\":[\"Adipogenesis\",\"Allograft Rejection\",\"Androgen Response\",\"Angiogenesis\",\"Apical Junction\",\"Apoptosis\",\"Bile Acid Metabolism\",\"Cholesterol Homeostasis\",\"Coagulation\",\"Complement\",\"DNA Repair\",\"E2F Targets\",\"Epithelial Mesenchymal Transition\",\"Estrogen Response Early\",\"Estrogen Response Late\",\"Fatty Acid Metabolism\",\"G2-M Checkpoint\",\"Glycolysis\",\"Hedgehog Signaling\",\"Hypoxia\",\"IL-2/STAT5 Signaling\",\"IL-6/JAK/STAT3 Signaling\",\"Inflammatory Response\",\"Interferon Alpha Response\",\"Interferon Gamma Response\",\"KRAS Signaling Dn\",\"KRAS Signaling Up\",\"Mitotic Spindle\",\"Myc Targets V1\",\"Myc Targets V2\",\"Myogenesis\",\"Notch Signaling\",\"Oxidative Phosphorylation\",\"PI3K/AKT/mTOR  Signaling\",\"Pperoxisome\",\"Protein Secretion\",\"Reactive Oxygen Species Pathway\",\"Spermatogenesis\",\"TGF-beta Signaling\",\"TNF-alpha Signaling via NF-kB\",\"UV Response Dn\",\"UV Response Up\",\"Unfolded Protein Response\",\"Wnt-beta Catenin Signaling\",\"Xenobiotic Metabolism\",\"heme Metabolism\",\"mTORC1 Signaling\",\"p53 Pathway\"]},\"id\":\"1098\",\"type\":\"FactorRange\"},{\"attributes\":{},\"id\":\"1102\",\"type\":\"CategoricalScale\"},{\"attributes\":{\"fill_color\":{\"value\":\"#003f5c\"},\"line_color\":{\"value\":\"#003f5c\"},\"size\":{\"value\":5},\"x\":{\"field\":\"x\"},\"y\":{\"field\":\"y\"}},\"id\":\"1127\",\"type\":\"Circle\"},{\"attributes\":{},\"id\":\"1104\",\"type\":\"LinearScale\"},{\"attributes\":{\"start\":0},\"id\":\"1100\",\"type\":\"DataRange1d\"},{\"attributes\":{\"axis\":{\"id\":\"1109\"},\"dimension\":1,\"ticker\":null},\"id\":\"1112\",\"type\":\"Grid\"},{\"attributes\":{\"source\":{\"id\":\"1125\"}},\"id\":\"1130\",\"type\":\"CDSView\"},{\"attributes\":{\"fill_alpha\":{\"value\":0.1},\"fill_color\":{\"value\":\"#003f5c\"},\"line_alpha\":{\"value\":0.1},\"line_color\":{\"value\":\"#003f5c\"},\"size\":{\"value\":5},\"x\":{\"field\":\"x\"},\"y\":{\"field\":\"y\"}},\"id\":\"1128\",\"type\":\"Circle\"},{\"attributes\":{},\"id\":\"1113\",\"type\":\"PanTool\"},{\"attributes\":{},\"id\":\"1144\",\"type\":\"AllLabels\"},{\"attributes\":{},\"id\":\"1142\",\"type\":\"Title\"}],\"root_ids\":[\"1097\"]},\"title\":\"Bokeh Application\",\"version\":\"2.3.2\"}};\n",
       "  var render_items = [{\"docid\":\"ca2ce408-c5eb-46a4-85d8-bd74d1e222d3\",\"root_ids\":[\"1097\"],\"roots\":{\"1097\":\"a13d85a5-4bb8-4e27-b9b6-6c2164de21bd\"}}];\n",
       "  root.Bokeh.embed.embed_items_notebook(docs_json, render_items);\n",
       "\n",
       "  }\n",
       "  if (root.Bokeh !== undefined) {\n",
       "    embed_document(root);\n",
       "  } else {\n",
       "    var attempts = 0;\n",
       "    var timer = setInterval(function(root) {\n",
       "      if (root.Bokeh !== undefined) {\n",
       "        clearInterval(timer);\n",
       "        embed_document(root);\n",
       "      } else {\n",
       "        attempts++;\n",
       "        if (attempts > 100) {\n",
       "          clearInterval(timer);\n",
       "          console.log(\"Bokeh: ERROR: Unable to run BokehJS code because BokehJS library is missing\");\n",
       "        }\n",
       "      }\n",
       "    }, 10, root)\n",
       "  }\n",
       "})(window);"
      ],
      "application/vnd.bokehjs_exec.v0+json": ""
     },
     "metadata": {
      "application/vnd.bokehjs_exec.v0+json": {
       "id": "1097"
      }
     },
     "output_type": "display_data"
    }
   ],
   "source": [
    "# Display Manhattan Plot\n",
    "try:\n",
    "    sorted_data, groups = get_data(genes)\n",
    "    show(manhattan(sorted_data))\n",
    "except APIFailure:\n",
    "    display(HTML(\"<div style='font-size:1.5rem; padding:1rem 0;'><b>Unable to display plot because of a bad response from the Enrichr API</b></div>\"))\n",
    "    display(HTML(\"<div style='font-size:1rem; padding:1rem 0;'>Please try again later.\"))\n",
    "except NoResults:\n",
    "    display(HTML(\"<div style='font-size:1.5rem; padding:1rem 0;'><b>Unable to display plot because there were no results returned from Enrichr</b></div>\"))\n",
    "    display(HTML(\"<div style='font-size:1rem; padding:1rem 0;'>Please try again with a different Enrichr library, or a different query gene list.\"))"
   ]
  },
  {
   "cell_type": "markdown",
   "metadata": {},
   "source": [
    "# Volcano Plot"
   ]
  },
  {
   "cell_type": "markdown",
   "metadata": {},
   "source": [
    "The volcano plot shows the significance of each gene set from the selected library versus its odds ratio. Each point represents a single geneset; the x-axis measures the odds ratio (0, inf) calculated for the gene set, while the y-axis gives the -log(p-value) of the gene set. \n",
    "\n",
    "Larger blue points represent significant terms (p-value < 0.05); smaller gray points represent non-significant terms. The darker the blue color of a point, the more significant it is. \n",
    "\n",
    "Hovering over points will display the corresponding gene set term, the p-value, and the odds ratio. You may have to zoom in using the toolbar next to the plot in order to see details in densely-populated portions. Plots can also be downloaded as an svg using the save function on the toolbar."
   ]
  },
  {
   "cell_type": "code",
   "execution_count": 15,
   "metadata": {
    "execution": {
     "iopub.execute_input": "2021-12-03T22:47:40.723567Z",
     "iopub.status.busy": "2021-12-03T22:47:40.722686Z",
     "iopub.status.idle": "2021-12-03T22:47:40.725975Z",
     "shell.execute_reply": "2021-12-03T22:47:40.724635Z"
    }
   },
   "outputs": [],
   "source": [
    "def get_library(lib_name):\n",
    "    '''\n",
    "    Returns a dictionary mapping each term from the input library to \n",
    "    its associated geneset. \n",
    "    '''\n",
    "    raw_lib_data = []\n",
    "\n",
    "    with urllib.request.urlopen('https://maayanlab.cloud/Enrichr/geneSetLibrary?mode=text&libraryName=' + lib_name) as f:\n",
    "        for line in f.readlines():\n",
    "            raw_lib_data.append(line.decode(\"utf-8\").split(\"\\t\\t\"))\n",
    "\n",
    "    name = []\n",
    "    gene_list = []\n",
    "    lib_data = {}\n",
    "\n",
    "    for i in range(len(raw_lib_data)):\n",
    "        name += [raw_lib_data[i][0]]\n",
    "        raw_genes = raw_lib_data[i][1].replace('\\t', ' ')\n",
    "        gene_list += [raw_genes[:-1]]\n",
    "    \n",
    "    lib_data = {a[0]:a[1].split(' ') for a in zip(name, gene_list)}\n",
    "    return lib_data\n",
    "\n",
    "\n",
    "def volcano_plot(library_name, lib):\n",
    "    '''\n",
    "    Make volcano plot of odds ratio vs. significance for input library.\n",
    "    '''\n",
    "    enrich_results = enrich_crisp(genes, lib, 21000, True)\n",
    "\n",
    "    res_df = pd.DataFrame(\n",
    "        [ [\n",
    "            term, \n",
    "            res.pvalue, \n",
    "            res.odds_ratio\n",
    "        ] for (term, res) in enrich_results ], \n",
    "        columns=['term', 'pvalue', 'odds_ratio']\n",
    "    )\n",
    "\n",
    "    res_df['log_pval'] = np.negative(np.log10(res_df['pvalue']))\n",
    "\n",
    "    cmap = mpl.cm.get_cmap('Blues_r')\n",
    "    cnorm = mpl.colors.Normalize(vmin = res_df['pvalue'].min(), vmax = 0.1)\n",
    "\n",
    "    my_colors = []\n",
    "    my_sizes = []\n",
    "    for row in res_df.itertuples():\n",
    "        if row.pvalue < 0.05:\n",
    "            my_colors += [mpl.colors.to_hex(cmap(cnorm(row.pvalue)))]\n",
    "            my_sizes += [12]\n",
    "        else:\n",
    "            my_colors += ['#808080']\n",
    "            my_sizes += [6]\n",
    "\n",
    "    source = ColumnDataSource(\n",
    "        data=dict(\n",
    "            x = res_df['odds_ratio'],\n",
    "            y = res_df['log_pval'],\n",
    "            gene_set = res_df['term'],\n",
    "            p_value = res_df['pvalue'],\n",
    "            odds_r = res_df['odds_ratio'],\n",
    "            colors = my_colors,\n",
    "            sizes = my_sizes\n",
    "        )\n",
    "    )\n",
    "\n",
    "    hover_emb = HoverTool(\n",
    "        names=[\"res_df\"], \n",
    "        tooltips=\"\"\"\n",
    "        <div style=\"margin: 10\">\n",
    "            <div style=\"margin: 0 auto; width:200px;\">\n",
    "                <span style=\"font-size: 12px; font-weight: bold;\">Term:</span>\n",
    "                <span style=\"font-size: 12px\">@gene_set<br></span>\n",
    "                <span style=\"font-size: 12px; font-weight: bold;\">P-Value:</span>\n",
    "                <span style=\"font-size: 12px\">@p_value<br></span>\n",
    "                <span style=\"font-size: 12px; font-weight: bold;\">Odds Ratio:</span>\n",
    "                <span style=\"font-size: 12px\">@odds_r<br></span>\n",
    "            </div>\n",
    "        </div>\n",
    "        \"\"\"\n",
    "    )\n",
    "\n",
    "    tools_emb = [hover_emb, 'pan', 'wheel_zoom', 'reset', 'save']\n",
    "\n",
    "    plot_emb = figure(\n",
    "        plot_width = 700, \n",
    "        plot_height = 700,\n",
    "        tools=tools_emb\n",
    "    )\n",
    "\n",
    "    plot_emb.circle(\n",
    "        'x', 'y', size = 'sizes', \n",
    "        alpha = 0.7, line_alpha = 0, \n",
    "        line_width = 0.01, source = source, \n",
    "        fill_color = 'colors', name = \"res_df\"\n",
    "    )\n",
    "\n",
    "    plot_emb.xaxis.axis_label = \"Odds Ratio\"\n",
    "    plot_emb.yaxis.axis_label = \"-log10(p-value)\"\n",
    "\n",
    "    plot_emb.output_backend = \"svg\"\n",
    "    \n",
    "    return plot_emb"
   ]
  },
  {
   "cell_type": "code",
   "execution_count": 16,
   "metadata": {
    "execution": {
     "iopub.execute_input": "2021-12-03T22:47:40.731041Z",
     "iopub.status.busy": "2021-12-03T22:47:40.730452Z",
     "iopub.status.idle": "2021-12-03T22:47:44.871673Z",
     "shell.execute_reply": "2021-12-03T22:47:44.872165Z"
    }
   },
   "outputs": [
    {
     "data": {
      "text/html": [
       "\n",
       "\n",
       "\n",
       "\n",
       "\n",
       "\n",
       "  <div class=\"bk-root\" id=\"d5d909ae-2090-4bdb-b271-1dc3cc9248c9\" data-root-id=\"1210\"></div>\n"
      ]
     },
     "metadata": {},
     "output_type": "display_data"
    },
    {
     "data": {
      "application/javascript": [
       "(function(root) {\n",
       "  function embed_document(root) {\n",
       "    \n",
       "  var docs_json = {\"86b904cd-c4af-44d8-8305-7af195015540\":{\"defs\":[],\"roots\":{\"references\":[{\"attributes\":{\"below\":[{\"id\":\"1219\"}],\"center\":[{\"id\":\"1222\"},{\"id\":\"1226\"}],\"height\":700,\"left\":[{\"id\":\"1223\"}],\"output_backend\":\"svg\",\"renderers\":[{\"id\":\"1240\"}],\"title\":{\"id\":\"1263\"},\"toolbar\":{\"id\":\"1231\"},\"width\":700,\"x_range\":{\"id\":\"1211\"},\"x_scale\":{\"id\":\"1215\"},\"y_range\":{\"id\":\"1213\"},\"y_scale\":{\"id\":\"1217\"}},\"id\":\"1210\",\"subtype\":\"Figure\",\"type\":\"Plot\"},{\"attributes\":{},\"id\":\"1268\",\"type\":\"AllLabels\"},{\"attributes\":{\"callback\":null,\"names\":[\"res_df\"],\"tooltips\":\"\\n        <div style=\\\"margin: 10\\\">\\n            <div style=\\\"margin: 0 auto; width:200px;\\\">\\n                <span style=\\\"font-size: 12px; font-weight: bold;\\\">Term:</span>\\n                <span style=\\\"font-size: 12px\\\">@gene_set<br></span>\\n                <span style=\\\"font-size: 12px; font-weight: bold;\\\">P-Value:</span>\\n                <span style=\\\"font-size: 12px\\\">@p_value<br></span>\\n                <span style=\\\"font-size: 12px; font-weight: bold;\\\">Odds Ratio:</span>\\n                <span style=\\\"font-size: 12px\\\">@odds_r<br></span>\\n            </div>\\n        </div>\\n        \"},\"id\":\"1209\",\"type\":\"HoverTool\"},{\"attributes\":{},\"id\":\"1271\",\"type\":\"UnionRenderers\"},{\"attributes\":{},\"id\":\"1272\",\"type\":\"Selection\"},{\"attributes\":{\"axis_label\":\"-log10(p-value)\",\"formatter\":{\"id\":\"1269\"},\"major_label_policy\":{\"id\":\"1268\"},\"ticker\":{\"id\":\"1224\"}},\"id\":\"1223\",\"type\":\"LinearAxis\"},{\"attributes\":{\"axis_label\":\"Odds Ratio\",\"formatter\":{\"id\":\"1266\"},\"major_label_policy\":{\"id\":\"1265\"},\"ticker\":{\"id\":\"1220\"}},\"id\":\"1219\",\"type\":\"LinearAxis\"},{\"attributes\":{\"fill_alpha\":{\"value\":0.7},\"fill_color\":{\"field\":\"colors\"},\"line_alpha\":{\"value\":0},\"line_color\":{\"value\":\"#1f77b4\"},\"line_width\":{\"value\":0.01},\"size\":{\"field\":\"sizes\"},\"x\":{\"field\":\"x\"},\"y\":{\"field\":\"y\"}},\"id\":\"1238\",\"type\":\"Circle\"},{\"attributes\":{},\"id\":\"1211\",\"type\":\"DataRange1d\"},{\"attributes\":{\"data\":{\"colors\":[\"#808080\",\"#808080\",\"#808080\",\"#08306b\",\"#808080\",\"#808080\",\"#808080\",\"#083b7c\",\"#808080\",\"#808080\",\"#808080\",\"#808080\",\"#808080\",\"#808080\",\"#808080\",\"#08458a\",\"#808080\",\"#808080\",\"#808080\",\"#808080\",\"#808080\",\"#808080\",\"#808080\",\"#808080\",\"#808080\",\"#808080\",\"#808080\",\"#808080\",\"#808080\",\"#808080\",\"#808080\",\"#808080\",\"#808080\",\"#808080\",\"#808080\",\"#808080\",\"#808080\",\"#808080\",\"#808080\",\"#808080\",\"#808080\",\"#808080\",\"#808080\",\"#808080\",\"#808080\",\"#808080\",\"#808080\",\"#808080\"],\"gene_set\":[\"TNF-alpha Signaling via NF-kB\",\"Hypoxia\",\"Cholesterol Homeostasis\",\"Mitotic Spindle\",\"Wnt-beta Catenin Signaling\",\"TGF-beta Signaling\",\"IL-6/JAK/STAT3 Signaling\",\"DNA Repair\",\"G2-M Checkpoint\",\"Apoptosis\",\"Notch Signaling\",\"Adipogenesis\",\"Estrogen Response Early\",\"Estrogen Response Late\",\"Androgen Response\",\"Myogenesis\",\"Protein Secretion\",\"Interferon Alpha Response\",\"Interferon Gamma Response\",\"Apical Junction\",\"Hedgehog Signaling\",\"Complement\",\"Unfolded Protein Response\",\"PI3K/AKT/mTOR  Signaling\",\"mTORC1 Signaling\",\"E2F Targets\",\"Myc Targets V1\",\"Myc Targets V2\",\"Epithelial Mesenchymal Transition\",\"Inflammatory Response\",\"Xenobiotic Metabolism\",\"Fatty Acid Metabolism\",\"Oxidative Phosphorylation\",\"Glycolysis\",\"Reactive Oxygen Species Pathway\",\"p53 Pathway\",\"UV Response Up\",\"UV Response Dn\",\"Angiogenesis\",\"heme Metabolism\",\"Coagulation\",\"IL-2/STAT5 Signaling\",\"Bile Acid Metabolism\",\"Pperoxisome\",\"Allograft Rejection\",\"Spermatogenesis\",\"KRAS Signaling Up\",\"KRAS Signaling Dn\"],\"odds_r\":{\"__ndarray__\":\"wj4MYIkt3T+cBvkutjLDP7lEja8Sgeo//KTldbFuAkBDUfVjxgjnP1jA7FRaRfI/OM1b6s4w1j+NObGQlDIDQJFCRQmaOPw/OirGAZKj8j/bQugScUX/P8w6eztyHPQ/wj4MYIkt3T/jh9bWBlPTP3MKU2K2hOM/4OqrwAXoAEBygOSoGAcAQN33XK+8GPo/Jz3vzbWU4z+RQkUJmjj8P0ZDOwab4eo/JkAGppyj6D+L4PwLFNT/P+7ezvdWLew/JkAGppyj6D9kPcdkPcf2P2Q9x2Q9x/Y/VS6AcUL88D893A+PwMPtPyZABqaco+g/zDp7O3Ic9D9NlajySPDoPyc97821lOM/JkAGppyj6D8S6YHK2S30Pyc97821lOM/ABKapdoB8z9ilZ0HB6T4P8Df2P8isfs/zDp7O3Ic9D8XAnLvtejLP99JljpCbNM/1tWB0KLF8T+7oHYo8i/zP8I+DGCJLd0/uDit2T5R7T/CPgxgiS3dP8I+DGCJLd0/\",\"dtype\":\"float64\",\"order\":\"little\",\"shape\":[48]},\"p_value\":{\"__ndarray__\":\"7/0p4zmm7j+C8HhNgfTvPzafeWU0TuY/EqvA38NJdT9Jv+uptxvoP1U0fZQn7+A/Ia4HrqEu7j+hRakgPT+DPyyzmMMOQ64/7Dhdt5eu2j+JbZmd0j/SPwkL4xClMdQ/7/0p4zmm7j+b92/iXafvP4AXGDOP0uo/ceabk06Eij8PithHmki3Pw13Tmp/RMo/T0N8yoFu7D8ss5jDDkOuP/Tyyvl3Z+Y/PJJT4JvI6D804qFLmNCyP4f2xtSbPeU/PJJT4JvI6D9oyf4EtCbJP2jJ/gS0Jsk/AWqekWUn4j9y68XCsQPkPzySU+CbyOg/CQvjEKUx1D+johIbsRboP09DfMqBbuw/PJJT4JvI6D8ZVgoazp7eP09DfMqBbuw/xXu9TIeV2T+WelcQ4oHHP1378wDpStU/CQvjEKUx1D/ZVKgLNKjvP3OgLeHOpO8/C4iE+6Vm3z9e+DtMOczbP+/9KeM5pu4/EJ6Eh45g5D/v/SnjOabuP+/9KeM5pu4/\",\"dtype\":\"float64\",\"order\":\"little\",\"shape\":[48]},\"sizes\":[6,6,6,12,6,6,6,12,6,6,6,6,6,6,6,12,6,6,6,6,6,6,6,6,6,6,6,6,6,6,6,6,6,6,6,6,6,6,6,6,6,6,6,6,6,6,6,6],\"x\":{\"__ndarray__\":\"wj4MYIkt3T+cBvkutjLDP7lEja8Sgeo//KTldbFuAkBDUfVjxgjnP1jA7FRaRfI/OM1b6s4w1j+NObGQlDIDQJFCRQmaOPw/OirGAZKj8j/bQugScUX/P8w6eztyHPQ/wj4MYIkt3T/jh9bWBlPTP3MKU2K2hOM/4OqrwAXoAEBygOSoGAcAQN33XK+8GPo/Jz3vzbWU4z+RQkUJmjj8P0ZDOwab4eo/JkAGppyj6D+L4PwLFNT/P+7ezvdWLew/JkAGppyj6D9kPcdkPcf2P2Q9x2Q9x/Y/VS6AcUL88D893A+PwMPtPyZABqaco+g/zDp7O3Ic9D9NlajySPDoPyc97821lOM/JkAGppyj6D8S6YHK2S30Pyc97821lOM/ABKapdoB8z9ilZ0HB6T4P8Df2P8isfs/zDp7O3Ic9D8XAnLvtejLP99JljpCbNM/1tWB0KLF8T+7oHYo8i/zP8I+DGCJLd0/uDit2T5R7T/CPgxgiS3dP8I+DGCJLd0/\",\"dtype\":\"float64\",\"order\":\"little\",\"shape\":[48]},\"y\":{\"__ndarray__\":\"zKyGNbotkz/pv7ctlPtDPyuPneT/D8Q/gXMrQBZGAkBhoZmc33u/P3QU2jBMsNE/nZVtsGMCmj/VMqYcOjcAQHKuPJdqp/M/mhFZQ0pR2D/X3NaOGHDhP3Jr4anbB+A/zKyGNbotkz+gYQGz8VlzP16Mi2xin7M/xhosoXY0/j9aBJeXtqjwP33w9VlgAuY/hFDV4zxKqj9yrjyXaqfzP/fhrfQs0cM/KLXFy4RpvD/ufI1azCPyP9/ggCYdyMY/KLXFy4RpvD/8O6mq45zmP/w7qarjnOY/vqfCI9WCzz+l31m9VhbKPyi1xcuEabw/cmvhqdsH4D/IZ541D5O/P4RQ1eM8Sqo/KLXFy4RpvD9W6dieqn3UP4RQ1eM8Sqo/xUKJYkV82T+yDcfaXI3nP10VcG6/lt4/cmvhqdsH4D8VaGv17ipzPznVMkzB6XM/kF31mInK0z9jvbmBzC3XP8yshjW6LZM/wu2TjrkWyT/MrIY1ui2TP8yshjW6LZM/\",\"dtype\":\"float64\",\"order\":\"little\",\"shape\":[48]}},\"selected\":{\"id\":\"1272\"},\"selection_policy\":{\"id\":\"1271\"}},\"id\":\"1208\",\"type\":\"ColumnDataSource\"},{\"attributes\":{},\"id\":\"1213\",\"type\":\"DataRange1d\"},{\"attributes\":{},\"id\":\"1215\",\"type\":\"LinearScale\"},{\"attributes\":{},\"id\":\"1220\",\"type\":\"BasicTicker\"},{\"attributes\":{},\"id\":\"1217\",\"type\":\"LinearScale\"},{\"attributes\":{\"axis\":{\"id\":\"1219\"},\"ticker\":null},\"id\":\"1222\",\"type\":\"Grid\"},{\"attributes\":{\"axis\":{\"id\":\"1223\"},\"dimension\":1,\"ticker\":null},\"id\":\"1226\",\"type\":\"Grid\"},{\"attributes\":{\"fill_alpha\":{\"value\":0.1},\"fill_color\":{\"field\":\"colors\"},\"line_alpha\":{\"value\":0.1},\"line_color\":{\"value\":\"#1f77b4\"},\"line_width\":{\"value\":0.01},\"size\":{\"field\":\"sizes\"},\"x\":{\"field\":\"x\"},\"y\":{\"field\":\"y\"}},\"id\":\"1239\",\"type\":\"Circle\"},{\"attributes\":{\"active_multi\":null,\"tools\":[{\"id\":\"1209\"},{\"id\":\"1227\"},{\"id\":\"1228\"},{\"id\":\"1229\"},{\"id\":\"1230\"}]},\"id\":\"1231\",\"type\":\"Toolbar\"},{\"attributes\":{},\"id\":\"1228\",\"type\":\"WheelZoomTool\"},{\"attributes\":{},\"id\":\"1224\",\"type\":\"BasicTicker\"},{\"attributes\":{},\"id\":\"1227\",\"type\":\"PanTool\"},{\"attributes\":{},\"id\":\"1229\",\"type\":\"ResetTool\"},{\"attributes\":{},\"id\":\"1230\",\"type\":\"SaveTool\"},{\"attributes\":{},\"id\":\"1266\",\"type\":\"BasicTickFormatter\"},{\"attributes\":{\"data_source\":{\"id\":\"1208\"},\"glyph\":{\"id\":\"1238\"},\"hover_glyph\":null,\"muted_glyph\":null,\"name\":\"res_df\",\"nonselection_glyph\":{\"id\":\"1239\"},\"view\":{\"id\":\"1241\"}},\"id\":\"1240\",\"type\":\"GlyphRenderer\"},{\"attributes\":{},\"id\":\"1269\",\"type\":\"BasicTickFormatter\"},{\"attributes\":{},\"id\":\"1263\",\"type\":\"Title\"},{\"attributes\":{\"source\":{\"id\":\"1208\"}},\"id\":\"1241\",\"type\":\"CDSView\"},{\"attributes\":{},\"id\":\"1265\",\"type\":\"AllLabels\"}],\"root_ids\":[\"1210\"]},\"title\":\"Bokeh Application\",\"version\":\"2.3.2\"}};\n",
       "  var render_items = [{\"docid\":\"86b904cd-c4af-44d8-8305-7af195015540\",\"root_ids\":[\"1210\"],\"roots\":{\"1210\":\"d5d909ae-2090-4bdb-b271-1dc3cc9248c9\"}}];\n",
       "  root.Bokeh.embed.embed_items_notebook(docs_json, render_items);\n",
       "\n",
       "  }\n",
       "  if (root.Bokeh !== undefined) {\n",
       "    embed_document(root);\n",
       "  } else {\n",
       "    var attempts = 0;\n",
       "    var timer = setInterval(function(root) {\n",
       "      if (root.Bokeh !== undefined) {\n",
       "        clearInterval(timer);\n",
       "        embed_document(root);\n",
       "      } else {\n",
       "        attempts++;\n",
       "        if (attempts > 100) {\n",
       "          clearInterval(timer);\n",
       "          console.log(\"Bokeh: ERROR: Unable to run BokehJS code because BokehJS library is missing\");\n",
       "        }\n",
       "      }\n",
       "    }, 10, root)\n",
       "  }\n",
       "})(window);"
      ],
      "application/vnd.bokehjs_exec.v0+json": ""
     },
     "metadata": {
      "application/vnd.bokehjs_exec.v0+json": {
       "id": "1210"
      }
     },
     "output_type": "display_data"
    }
   ],
   "source": [
    "lib_data = get_library(enrichr_library)\n",
    "if lib_data == {}:\n",
    "    display(HTML(\"<div style='font-size:1.5rem; padding:1.5rem 0;'>Failed to access Enrichr library API, please try again later.</div>\"))\n",
    "else:\n",
    "    try:\n",
    "        plot = volcano_plot(enrichr_library, lib_data)\n",
    "        show(plot)\n",
    "    except NoResults:\n",
    "        display(HTML(\"<div style='font-size:1.5rem; padding:1rem 0;'><b>Unable to display plot because there were no results returned from Enrichr</b></div>\"))\n",
    "        display(HTML(\"<div style='font-size:1rem; padding:1rem 0;'>Please try again with a different Enrichr library, or a different query gene list.\"))"
   ]
  },
  {
   "cell_type": "markdown",
   "metadata": {},
   "source": [
    "# Table of significant p-values"
   ]
  },
  {
   "cell_type": "markdown",
   "metadata": {},
   "source": [
    "A downloadable table displaying the names, p-values, and q-values of significant terms in the selected library. The `q-value` is an adjusted p-value calculated using the Benjamini-Hochberg method for correction for multiple hypotheses testing. Only the top 10 significant results are displayed in this notebook, but the full table containing all significant results can be downloaded using the *Download CSV file of the full table of significant results* link."
   ]
  },
  {
   "cell_type": "code",
   "execution_count": 17,
   "metadata": {
    "execution": {
     "iopub.execute_input": "2021-12-03T22:47:44.882231Z",
     "iopub.status.busy": "2021-12-03T22:47:44.875515Z",
     "iopub.status.idle": "2021-12-03T22:47:44.922930Z",
     "shell.execute_reply": "2021-12-03T22:47:44.922105Z"
    }
   },
   "outputs": [
    {
     "data": {
      "text/html": [
       "<strong>Table of top 10 significant p-values and q-values for MSigDB Hallmark 2020</strong>"
      ],
      "text/plain": [
       "<IPython.core.display.HTML object>"
      ]
     },
     "metadata": {},
     "output_type": "display_data"
    },
    {
     "data": {
      "text/html": [
       "<table border=\"1\" class=\"dataframe\">\n",
       "  <thead>\n",
       "    <tr style=\"text-align: right;\">\n",
       "      <th>term</th>\n",
       "      <th>p-value</th>\n",
       "      <th>q-value</th>\n",
       "      <th>overlap_genes</th>\n",
       "    </tr>\n",
       "  </thead>\n",
       "  <tbody>\n",
       "    <tr>\n",
       "      <td>Mitotic Spindle</td>\n",
       "      <td>0.007513</td>\n",
       "      <td>0.286751</td>\n",
       "      <td>[ARAP3, MYO9B, ACTN4, HOOK3, CDC42BPA, CCDC88A, CLIP1, CAPZB, EPB41L2, CENPJ, CDC27, SPTAN1, SAC3D1, CDK5RAP2]</td>\n",
       "    </tr>\n",
       "    <tr>\n",
       "      <td>DNA Repair</td>\n",
       "      <td>0.012558</td>\n",
       "      <td>0.286751</td>\n",
       "      <td>[POLA1, LIG1, ERCC8, POLL, NME4, GTF2H1, SRSF6, GTF2H3, SMAD5, SAC3D1, NME1]</td>\n",
       "    </tr>\n",
       "    <tr>\n",
       "      <td>Myogenesis</td>\n",
       "      <td>0.017922</td>\n",
       "      <td>0.286751</td>\n",
       "      <td>[MEF2A, MYOM1, FDPS, TPM3, DAPK2, TPM2, PDE4DIP, MAPK12, ABLIM1, AKT2, DMD, SPTAN1, PDLIM7]</td>\n",
       "    </tr>\n",
       "  </tbody>\n",
       "</table>"
      ],
      "text/plain": [
       "<IPython.core.display.HTML object>"
      ]
     },
     "metadata": {},
     "output_type": "display_data"
    },
    {
     "data": {
      "text/html": [
       "<a href=\"Enrichment_Analysis_Visualizer_data.csv\" target=_blank>Download CSV file of the full table of significant results</a>"
      ],
      "text/plain": [
       "<IPython.core.display.HTML object>"
      ]
     },
     "metadata": {},
     "output_type": "display_data"
    }
   ],
   "source": [
    "# Output a table of significant p-values and q-values\n",
    "\n",
    "def create_download_link(df, title = \"Download CSV file of the full table of significant results\", filename = \"Enrichment_Analysis_Visualizer_data.csv\"):  \n",
    "    csv = df.to_csv(filename, index = False)\n",
    "    html = f'<a href=\"{filename}\" target=_blank>{title}</a>'\n",
    "    return HTML(html)\n",
    "\n",
    "if len(results) > 0:\n",
    "    res_df = pd.DataFrame(results[0]).rename(columns={\n",
    "        0: 'rank',\n",
    "        1: 'term',\n",
    "        2: 'p-value',\n",
    "        3: 'zscore',\n",
    "        4: 'combined_score',\n",
    "        5: 'overlap_genes',\n",
    "        6: 'q-value'\n",
    "    })\n",
    "    sorted_res_df = res_df.sort_values(by='p-value', ascending=True)\n",
    "    filtered_res_df = sorted_res_df[sorted_res_df['p-value'] <= significance_value].reset_index()\n",
    "    display(HTML(f\"<strong>Table of top 10 significant p-values and q-values for {enrichr_library.replace('_', ' ')}</strong>\"))\n",
    "    display(HTML(filtered_res_df[['term', 'p-value', 'q-value', 'overlap_genes']][:10].to_html(index = False)))\n",
    "    display(create_download_link(filtered_res_df[['term', 'p-value', 'q-value']]))\n",
    "else:\n",
    "    display(HTML(\"<div style='font-size:1.5rem; padding:1rem 0;'><b>Unable to display table</b></div>\"))\n",
    "    display(HTML(\"<div style='font-size:1rem; padding:1rem 0;'>Please try again later, or start over with a new input list and/or library.\"))"
   ]
  },
  {
   "cell_type": "markdown",
   "metadata": {},
   "source": [
    "# Link to Enrichr"
   ]
  },
  {
   "cell_type": "code",
   "execution_count": 18,
   "metadata": {
    "execution": {
     "iopub.execute_input": "2021-12-03T22:47:44.929679Z",
     "iopub.status.busy": "2021-12-03T22:47:44.929059Z",
     "iopub.status.idle": "2021-12-03T22:47:44.937907Z",
     "shell.execute_reply": "2021-12-03T22:47:44.936667Z"
    }
   },
   "outputs": [
    {
     "data": {
      "text/html": [
       "<div style='font-size:1.25rem; padding:1rem 0;'><a href='https://maayanlab.cloud/Enrichr/enrich?dataset=289cda28a87f55b6248594ee90ed807c'>Access the complete enrichment analysis results on the Enrichr website. </a></div>"
      ],
      "text/plain": [
       "<IPython.core.display.HTML object>"
      ]
     },
     "metadata": {},
     "output_type": "display_data"
    }
   ],
   "source": [
    "# Get complete enrichment analysis results from Enrichr \n",
    "if len(results) > 0:\n",
    "    url = 'https://maayanlab.cloud/Enrichr/enrich?dataset=' + results[5]\n",
    "    display(HTML(f\"<div style='font-size:1.25rem; padding:1rem 0;'><a href='https://maayanlab.cloud/Enrichr/enrich?dataset={results[5]}'>Access the complete enrichment analysis results on the Enrichr website. </a></div>\"))\n",
    "else:\n",
    "    display(HTML(\"<div style='font-size:1.5rem; padding:1rem 0;'><b>No Enrichr results available for the current query</b></div>\"))\n",
    "    display(HTML(\"<div style='font-size:1rem; padding:1rem 0;'>Please try again with a different input list and/or library.\"))"
   ]
  }
 ],
 "metadata": {
  "appyter": {
   "info": {
    "$schema": "https://raw.githubusercontent.com/MaayanLab/appyter-catalog/master/schema/appyter-validator.json",
    "appyter": {
     "extras": [
      "hide-code",
      "toggle-code"
     ],
     "file": "Enrichment-Appyter.ipynb",
     "profile": "biojupies"
    },
    "authors": [
     {
      "email": "litzskylar@gmail.com",
      "name": "Skylar Litz"
     },
     {
      "email": "megan.wojciechowicz@icahn.mssm.edu",
      "name": "Megan L. Wojciechowicz"
     },
     {
      "email": "maxim.kuleshov@mssm.edu",
      "name": "Maxim Kuleshov"
     },
     {
      "email": "sxie04@gmail.com",
      "name": "Zhuorui (Sherry) Xie"
     },
     {
      "email": "danieljbclarkemssm@gmail.com",
      "name": "Daniel J. B. Clarke"
     },
     {
      "email": "minji.jeon1@gmail.com",
      "name": "Minji Jeon"
     }
    ],
    "description": "An appyter that displays a variety of enrichment analysis visualizations for one library.",
    "image": "featured-image.png",
    "license": "CC-BY-NC-SA-4.0",
    "name": "Enrichment_Analysis_Visualizer",
    "tags": [
     "Enrichr",
     "Enrichment Analysis"
    ],
    "title": "Enrichment Analysis Visualization Appyter",
    "url": "https://github.com/MaayanLab/appyter-catalog/tree/master/appyters/Enrichment_Analysis_Visualizer",
    "version": "0.2.5"
   },
   "nbconstruct": {
    "created": "2021-12-03T17:47:25.109866+00:00",
    "data": {
     "enrichr_library": "MSigDB_Hallmark_2020",
     "gene_list_input": "B3GALNT2\nCDK19\nACOT9\nPRELID2\nCASP8AP2\nC20ORF194\nIFT81\nUPF3A\nL1CAM\nDDX39B\nCDK10\nC19ORF48\nMPPE1\nMTMR1\nGALT\nMTMR2\nRRN3\nAL157935.3\nAKIP1\nLCAT\nSPG7\nSLAIN2\nDCAF6\nTPGS2\nPRKAA1\nPPP4R1\nKNSTRN\nMICALL1\nTMEM69\nABI3BP\nTGS1\nLUC7L\nAKT2\nSAMD11\nST3GAL3\nMARS1\nHEMK1\nSAP30BP\nPPIEL\nZNF263\nPMM2\nMTERF3\nTIGD7\nAL121594.1\nTEX14\nENTPD3-AS1\nPRRC2C\nNPLOC4\nPTP4A2\nGIGYF2\nZNF37A\nTDP1\nLGMN\nHYOU1\nSFXN5\nAL162258.1\nZNF138\nEZH2\nZNF250\nXPA\nDEDD2\nHSPH1\nALKBH3\nBLOC1S6\nEPB41L2\nALKBH1\nZNF280D\nCDK5RAP2\nC19ORF38\nSS18\nTRMT10B\nLRRC27\nSPHK2\nAL031315.1\nOFD1\nSAMD4B\nTET2\nIFT122\nC9ORF85\nLRRC23\nMRPL23\nAC090114.3\nSUMF2\nTADA2A\nNCOR2\nZEB2\nCENPJ\nSTRA6LP\nTRMO\nADGRL1\nPI4KB\nADGRL2\nRAPGEF1\nC5ORF51\nEXOC3\nLINC00963\nGAS8\nWDR27\nCHURC1-FNTB\nDENND1A\nZNF43\nABHD6\nCYB561D1\nSKA2\nHSPE1-MOB4\nMED15\nTMEM25\nTASP1\nC16ORF58\nSSR2\nLIN54\nPACSIN2\nZNF101\nWDR17\nMEF2A\nGATD1\nMBNL2\nDFFB\nDYNLL1\nPPARA\nSEPTIN2\nCSNK2A1\nGSTO2\nTPK1\nELP2\nGTF2H1\nKIDINS220\nTCAIM\nSEPTIN4\nGTF2H3\nSCAF4\nGCFC2\nPLCB4\nCLIP1\nNFIC\nRFWD3\nADAM15\nAC098484.3\nSLMAP\nNCAPD3\nZNF334\nDUBR\nSETD5\nZNF692\nMTMR14\nADAM23\nEFCAB6\nMUC20-OT1\nSCAMP5\nWRN\nMPRIP\nPWWP2A\nZNF207\nELOC\nRXYLT1\nBRD9\nDMD\nTMEM14B\nTLE4\nZNF562\nBRPF1\nARMCX5-GPRASP2\nYIPF1\nGK\nAC079781.5\nTPM3\nFAM24B\nTPM2\nEMSY\nMORF4L2\nLRCH3\nST7L\nCNOT2\nMSH5\nSRSF3\nFKBP8\nPDCD4\nSRSF6\nC8ORF31\nTNIK\nNSMAF\nKCNG1\nRAB1A\nOXNAD1\nZBTB25\nDGKB\nSLC25A40\nFAM117A\nTNC\nTSEN2\nBCL2L13\nABLIM1\nOARD1\nKIAA1841\nNSD2\nGRB14\nSLC26A10\nTPM1\nFLNC\nPMPCB\nLINC00476\nZNF664\nMAP2K4\nLRRC49\nBCAS4\nOSBPL8\nTIA1\nCCDC14\nAL445250.1\nPHKB\nWASH3P\nLRRC42\nACLY\nMED23\nAC010547.4\nZNF419\nDMXL2\nMETTL22\nZNF417\nEIF4G1\nSMS\nMDM4\nADNP\nC3ORF67\nBCAT2\nMYOM1\nAK2\nSAT2\nGLIPR2\nSCMH1\nRIMS1\nPAPOLG\nZKSCAN3\nFBRSL1\nHACL1\nZKSCAN5\nTRIM65\nMAP2K7\nSAC3D1\nSLC38A5\nAC055811.2\nREXO2\nTXNRD1\nMICAL3\nFAM207A\nCDC42BPA\nNIPSNAP2\nTPCN2\nUST\nRMND1\nZNF516\nECHDC2\nTMBIM6\nSFT2D2\nTNRC6A\nC21ORF59-TCP10L\nZNF37BP\nNSRP1\nKHDRBS3\nFAM47E-STBD1\nFAM114A2\nCELF1\nVPS4B\nPTPN21\nNDUFB2\nEFCAB11\nADAMTS17\nNPAT\nFSD1L\nDUSP11\nZNRD2\nDRAM2\nFRG1CP\nPPP6R2\nDENND3\nCAPZB\nCEP290\nNADK\nPAAF1\nC8ORF58\nSMARCC2\nADSL\nARNT\nNSMCE2\nTRAF3IP2-AS1\nAKR7L\nMYO19\nFBXL12\nNFASC\nKIAA0586\nASPH\nOCIAD1\nPABPC1L\nSLC25A14\nBET1\nLINC00342\nHDAC3\nKIAA0895L\nSYNE1\nTULP3\nRESF1\nAL359715.1\nHDAC8\nMFSD13A\nSART1\nHIRIP3\nSGCE\nHECTD2\nARRB1\nSLC25A22\nZNF844\nEIF2D\nNEPRO\nSS18L1\nSFMBT1\nACTN4\nKYAT1\nPHYKPL\nMRPS18B\nMFSD12\nLRP2BP\nSRRM1\nDCLK2\nPLEKHA8\nMFSD11\nMAPK12\nAL160269.1\nPPA2\nCDC16\nOTULIN\nSRP14-AS1\nRTCA\nPCBP1-AS1\nUPRT\nKYAT3\nRETREG3\nOBSL1\nLNC-LBCS\nWBP1\nSP100\nCCNH\nBOLA2-SMG1P6\nAKAP9\nNFS1\nHERC5\nHERC4\nDHX33\nIARS1\nCDC27\nOGFOD2\nPI4KAP2\nDHX36\nAPBB3\nATXN7L2\nRAB11FIP3\nSLC12A8\nFKTN\nSRGAP2B\nSNHG1\nPIK3CD-AS2\nPPP1R26\nANKDD1A\nCMC2\nTANGO2\nSYNRG\nCOMMD3\nANK3\nASDURF\nHSPA12A\nANK1\nSNHG5\nSNHG6\nARFGAP2\nIFI44\nGBGT1\nPTK2\nCCDC88A\nSTAG2\nSNHG12\nNDUFAF5\nINTS6\nRNPS1\nFAM66D\nNOL11\nFAM66C\nFBXL6\nRPS24\nTCERG1\nPAXIP1\nCCT6P1\nKANTR\nAC241952.2\nRCBTB2\nGOLGA4\nCHTF8\nMAATS1\nPCBP4\nSPATA5L1\nMBTD1\nINPP5K\nKIF21A\nASL\nACAD10\nSEC31A\nAP003071.5\nDECR2\nCLHC1\nAC023055.1\nZHX3\nGABBR1\nBTN3A2\nRANBP17\nNME4\nNBPF15\nNME1\nSNHG29\nPTPRE\nG2E3\nFAM193B\nZNF780B\nSGK3\nAL355385.2\nSDCCAG8\nDDR1\nATP5MD\nPTPRS\nAHCTF1\nDAZAP1\nAC058822.1\nZCCHC10\nSUZ12P1\nPTPRK\nTFB1M\nPCSK7\nLIAS\nFXR1\nPPRC1\nMAP4\nERI2\nNPIPB14P\nMAP2\nSMYD2\nDPH7\nCC2D2A\nANKRD6\nSPTBN2\nZNF585A\nZNF585B\nPRMT7\nRANBP3\nMAP4K3\nSUZ12\nMON2\nNQO2\nMYEF2\nMRPS28\nVKORC1\nAC079594.2\nPBRM1\nCCNYL1\nERBIN\nTHOC5\nMYO9B\nKIN\nPER3\nGAK\nTTC8\nNEK11\nKIZ\nTACC2\nANKRA2\nCD46\nLINC02246\nSLC66A2\nMRPS33\nTRAK2\nZDHHC3\nRPAIN\nMRPS31P4\nXPO1\nODR4\nHYAL2\nOS9\nRSRC2\nMARCHF8\nENPP2\nARIH2\nHEATR6\nSPTAN1\nAKAP10\nMARCHF7\nANKMY1\nATG9A\nHSD3B7\nPTCD3\nSUGT1P3\nLIG1\nPUS1\nSDHAP1\nMOK\nPUS7\nSDHAP3\nLRP1B\nPACRGL\nTMX3\nTMEM259\nUBXN11\nZNF74\nEHBP1L1\nYPEL5\nMPHOSPH9\nADCY10P1\nNOL3\nNDRG4\nTAMM41\nNAPA\nNOL8\nWASHC2C\nRBM4B\nPRUNE1\nUBE3A\nUBE3C\nARHGAP39\nCAAP1\nATP2C1\nWASHC2A\nAURKB\nTIMM50\nARHGAP44\nZNF81\nGPC2\nSTX16-NPEPL1\nTRAPPC12\nBANF1\nEP400\nNPHP4\nNLRP1\nPAK4\nBORCS8\nRPP14\nPDE8A\nCLASP2\nREPS1\nPPFIA3\nFDPS\nTTC38\nSMAD5\nAC107871.1\nMANBA\nAP003108.2\nMINK1\nTBCE\nASPSCR1\nDDX55\nCTPS1\nSMAD9\nCCNB1IP1\nPDIA5\nZNF90\nARHGAP12\nMAP7D3\nCARD19\nCLASRP\nRSRP1\nPDE9A\nKIAA1191\nAKNA\nCOPA\nPXK\nDYRK3\nUTP25\nCCDC125\nPDS5B\nENTPD1-AS1\nCOP1\nNDEL1\nZC3H14\nRPP38\nMARK2\nUSP25\nGUSBP1\nSUN1\nUSP28\nSMURF1\nRBM19\nARAP3\nPEX1\nAL139011.2\nARAP1\nIQCE\nYY1AP1\nCLK4\nSPIDR\nDNM2\nSENP2\nPOLA1\nIFT43\nCLK1\nVCAN\nIRF1\nFAM189B\nCLCN6\nHOOK3\nACOX3\nPEX7\nNUP58\nIRF7\nATG4A\nCUEDC1\nTPT1-AS1\nRTN4\nTTC27\nNAA20\nRTN2\nUSP32\nUBA7\nAC091551.1\nUBA6\nSMG1P3\nUSP34\nNRXN2\nUSP35\nDTX2\nAGAP4\nARHGEF10L\nTAZ\nAGPAT4\nPHTF1\nAFG3L1P\nSPAST\nCASP8\nDPP9\nCASP6\nMKNK1\nZC3H7A\nCFAP44\nGLIDR\nPDLIM7\nRBM39\nTIMM8B\nDAPK2\nPDE4DIP\nPPP2R3C\nWARS2\nU2SURP\nTBC1D1\nSMUG1\nFMNL3\nFCSK\nRPS6KB2\nRPS6KB1\nERCC8\nACIN1\nMATR3\nUSP10\nDCTN2\nTM2D1\nNADSYN1\nFLCN\nRBM4\nACAN\nOGFRL1\nCD27-AS1\nRBM3\nTRA2A\nPPP2R1B\nIFT52\nTDG\nTRA2B\nPOLL\nPSTK\nCCDC163",
     "gene_list_kind": "Paste",
     "section1": null,
     "section2": null
    },
    "filename": "Enrichment-Appyter.ipynb",
    "files": {},
    "version": "0.18.3"
   },
   "nbexecute": {
    "completed": "2021-12-03T17:47:45.442748+00:00",
    "files": {
     "Enrichment_Analysis_Visualizer_data.csv": "Enrichment_Analysis_Visualizer_data.csv",
     "Enrichr_results_bar.png": "Enrichr_results_bar.png",
     "Enrichr_results_bar.svg": "Enrichr_results_bar.svg"
    },
    "started": "2021-12-03T17:47:33.633194+00:00",
    "version": "0.18.3"
   }
  },
  "interpreter": {
   "hash": "ae02de43a7a1893656bc45d2b0007624c64abadb1f146ae593b6588f2192c0f4"
  },
  "kernelspec": {
   "display_name": "Python 3.8.10 64-bit ('scatterenv': conda)",
   "name": "python3"
  },
  "language_info": {
   "codemirror_mode": {
    "name": "ipython",
    "version": 3
   },
   "file_extension": ".py",
   "mimetype": "text/x-python",
   "name": "python",
   "nbconvert_exporter": "python",
   "pygments_lexer": "ipython3",
   "version": "3.8.10"
  }
 },
 "nbformat": 4,
 "nbformat_minor": 4
}
